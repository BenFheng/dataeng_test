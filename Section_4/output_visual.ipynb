{
 "cells": [
  {
   "cell_type": "code",
   "execution_count": 30,
   "source": [
    "import requests\n",
    "import pandas as pd\n",
    "from pandas import read_csv\n",
    "from matplotlib import pyplot as plt\n",
    "import seaborn as sns"
   ],
   "outputs": [],
   "metadata": {}
  },
  {
   "cell_type": "markdown",
   "source": [
    "## Call API and get data for SG covid cases, with the range starting from when life turned upside down (the start)"
   ],
   "metadata": {}
  },
  {
   "cell_type": "code",
   "execution_count": 31,
   "source": [
    "# GET request returns a JSON\n",
    "url = \"https://api.covid19api.com/total/country/singapore/status/confirmed\"\n",
    "response_range_all = requests.get(url)"
   ],
   "outputs": [],
   "metadata": {}
  },
  {
   "cell_type": "code",
   "execution_count": 32,
   "source": [
    "#Convert JSON into dataframe for easier plotting\n",
    "sg_covid_cases_all = pd.DataFrame(response_range_all.json())\n",
    "sg_covid_cases_all.head()"
   ],
   "outputs": [
    {
     "output_type": "execute_result",
     "data": {
      "text/html": [
       "<div>\n",
       "<style scoped>\n",
       "    .dataframe tbody tr th:only-of-type {\n",
       "        vertical-align: middle;\n",
       "    }\n",
       "\n",
       "    .dataframe tbody tr th {\n",
       "        vertical-align: top;\n",
       "    }\n",
       "\n",
       "    .dataframe thead th {\n",
       "        text-align: right;\n",
       "    }\n",
       "</style>\n",
       "<table border=\"1\" class=\"dataframe\">\n",
       "  <thead>\n",
       "    <tr style=\"text-align: right;\">\n",
       "      <th></th>\n",
       "      <th>Country</th>\n",
       "      <th>CountryCode</th>\n",
       "      <th>Province</th>\n",
       "      <th>City</th>\n",
       "      <th>CityCode</th>\n",
       "      <th>Lat</th>\n",
       "      <th>Lon</th>\n",
       "      <th>Cases</th>\n",
       "      <th>Status</th>\n",
       "      <th>Date</th>\n",
       "    </tr>\n",
       "  </thead>\n",
       "  <tbody>\n",
       "    <tr>\n",
       "      <th>0</th>\n",
       "      <td>Singapore</td>\n",
       "      <td></td>\n",
       "      <td></td>\n",
       "      <td></td>\n",
       "      <td></td>\n",
       "      <td>0</td>\n",
       "      <td>0</td>\n",
       "      <td>0</td>\n",
       "      <td>confirmed</td>\n",
       "      <td>2020-01-22T00:00:00Z</td>\n",
       "    </tr>\n",
       "    <tr>\n",
       "      <th>1</th>\n",
       "      <td>Singapore</td>\n",
       "      <td></td>\n",
       "      <td></td>\n",
       "      <td></td>\n",
       "      <td></td>\n",
       "      <td>0</td>\n",
       "      <td>0</td>\n",
       "      <td>1</td>\n",
       "      <td>confirmed</td>\n",
       "      <td>2020-01-23T00:00:00Z</td>\n",
       "    </tr>\n",
       "    <tr>\n",
       "      <th>2</th>\n",
       "      <td>Singapore</td>\n",
       "      <td></td>\n",
       "      <td></td>\n",
       "      <td></td>\n",
       "      <td></td>\n",
       "      <td>0</td>\n",
       "      <td>0</td>\n",
       "      <td>3</td>\n",
       "      <td>confirmed</td>\n",
       "      <td>2020-01-24T00:00:00Z</td>\n",
       "    </tr>\n",
       "    <tr>\n",
       "      <th>3</th>\n",
       "      <td>Singapore</td>\n",
       "      <td></td>\n",
       "      <td></td>\n",
       "      <td></td>\n",
       "      <td></td>\n",
       "      <td>0</td>\n",
       "      <td>0</td>\n",
       "      <td>3</td>\n",
       "      <td>confirmed</td>\n",
       "      <td>2020-01-25T00:00:00Z</td>\n",
       "    </tr>\n",
       "    <tr>\n",
       "      <th>4</th>\n",
       "      <td>Singapore</td>\n",
       "      <td></td>\n",
       "      <td></td>\n",
       "      <td></td>\n",
       "      <td></td>\n",
       "      <td>0</td>\n",
       "      <td>0</td>\n",
       "      <td>4</td>\n",
       "      <td>confirmed</td>\n",
       "      <td>2020-01-26T00:00:00Z</td>\n",
       "    </tr>\n",
       "  </tbody>\n",
       "</table>\n",
       "</div>"
      ],
      "text/plain": [
       "     Country CountryCode Province City CityCode Lat Lon  Cases     Status  \\\n",
       "0  Singapore                                      0   0      0  confirmed   \n",
       "1  Singapore                                      0   0      1  confirmed   \n",
       "2  Singapore                                      0   0      3  confirmed   \n",
       "3  Singapore                                      0   0      3  confirmed   \n",
       "4  Singapore                                      0   0      4  confirmed   \n",
       "\n",
       "                   Date  \n",
       "0  2020-01-22T00:00:00Z  \n",
       "1  2020-01-23T00:00:00Z  \n",
       "2  2020-01-24T00:00:00Z  \n",
       "3  2020-01-25T00:00:00Z  \n",
       "4  2020-01-26T00:00:00Z  "
      ]
     },
     "metadata": {},
     "execution_count": 32
    }
   ],
   "metadata": {}
  },
  {
   "cell_type": "code",
   "execution_count": 33,
   "source": [
    "#Convert to date type for easier viewing\n",
    "sg_covid_cases_all[\"Date\"] = pd.to_datetime(sg_covid_cases_all[\"Date\"])"
   ],
   "outputs": [],
   "metadata": {}
  },
  {
   "cell_type": "code",
   "execution_count": 42,
   "source": [
    "#Plot cases over time\n",
    "plt.figure(figsize=[24, 8])\n",
    "plt.title(\"Total COVID cases in Singapore since the start\")\n",
    "sns.lineplot(data=sg_covid_cases_all, x=\"Date\", y=\"Cases\" ,markers=True, dashes=False)\n",
    "plt.show()"
   ],
   "outputs": [
    {
     "output_type": "display_data",
     "data": {
      "image/png": "[encoded data removed]",
      "text/plain": [
       "<Figure size 1728x576 with 1 Axes>"
      ]
     },
     "metadata": {
      "needs_background": "light"
     }
    }
   ],
   "metadata": {}
  },
  {
   "cell_type": "markdown",
   "source": [
    "## Call API and get data for SG covid cases, with the range starting from September to October 2021"
   ],
   "metadata": {}
  },
  {
   "cell_type": "code",
   "execution_count": 35,
   "source": [
    "date_from = \"2021-09-01T00:00:00Z\"\n",
    "date_until = \"2021-10-01T00:00:00Z\"\n",
    "url_date_range = f\"https://api.covid19api.com/country/singapore/status/confirmed?from={date_from}&to={date_until}\"\n",
    "response_date_range = requests.get(url_date_range)"
   ],
   "outputs": [],
   "metadata": {}
  },
  {
   "cell_type": "code",
   "execution_count": 36,
   "source": [
    "sg_covid_cases_sep21_oct21 = pd.DataFrame(response_date_range.json())\n",
    "sg_covid_cases_sep21_oct21 .head()"
   ],
   "outputs": [
    {
     "output_type": "execute_result",
     "data": {
      "text/html": [
       "<div>\n",
       "<style scoped>\n",
       "    .dataframe tbody tr th:only-of-type {\n",
       "        vertical-align: middle;\n",
       "    }\n",
       "\n",
       "    .dataframe tbody tr th {\n",
       "        vertical-align: top;\n",
       "    }\n",
       "\n",
       "    .dataframe thead th {\n",
       "        text-align: right;\n",
       "    }\n",
       "</style>\n",
       "<table border=\"1\" class=\"dataframe\">\n",
       "  <thead>\n",
       "    <tr style=\"text-align: right;\">\n",
       "      <th></th>\n",
       "      <th>Country</th>\n",
       "      <th>CountryCode</th>\n",
       "      <th>Province</th>\n",
       "      <th>City</th>\n",
       "      <th>CityCode</th>\n",
       "      <th>Lat</th>\n",
       "      <th>Lon</th>\n",
       "      <th>Cases</th>\n",
       "      <th>Status</th>\n",
       "      <th>Date</th>\n",
       "    </tr>\n",
       "  </thead>\n",
       "  <tbody>\n",
       "    <tr>\n",
       "      <th>0</th>\n",
       "      <td>Singapore</td>\n",
       "      <td>SG</td>\n",
       "      <td></td>\n",
       "      <td></td>\n",
       "      <td></td>\n",
       "      <td>1.35</td>\n",
       "      <td>103.82</td>\n",
       "      <td>67800</td>\n",
       "      <td>confirmed</td>\n",
       "      <td>2021-09-01T00:00:00Z</td>\n",
       "    </tr>\n",
       "    <tr>\n",
       "      <th>1</th>\n",
       "      <td>Singapore</td>\n",
       "      <td>SG</td>\n",
       "      <td></td>\n",
       "      <td></td>\n",
       "      <td></td>\n",
       "      <td>1.35</td>\n",
       "      <td>103.82</td>\n",
       "      <td>67991</td>\n",
       "      <td>confirmed</td>\n",
       "      <td>2021-09-02T00:00:00Z</td>\n",
       "    </tr>\n",
       "    <tr>\n",
       "      <th>2</th>\n",
       "      <td>Singapore</td>\n",
       "      <td>SG</td>\n",
       "      <td></td>\n",
       "      <td></td>\n",
       "      <td></td>\n",
       "      <td>1.35</td>\n",
       "      <td>103.82</td>\n",
       "      <td>68210</td>\n",
       "      <td>confirmed</td>\n",
       "      <td>2021-09-03T00:00:00Z</td>\n",
       "    </tr>\n",
       "    <tr>\n",
       "      <th>3</th>\n",
       "      <td>Singapore</td>\n",
       "      <td>SG</td>\n",
       "      <td></td>\n",
       "      <td></td>\n",
       "      <td></td>\n",
       "      <td>1.35</td>\n",
       "      <td>103.82</td>\n",
       "      <td>68469</td>\n",
       "      <td>confirmed</td>\n",
       "      <td>2021-09-04T00:00:00Z</td>\n",
       "    </tr>\n",
       "    <tr>\n",
       "      <th>4</th>\n",
       "      <td>Singapore</td>\n",
       "      <td>SG</td>\n",
       "      <td></td>\n",
       "      <td></td>\n",
       "      <td></td>\n",
       "      <td>1.35</td>\n",
       "      <td>103.82</td>\n",
       "      <td>68660</td>\n",
       "      <td>confirmed</td>\n",
       "      <td>2021-09-05T00:00:00Z</td>\n",
       "    </tr>\n",
       "  </tbody>\n",
       "</table>\n",
       "</div>"
      ],
      "text/plain": [
       "     Country CountryCode Province City CityCode   Lat     Lon  Cases  \\\n",
       "0  Singapore          SG                         1.35  103.82  67800   \n",
       "1  Singapore          SG                         1.35  103.82  67991   \n",
       "2  Singapore          SG                         1.35  103.82  68210   \n",
       "3  Singapore          SG                         1.35  103.82  68469   \n",
       "4  Singapore          SG                         1.35  103.82  68660   \n",
       "\n",
       "      Status                  Date  \n",
       "0  confirmed  2021-09-01T00:00:00Z  \n",
       "1  confirmed  2021-09-02T00:00:00Z  \n",
       "2  confirmed  2021-09-03T00:00:00Z  \n",
       "3  confirmed  2021-09-04T00:00:00Z  \n",
       "4  confirmed  2021-09-05T00:00:00Z  "
      ]
     },
     "metadata": {},
     "execution_count": 36
    }
   ],
   "metadata": {}
  },
  {
   "cell_type": "code",
   "execution_count": 37,
   "source": [
    "#Convert to date type for easier viewing\n",
    "sg_covid_cases_sep21_oct21[\"Date\"] = pd.to_datetime(sg_covid_cases_sep21_oct21[\"Date\"])"
   ],
   "outputs": [],
   "metadata": {}
  },
  {
   "cell_type": "code",
   "execution_count": 43,
   "source": [
    "#Plot cases over time\n",
    "plt.figure(figsize=[24, 8])\n",
    "plt.title(\"Total COVID cases in Singapore from 1 Jan 2021 to 1 October 2021\")\n",
    "sns.lineplot(data=sg_covid_cases_sep21_oct21, x=\"Date\", y=\"Cases\" ,markers=True, dashes=False)\n",
    "plt.show()"
   ],
   "outputs": [
    {
     "output_type": "display_data",
     "data": {
      "image/png": "[encoded data removed]",
      "text/plain": [
       "<Figure size 1728x576 with 1 Axes>"
      ]
     },
     "metadata": {
      "needs_background": "light"
     }
    }
   ],
   "metadata": {}
  },
  {
   "cell_type": "code",
   "execution_count": 39,
   "source": [],
   "outputs": [],
   "metadata": {}
  }
 ],
 "metadata": {
  "orig_nbformat": 4,
  "language_info": {
   "name": "python",
   "version": "3.8.3",
   "mimetype": "text/x-python",
   "codemirror_mode": {
    "name": "ipython",
    "version": 3
   },
   "pygments_lexer": "ipython3",
   "nbconvert_exporter": "python",
   "file_extension": ".py"
  },
  "kernelspec": {
   "name": "python3",
   "display_name": "Python 3.8.3 64-bit ('base': conda)"
  },
  "interpreter": {
   "hash": "0fcdcc15c19eb8a1b50217d971eb563189d13a6dc3a2f5aeef960c66bb109ac9"
  }
 },
 "nbformat": 4,
 "nbformat_minor": 2
}