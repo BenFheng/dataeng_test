{
 "cells": [
  {
   "cell_type": "markdown",
   "source": [
    "### Import Packages"
   ],
   "metadata": {}
  },
  {
   "cell_type": "code",
   "execution_count": 148,
   "source": [
    "import pandas as pd\n",
    "import numpy as np\n",
    "import math\n",
    "import matplotlib.pyplot as plt\n",
    "import seaborn as sns\n",
    "from sklearn import metrics\n",
    "from sklearn.model_selection import train_test_split\n",
    "from sklearn.model_selection import GridSearchCV\n",
    "from sklearn.linear_model import LogisticRegression\n",
    "from sklearn.neighbors import KNeighborsClassifier\n",
    "from sklearn.ensemble import GradientBoostingClassifier\n",
    "from sklearn.ensemble import RandomForestClassifier\n",
    "from sklearn.naive_bayes import GaussianNB\n",
    "from sklearn.svm import SVC"
   ],
   "outputs": [],
   "metadata": {}
  },
  {
   "cell_type": "markdown",
   "source": [
    "### Import Data"
   ],
   "metadata": {}
  },
  {
   "cell_type": "code",
   "execution_count": 30,
   "source": [
    "train_data = pd.read_csv(\"car.data\", header=None)\n",
    "train_data.columns = [\"buying\", \"maint\", \"doors\", \"persons\", \"lug_boot\", \"safety\", \"class\"]"
   ],
   "outputs": [],
   "metadata": {}
  },
  {
   "cell_type": "code",
   "execution_count": null,
   "source": [
    "train_data.head()"
   ],
   "outputs": [],
   "metadata": {}
  },
  {
   "cell_type": "code",
   "execution_count": null,
   "source": [
    "len(train_data)"
   ],
   "outputs": [],
   "metadata": {}
  },
  {
   "cell_type": "markdown",
   "source": [
    "#### Modify buying\n",
    "\n",
    "1 - vhigh <br>\n",
    "2 - high <br>\n",
    "3 - med <br>\n",
    "4 - low <br>"
   ],
   "metadata": {}
  },
  {
   "cell_type": "code",
   "execution_count": null,
   "source": [
    "train_data['buying'].unique()"
   ],
   "outputs": [],
   "metadata": {}
  },
  {
   "cell_type": "code",
   "execution_count": 34,
   "source": [
    "new_buying = []\n",
    "for i in range(0, len(train_data)) :\n",
    "    if train_data['buying'][i] == 'vhigh' :\n",
    "        new_buying.append(1)\n",
    "    elif train_data['buying'][i] == 'high' :\n",
    "        new_buying.append(2)\n",
    "    elif train_data['buying'][i] == 'med' :\n",
    "        new_buying.append(3)\n",
    "    elif train_data['buying'][i] == 'low' :\n",
    "        new_buying.append(4)\n",
    "train_data['buying'] = new_buying"
   ],
   "outputs": [],
   "metadata": {}
  },
  {
   "cell_type": "markdown",
   "source": [
    "#### Modify maint\n",
    "\n",
    "1 - vhigh <br>\n",
    "2 - high <br>\n",
    "3 - med <br>\n",
    "4 - low <br>"
   ],
   "metadata": {}
  },
  {
   "cell_type": "code",
   "execution_count": 35,
   "source": [
    "train_data['maint'].unique()"
   ],
   "outputs": [
    {
     "output_type": "execute_result",
     "data": {
      "text/plain": [
       "array(['vhigh', 'high', 'med', 'low'], dtype=object)"
      ]
     },
     "metadata": {},
     "execution_count": 35
    }
   ],
   "metadata": {}
  },
  {
   "cell_type": "code",
   "execution_count": 36,
   "source": [
    "new_maint = []\n",
    "for i in range(0, len(train_data)) :\n",
    "    if train_data['maint'][i] == 'vhigh' :\n",
    "        new_maint.append(1)\n",
    "    elif train_data['maint'][i] == 'high' :\n",
    "        new_maint.append(2)\n",
    "    elif train_data['maint'][i] == 'med' :\n",
    "        new_maint.append(3)\n",
    "    elif train_data['maint'][i] == 'low' :\n",
    "        new_maint.append(4)\n",
    "train_data['maint'] = new_maint"
   ],
   "outputs": [],
   "metadata": {}
  },
  {
   "cell_type": "markdown",
   "source": [
    "#### Modify doors\n",
    "\n",
    "5 - 5more"
   ],
   "metadata": {}
  },
  {
   "cell_type": "code",
   "execution_count": 52,
   "source": [
    "train_data['doors'].unique()"
   ],
   "outputs": [
    {
     "output_type": "execute_result",
     "data": {
      "text/plain": [
       "array(['2', '3', '4', '5more'], dtype=object)"
      ]
     },
     "metadata": {},
     "execution_count": 52
    }
   ],
   "metadata": {}
  },
  {
   "cell_type": "code",
   "execution_count": 72,
   "source": [
    "new_doors = []\n",
    "for i in range(0, len(train_data)) :\n",
    "    if train_data['doors'][i] == '5more' :\n",
    "        new_doors.append(5)\n",
    "    else :\n",
    "        new_doors.append(int(train_data['doors'][i]))\n",
    "train_data['doors'] = new_doors"
   ],
   "outputs": [],
   "metadata": {}
  },
  {
   "cell_type": "markdown",
   "source": [
    "#### Modify persons\n",
    "5 = more"
   ],
   "metadata": {}
  },
  {
   "cell_type": "code",
   "execution_count": 53,
   "source": [
    "train_data['persons'].unique()"
   ],
   "outputs": [
    {
     "output_type": "execute_result",
     "data": {
      "text/plain": [
       "array(['2', '4', 'more'], dtype=object)"
      ]
     },
     "metadata": {},
     "execution_count": 53
    }
   ],
   "metadata": {}
  },
  {
   "cell_type": "code",
   "execution_count": 73,
   "source": [
    "new_persons = []\n",
    "for i in range(0, len(train_data)) :\n",
    "    if train_data['persons'][i] == 'more' :\n",
    "        new_persons.append(5)\n",
    "    else :\n",
    "        new_persons.append(int(train_data['persons'][i]))\n",
    "train_data['persons'] = new_persons"
   ],
   "outputs": [],
   "metadata": {}
  },
  {
   "cell_type": "markdown",
   "source": [
    "####  Modify lug_boot\n",
    "\n",
    "1 = big <br>\n",
    "2 = med <br>\n",
    "3 - small <br>"
   ],
   "metadata": {}
  },
  {
   "cell_type": "code",
   "execution_count": 37,
   "source": [
    "train_data['lug_boot'].unique()"
   ],
   "outputs": [
    {
     "output_type": "execute_result",
     "data": {
      "text/plain": [
       "array(['small', 'med', 'big'], dtype=object)"
      ]
     },
     "metadata": {},
     "execution_count": 37
    }
   ],
   "metadata": {}
  },
  {
   "cell_type": "code",
   "execution_count": 38,
   "source": [
    "new_lug_boot = []\n",
    "for i in range(0, len(train_data)) :\n",
    "    if train_data['lug_boot'][i] == 'big' :\n",
    "        new_lug_boot.append(1)\n",
    "    elif train_data['lug_boot'][i] == 'med' :\n",
    "        new_lug_boot.append(2)\n",
    "    elif train_data['lug_boot'][i] == 'small' :\n",
    "        new_lug_boot.append(3)\n",
    "train_data['lug_boot'] = new_lug_boot"
   ],
   "outputs": [],
   "metadata": {}
  },
  {
   "cell_type": "markdown",
   "source": [
    "#### Modify safety\n",
    "\n",
    "1- high <br>\n",
    "2 - med <br>\n",
    "3 - low <br>"
   ],
   "metadata": {}
  },
  {
   "cell_type": "code",
   "execution_count": 39,
   "source": [
    "train_data['safety'].unique()"
   ],
   "outputs": [
    {
     "output_type": "execute_result",
     "data": {
      "text/plain": [
       "array(['low', 'med', 'high'], dtype=object)"
      ]
     },
     "metadata": {},
     "execution_count": 39
    }
   ],
   "metadata": {}
  },
  {
   "cell_type": "code",
   "execution_count": 40,
   "source": [
    "new_safety = []\n",
    "for i in range(0, len(train_data)) :\n",
    "    if train_data['safety'][i] == 'high' :\n",
    "        new_safety.append(1)\n",
    "    elif train_data['safety'][i] == 'med' :\n",
    "        new_safety.append(2)\n",
    "    elif train_data['safety'][i] == 'low' :\n",
    "        new_safety.append(3)\n",
    "train_data['safety'] = new_safety"
   ],
   "outputs": [],
   "metadata": {}
  },
  {
   "cell_type": "markdown",
   "source": [
    "#### Modify class\n",
    "\n",
    "1 - vgood <br>\n",
    "2 - good <br>\n",
    "3 - acc <br>\n",
    "4 - unacc <br>"
   ],
   "metadata": {}
  },
  {
   "cell_type": "code",
   "execution_count": 41,
   "source": [
    "train_data['class'].unique()"
   ],
   "outputs": [
    {
     "output_type": "execute_result",
     "data": {
      "text/plain": [
       "array(['unacc', 'acc', 'vgood', 'good'], dtype=object)"
      ]
     },
     "metadata": {},
     "execution_count": 41
    }
   ],
   "metadata": {}
  },
  {
   "cell_type": "code",
   "execution_count": 42,
   "source": [
    "new_class = []\n",
    "for i in range(0, len(train_data)) :\n",
    "    if train_data['class'][i] == 'vgood' :\n",
    "        new_class.append(1)\n",
    "    elif train_data['class'][i] == 'good' :\n",
    "        new_class.append(2)\n",
    "    elif train_data['class'][i] == 'acc' :\n",
    "        new_class.append(3)\n",
    "    elif train_data['class'][i] == 'unacc' :\n",
    "        new_class.append(4)\n",
    "train_data['class'] = new_class"
   ],
   "outputs": [],
   "metadata": {}
  },
  {
   "cell_type": "markdown",
   "source": [
    "#### New dataframe"
   ],
   "metadata": {}
  },
  {
   "cell_type": "code",
   "execution_count": 74,
   "source": [
    "train_data.head()"
   ],
   "outputs": [
    {
     "output_type": "execute_result",
     "data": {
      "text/html": [
       "<div>\n",
       "<style scoped>\n",
       "    .dataframe tbody tr th:only-of-type {\n",
       "        vertical-align: middle;\n",
       "    }\n",
       "\n",
       "    .dataframe tbody tr th {\n",
       "        vertical-align: top;\n",
       "    }\n",
       "\n",
       "    .dataframe thead th {\n",
       "        text-align: right;\n",
       "    }\n",
       "</style>\n",
       "<table border=\"1\" class=\"dataframe\">\n",
       "  <thead>\n",
       "    <tr style=\"text-align: right;\">\n",
       "      <th></th>\n",
       "      <th>buy_price</th>\n",
       "      <th>maint</th>\n",
       "      <th>doors</th>\n",
       "      <th>persons</th>\n",
       "      <th>lug_boot</th>\n",
       "      <th>safety</th>\n",
       "      <th>class</th>\n",
       "    </tr>\n",
       "  </thead>\n",
       "  <tbody>\n",
       "    <tr>\n",
       "      <th>0</th>\n",
       "      <td>1</td>\n",
       "      <td>1</td>\n",
       "      <td>2</td>\n",
       "      <td>2</td>\n",
       "      <td>3</td>\n",
       "      <td>3</td>\n",
       "      <td>4</td>\n",
       "    </tr>\n",
       "    <tr>\n",
       "      <th>1</th>\n",
       "      <td>1</td>\n",
       "      <td>1</td>\n",
       "      <td>2</td>\n",
       "      <td>2</td>\n",
       "      <td>3</td>\n",
       "      <td>2</td>\n",
       "      <td>4</td>\n",
       "    </tr>\n",
       "    <tr>\n",
       "      <th>2</th>\n",
       "      <td>1</td>\n",
       "      <td>1</td>\n",
       "      <td>2</td>\n",
       "      <td>2</td>\n",
       "      <td>3</td>\n",
       "      <td>1</td>\n",
       "      <td>4</td>\n",
       "    </tr>\n",
       "    <tr>\n",
       "      <th>3</th>\n",
       "      <td>1</td>\n",
       "      <td>1</td>\n",
       "      <td>2</td>\n",
       "      <td>2</td>\n",
       "      <td>2</td>\n",
       "      <td>3</td>\n",
       "      <td>4</td>\n",
       "    </tr>\n",
       "    <tr>\n",
       "      <th>4</th>\n",
       "      <td>1</td>\n",
       "      <td>1</td>\n",
       "      <td>2</td>\n",
       "      <td>2</td>\n",
       "      <td>2</td>\n",
       "      <td>2</td>\n",
       "      <td>4</td>\n",
       "    </tr>\n",
       "  </tbody>\n",
       "</table>\n",
       "</div>"
      ],
      "text/plain": [
       "   buy_price  maint  doors  persons  lug_boot  safety  class\n",
       "0          1      1      2        2         3       3      4\n",
       "1          1      1      2        2         3       2      4\n",
       "2          1      1      2        2         3       1      4\n",
       "3          1      1      2        2         2       3      4\n",
       "4          1      1      2        2         2       2      4"
      ]
     },
     "metadata": {},
     "execution_count": 74
    }
   ],
   "metadata": {
    "scrolled": true
   }
  },
  {
   "cell_type": "markdown",
   "source": [
    "### Prepare logging dataframe"
   ],
   "metadata": {}
  },
  {
   "cell_type": "code",
   "execution_count": 98,
   "source": [
    "log_model = []\n",
    "log_accuracy = []\n",
    "log_precision = []\n",
    "log_recall = []\n",
    "log_cnf_matrix = []\n",
    "\n",
    "def update_log(model, accuracy, precision, recall, cnf_matrix) :\n",
    "    log_model.append(model)\n",
    "    log_accuracy.append(accuracy)\n",
    "    log_precision.append(precision)\n",
    "    log_recall.append(recall)\n",
    "    log_cnf_matrix.append(cnf_matrix)"
   ],
   "outputs": [],
   "metadata": {}
  },
  {
   "cell_type": "markdown",
   "source": [
    "### Results Preparation"
   ],
   "metadata": {}
  },
  {
   "cell_type": "code",
   "execution_count": 99,
   "source": [
    "def print_cnf_matrix(cnf_matrix) :\n",
    "    class_names=[1, 2, 3, 4] # name  of classes\n",
    "    fig, ax = plt.subplots()\n",
    "    tick_marks = np.arange(len(class_names))\n",
    "    plt.xticks(tick_marks, class_names)\n",
    "    plt.yticks(tick_marks, class_names)\n",
    "    # create heatmap\n",
    "    sns.heatmap(pd.DataFrame(cnf_matrix), annot=True, cmap=\"YlGnBu\" ,fmt='g')\n",
    "    ax.xaxis.set_label_position(\"top\")\n",
    "    plt.tight_layout()\n",
    "    plt.title('Confusion matrix', y=1.1)\n",
    "    plt.ylabel('Actual label')\n",
    "    plt.xlabel('Predicted label')"
   ],
   "outputs": [],
   "metadata": {}
  },
  {
   "cell_type": "code",
   "execution_count": 100,
   "source": [
    "def results(model_name, y_pred) :\n",
    "    accuracy = metrics.accuracy_score(y_test, y_pred)\n",
    "    precision = metrics.precision_score(y_test, y_pred, average='micro')\n",
    "    recall = metrics.recall_score(y_test, y_pred, average='micro')\n",
    "    cnf_matrix = metrics.confusion_matrix(y_test, y_pred)\n",
    "\n",
    "    update_log(model_name, accuracy, precision, recall, cnf_matrix)\n",
    "\n",
    "    print(\"Accuracy:\", accuracy)\n",
    "    print(\"Precision:\", precision)\n",
    "    print(\"Recall:\", recall)\n",
    "    print(\"Confusion Matrix:\", cnf_matrix)\n",
    "    \n",
    "    print_cnf_matrix(cnf_matrix)"
   ],
   "outputs": [],
   "metadata": {}
  },
  {
   "cell_type": "markdown",
   "source": [
    "### Split data into Train and Test"
   ],
   "metadata": {}
  },
  {
   "cell_type": "code",
   "execution_count": 101,
   "source": [
    "X_train, X_test, y_train, y_test = train_test_split(train_data[['maint', 'doors', 'persons', 'lug_boot', 'safety', 'class']], train_data['buying'], test_size=0.3, random_state=42)"
   ],
   "outputs": [],
   "metadata": {}
  },
  {
   "cell_type": "markdown",
   "source": [
    "### Model 1: Logistic Regression"
   ],
   "metadata": {}
  },
  {
   "cell_type": "code",
   "execution_count": 102,
   "source": [
    "model_logreg = LogisticRegression()\n",
    "model_logreg.fit(X_train, y_train)\n",
    "y_pred_logreg = model_logreg.predict(X_test)\n",
    "\n",
    "results(\"Logistic Regression\", y_pred_logreg)"
   ],
   "outputs": [
    {
     "output_type": "stream",
     "name": "stdout",
     "text": [
      "Accuracy: 0.32947976878612717\n",
      "Precision: 0.32947976878612717\n",
      "Recall: 0.32947976878612717\n",
      "Confusion Matrix: [[63 22 22 20]\n",
      " [57 23 31 22]\n",
      " [35 14 32 43]\n",
      " [38 11 33 53]]\n"
     ]
    },
    {
     "output_type": "stream",
     "name": "stderr",
     "text": [
      "/Users/risalim/opt/anaconda3/lib/python3.8/site-packages/sklearn/linear_model/_logistic.py:763: ConvergenceWarning: lbfgs failed to converge (status=1):\n",
      "STOP: TOTAL NO. of ITERATIONS REACHED LIMIT.\n",
      "\n",
      "Increase the number of iterations (max_iter) or scale the data as shown in:\n",
      "    https://scikit-learn.org/stable/modules/preprocessing.html\n",
      "Please also refer to the documentation for alternative solver options:\n",
      "    https://scikit-learn.org/stable/modules/linear_model.html#logistic-regression\n",
      "  n_iter_i = _check_optimize_result(\n"
     ]
    },
    {
     "output_type": "display_data",
     "data": {
      "image/png": "[encoded data removed]",
      "text/plain": [
       "<Figure size 432x288 with 2 Axes>"
      ]
     },
     "metadata": {
      "needs_background": "light"
     }
    }
   ],
   "metadata": {}
  },
  {
   "cell_type": "markdown",
   "source": [
    "### Model 1: Logistic Regression (GridSearch)"
   ],
   "metadata": {}
  },
  {
   "cell_type": "code",
   "execution_count": null,
   "source": [
    "grid={\"C\":np.logspace(-3,3,7), \"penalty\":[\"l1\",\"l2\"]}# l1 lasso l2 ridge\n",
    "model_logreg_gs = GridSearchCV(model_logreg, grid, cv=10)\n",
    "model_logreg_gs.fit(X_train, y_train)"
   ],
   "outputs": [],
   "metadata": {
    "collapsed": true
   }
  },
  {
   "cell_type": "code",
   "execution_count": 127,
   "source": [
    "print(\"tuned hpyerparameters: (best parameters) \", model_logreg_gs.best_params_)\n",
    "print(\"accuracy :\",model_logreg_gs.best_score_)"
   ],
   "outputs": [
    {
     "output_type": "stream",
     "name": "stdout",
     "text": [
      "tuned hpyerparameters: (best parameters)  {'C': 1.0, 'penalty': 'l2'}\n",
      "accuracy : 0.3374724517906336\n"
     ]
    }
   ],
   "metadata": {}
  },
  {
   "cell_type": "code",
   "execution_count": 128,
   "source": [
    "model_logreg_gs = LogisticRegression(C=1, penalty=\"l2\")\n",
    "model_logreg_gs.fit(X_train, y_train)\n",
    "y_pred_logreg_gs = model_logreg_gs.predict(X_test)\n",
    "\n",
    "results(\"Logistic Regression GridSearch (C=1, penalty='l2')\", y_pred_logreg_gs)"
   ],
   "outputs": [
    {
     "output_type": "stream",
     "name": "stdout",
     "text": [
      "Accuracy: 0.32947976878612717\n",
      "Precision: 0.32947976878612717\n",
      "Recall: 0.32947976878612717\n",
      "Confusion Matrix: [[63 22 22 20]\n",
      " [57 23 31 22]\n",
      " [35 14 32 43]\n",
      " [38 11 33 53]]\n"
     ]
    },
    {
     "output_type": "stream",
     "name": "stderr",
     "text": [
      "/Users/risalim/opt/anaconda3/lib/python3.8/site-packages/sklearn/linear_model/_logistic.py:763: ConvergenceWarning: lbfgs failed to converge (status=1):\n",
      "STOP: TOTAL NO. of ITERATIONS REACHED LIMIT.\n",
      "\n",
      "Increase the number of iterations (max_iter) or scale the data as shown in:\n",
      "    https://scikit-learn.org/stable/modules/preprocessing.html\n",
      "Please also refer to the documentation for alternative solver options:\n",
      "    https://scikit-learn.org/stable/modules/linear_model.html#logistic-regression\n",
      "  n_iter_i = _check_optimize_result(\n"
     ]
    },
    {
     "output_type": "display_data",
     "data": {
      "image/png": "[encoded data removed]",
      "text/plain": [
       "<Figure size 432x288 with 2 Axes>"
      ]
     },
     "metadata": {
      "needs_background": "light"
     }
    }
   ],
   "metadata": {}
  },
  {
   "cell_type": "markdown",
   "source": [
    "### Model 2: K Nearest Neighbours (kNN)"
   ],
   "metadata": {}
  },
  {
   "cell_type": "code",
   "execution_count": 104,
   "source": [
    "model_kNN = KNeighborsClassifier()\n",
    "model_kNN.fit(X_train, y_train)\n",
    "y_pred_kNN = model_kNN.predict(X_test)\n",
    "\n",
    "results(\"K Nearest Neighbours\", y_pred_kNN)"
   ],
   "outputs": [
    {
     "output_type": "stream",
     "name": "stdout",
     "text": [
      "Accuracy: 0.17341040462427745\n",
      "Precision: 0.17341040462427745\n",
      "Recall: 0.17341040462427745\n",
      "Confusion Matrix: [[35 60 17 15]\n",
      " [64 20 31 18]\n",
      " [37 34 17 36]\n",
      " [46 30 41 18]]\n"
     ]
    },
    {
     "output_type": "display_data",
     "data": {
      "image/png": "[encoded data removed]",
      "text/plain": [
       "<Figure size 432x288 with 2 Axes>"
      ]
     },
     "metadata": {
      "needs_background": "light"
     }
    }
   ],
   "metadata": {}
  },
  {
   "cell_type": "markdown",
   "source": [
    "### Model 3: Gradient Boosting"
   ],
   "metadata": {}
  },
  {
   "cell_type": "code",
   "execution_count": 107,
   "source": [
    "model_gb = GradientBoostingClassifier(n_estimators=100, learning_rate=1.0, random_state=42)\n",
    "model_gb.fit(X_train, y_train)\n",
    "y_pred_gb = model_gb.predict(X_test)\n",
    "\n",
    "results(\"Gradient Boosting\", y_pred_gb)"
   ],
   "outputs": [
    {
     "output_type": "stream",
     "name": "stdout",
     "text": [
      "Accuracy: 0.11560693641618497\n",
      "Precision: 0.11560693641618497\n",
      "Recall: 0.11560693641618497\n",
      "Confusion Matrix: [[16 57 26 28]\n",
      " [50  8 44 31]\n",
      " [28 32 12 52]\n",
      " [27 27 57 24]]\n"
     ]
    },
    {
     "output_type": "display_data",
     "data": {
      "image/png": "[encoded data removed]",
      "text/plain": [
       "<Figure size 432x288 with 2 Axes>"
      ]
     },
     "metadata": {
      "needs_background": "light"
     }
    }
   ],
   "metadata": {}
  },
  {
   "cell_type": "markdown",
   "source": [
    "### Model 4: Random Forest"
   ],
   "metadata": {}
  },
  {
   "cell_type": "code",
   "execution_count": 109,
   "source": [
    "model_rf = RandomForestClassifier(n_estimators=100)\n",
    "model_rf.fit(X_train, y_train)\n",
    "y_pred_rf = model_rf.predict(X_test)\n",
    "\n",
    "results(\"Random Forest\", y_pred_rf)"
   ],
   "outputs": [
    {
     "output_type": "stream",
     "name": "stdout",
     "text": [
      "Accuracy: 0.07321772639691715\n",
      "Precision: 0.07321772639691715\n",
      "Recall: 0.07321772639691715\n",
      "Confusion Matrix: [[11 59 34 23]\n",
      " [48  2 49 34]\n",
      " [27 32  8 57]\n",
      " [27 24 67 17]]\n"
     ]
    },
    {
     "output_type": "display_data",
     "data": {
      "image/png": "[encoded data removed]",
      "text/plain": [
       "<Figure size 432x288 with 2 Axes>"
      ]
     },
     "metadata": {
      "needs_background": "light"
     }
    }
   ],
   "metadata": {}
  },
  {
   "cell_type": "markdown",
   "source": [
    "### Model 5: Naive Bayes"
   ],
   "metadata": {}
  },
  {
   "cell_type": "code",
   "execution_count": 111,
   "source": [
    "model_nb = GaussianNB()\n",
    "model_nb.fit(X_train, y_train)\n",
    "y_pred_nb = model_nb.predict(X_test)\n",
    "\n",
    "results(\"Naive Bayes\", y_pred_nb)"
   ],
   "outputs": [
    {
     "output_type": "stream",
     "name": "stdout",
     "text": [
      "Accuracy: 0.3044315992292871\n",
      "Precision: 0.3044315992292871\n",
      "Recall: 0.3044315992292871\n",
      "Confusion Matrix: [[102   3  13   9]\n",
      " [101   1  25   6]\n",
      " [ 70   2  22  30]\n",
      " [ 79   0  23  33]]\n"
     ]
    },
    {
     "output_type": "display_data",
     "data": {
      "image/png": "[encoded data removed]",
      "text/plain": [
       "<Figure size 432x288 with 2 Axes>"
      ]
     },
     "metadata": {
      "needs_background": "light"
     }
    }
   ],
   "metadata": {}
  },
  {
   "cell_type": "markdown",
   "source": [
    "### Model 6: Support Vector Machines (SVM)"
   ],
   "metadata": {}
  },
  {
   "cell_type": "code",
   "execution_count": 113,
   "source": [
    "model_svm_linear = SVC(kernel='linear')\n",
    "model_svm_linear.fit(X_train, y_train)\n",
    "y_pred_svm_linear = model_svm_linear.predict(X_test)\n",
    "\n",
    "results(\"Linear SVM\", y_pred_svm_linear)"
   ],
   "outputs": [
    {
     "output_type": "stream",
     "name": "stdout",
     "text": [
      "Accuracy: 0.3333333333333333\n",
      "Precision: 0.3333333333333333\n",
      "Recall: 0.3333333333333333\n",
      "Confusion Matrix: [[72 16 18 21]\n",
      " [68 20 25 20]\n",
      " [43 12 33 36]\n",
      " [43  1 43 48]]\n"
     ]
    },
    {
     "output_type": "display_data",
     "data": {
      "image/png": "[encoded data removed]",
      "text/plain": [
       "<Figure size 432x288 with 2 Axes>"
      ]
     },
     "metadata": {
      "needs_background": "light"
     }
    }
   ],
   "metadata": {}
  },
  {
   "cell_type": "code",
   "execution_count": 115,
   "source": [
    "model_svm_poly = SVC(kernel='poly')\n",
    "model_svm_poly.fit(X_train, y_train)\n",
    "y_pred_svm_poly = model_svm_poly.predict(X_test)\n",
    "\n",
    "results(\"Polynomial SVM\", y_pred_svm_poly)"
   ],
   "outputs": [
    {
     "output_type": "stream",
     "name": "stdout",
     "text": [
      "Accuracy: 0.26011560693641617\n",
      "Precision: 0.26011560693641617\n",
      "Recall: 0.26011560693641617\n",
      "Confusion Matrix: [[47 23 26 31]\n",
      " [44 15 45 29]\n",
      " [27 14 28 55]\n",
      " [33  6 51 45]]\n"
     ]
    },
    {
     "output_type": "display_data",
     "data": {
      "image/png": "[encoded data removed]",
      "text/plain": [
       "<Figure size 432x288 with 2 Axes>"
      ]
     },
     "metadata": {
      "needs_background": "light"
     }
    }
   ],
   "metadata": {}
  },
  {
   "cell_type": "code",
   "execution_count": 116,
   "source": [
    "model_svm_sigmoid = SVC(kernel='sigmoid')\n",
    "model_svm_sigmoid.fit(X_train, y_train)\n",
    "y_pred_svm_sigmoid = model_svm_sigmoid.predict(X_test)\n",
    "\n",
    "results(\"Sigmoid SVM\", y_pred_svm_sigmoid)"
   ],
   "outputs": [
    {
     "output_type": "stream",
     "name": "stdout",
     "text": [
      "Accuracy: 0.23892100192678228\n",
      "Precision: 0.23892100192678228\n",
      "Recall: 0.23892100192678228\n",
      "Confusion Matrix: [[  0   0 127   0]\n",
      " [  0   0 133   0]\n",
      " [  0   0 124   0]\n",
      " [  0   0 135   0]]\n"
     ]
    },
    {
     "output_type": "display_data",
     "data": {
      "image/png": "[encoded data removed]",
      "text/plain": [
       "<Figure size 432x288 with 2 Axes>"
      ]
     },
     "metadata": {
      "needs_background": "light"
     }
    }
   ],
   "metadata": {}
  },
  {
   "cell_type": "code",
   "execution_count": 117,
   "source": [
    "model_svm_rbf = SVC(kernel='rbf')\n",
    "model_svm_rbf.fit(X_train, y_train)\n",
    "y_pred_svm_rbf = model_svm_rbf.predict(X_test)\n",
    "\n",
    "results(\"RBF SVM\", y_pred_svm_rbf)"
   ],
   "outputs": [
    {
     "output_type": "stream",
     "name": "stdout",
     "text": [
      "Accuracy: 0.26011560693641617\n",
      "Precision: 0.26011560693641617\n",
      "Recall: 0.26011560693641617\n",
      "Confusion Matrix: [[55 25 20 27]\n",
      " [64 17 32 20]\n",
      " [40 15 24 45]\n",
      " [54  5 37 39]]\n"
     ]
    },
    {
     "output_type": "display_data",
     "data": {
      "image/png": "[encoded data removed]",
      "text/plain": [
       "<Figure size 432x288 with 2 Axes>"
      ]
     },
     "metadata": {
      "needs_background": "light"
     }
    }
   ],
   "metadata": {}
  },
  {
   "cell_type": "markdown",
   "source": [
    "### Model 6: Support Vector Machines (SVM) GridSearch"
   ],
   "metadata": {}
  },
  {
   "cell_type": "code",
   "execution_count": 131,
   "source": [
    "# defining parameter range \n",
    "param_grid = {'C': [10, 20, 50, 60, 70, 100],  \n",
    "              'gamma': [1, 0.1, 0.01, 0.001, 0.0001], \n",
    "              'kernel': ['linear']}  \n",
    "\n",
    "grid = GridSearchCV(SVC(), param_grid, refit = True, verbose = 3) \n",
    "  \n",
    "# fitting the model for grid search \n",
    "grid.fit(X_train, y_train)"
   ],
   "outputs": [
    {
     "output_type": "stream",
     "name": "stdout",
     "text": [
      "Fitting 5 folds for each of 30 candidates, totalling 150 fits\n",
      "[CV 1/5] END ...................C=10, gamma=1, kernel=linear; total time=   0.1s\n",
      "[CV 2/5] END ...................C=10, gamma=1, kernel=linear; total time=   0.1s\n",
      "[CV 3/5] END ...................C=10, gamma=1, kernel=linear; total time=   0.1s\n",
      "[CV 4/5] END ...................C=10, gamma=1, kernel=linear; total time=   0.1s\n",
      "[CV 5/5] END ...................C=10, gamma=1, kernel=linear; total time=   0.1s\n",
      "[CV 1/5] END .................C=10, gamma=0.1, kernel=linear; total time=   0.1s\n",
      "[CV 2/5] END .................C=10, gamma=0.1, kernel=linear; total time=   0.1s\n",
      "[CV 3/5] END .................C=10, gamma=0.1, kernel=linear; total time=   0.1s\n",
      "[CV 4/5] END .................C=10, gamma=0.1, kernel=linear; total time=   0.1s\n",
      "[CV 5/5] END .................C=10, gamma=0.1, kernel=linear; total time=   0.1s\n",
      "[CV 1/5] END ................C=10, gamma=0.01, kernel=linear; total time=   0.1s\n",
      "[CV 2/5] END ................C=10, gamma=0.01, kernel=linear; total time=   0.1s\n",
      "[CV 3/5] END ................C=10, gamma=0.01, kernel=linear; total time=   0.1s\n",
      "[CV 4/5] END ................C=10, gamma=0.01, kernel=linear; total time=   0.1s\n",
      "[CV 5/5] END ................C=10, gamma=0.01, kernel=linear; total time=   0.1s\n",
      "[CV 1/5] END ...............C=10, gamma=0.001, kernel=linear; total time=   0.1s\n",
      "[CV 2/5] END ...............C=10, gamma=0.001, kernel=linear; total time=   0.1s\n",
      "[CV 3/5] END ...............C=10, gamma=0.001, kernel=linear; total time=   0.1s\n",
      "[CV 4/5] END ...............C=10, gamma=0.001, kernel=linear; total time=   0.1s\n",
      "[CV 5/5] END ...............C=10, gamma=0.001, kernel=linear; total time=   0.1s\n",
      "[CV 1/5] END ..............C=10, gamma=0.0001, kernel=linear; total time=   0.1s\n",
      "[CV 2/5] END ..............C=10, gamma=0.0001, kernel=linear; total time=   0.1s\n",
      "[CV 3/5] END ..............C=10, gamma=0.0001, kernel=linear; total time=   0.1s\n",
      "[CV 4/5] END ..............C=10, gamma=0.0001, kernel=linear; total time=   0.1s\n",
      "[CV 5/5] END ..............C=10, gamma=0.0001, kernel=linear; total time=   0.1s\n",
      "[CV 1/5] END ...................C=20, gamma=1, kernel=linear; total time=   0.1s\n",
      "[CV 2/5] END ...................C=20, gamma=1, kernel=linear; total time=   0.1s\n",
      "[CV 3/5] END ...................C=20, gamma=1, kernel=linear; total time=   0.1s\n",
      "[CV 4/5] END ...................C=20, gamma=1, kernel=linear; total time=   0.1s\n",
      "[CV 5/5] END ...................C=20, gamma=1, kernel=linear; total time=   0.1s\n",
      "[CV 1/5] END .................C=20, gamma=0.1, kernel=linear; total time=   0.1s\n",
      "[CV 2/5] END .................C=20, gamma=0.1, kernel=linear; total time=   0.1s\n",
      "[CV 3/5] END .................C=20, gamma=0.1, kernel=linear; total time=   0.1s\n",
      "[CV 4/5] END .................C=20, gamma=0.1, kernel=linear; total time=   0.1s\n",
      "[CV 5/5] END .................C=20, gamma=0.1, kernel=linear; total time=   0.1s\n",
      "[CV 1/5] END ................C=20, gamma=0.01, kernel=linear; total time=   0.1s\n",
      "[CV 2/5] END ................C=20, gamma=0.01, kernel=linear; total time=   0.1s\n",
      "[CV 3/5] END ................C=20, gamma=0.01, kernel=linear; total time=   0.1s\n",
      "[CV 4/5] END ................C=20, gamma=0.01, kernel=linear; total time=   0.1s\n",
      "[CV 5/5] END ................C=20, gamma=0.01, kernel=linear; total time=   0.1s\n",
      "[CV 1/5] END ...............C=20, gamma=0.001, kernel=linear; total time=   0.1s\n",
      "[CV 2/5] END ...............C=20, gamma=0.001, kernel=linear; total time=   0.1s\n",
      "[CV 3/5] END ...............C=20, gamma=0.001, kernel=linear; total time=   0.1s\n",
      "[CV 4/5] END ...............C=20, gamma=0.001, kernel=linear; total time=   0.1s\n",
      "[CV 5/5] END ...............C=20, gamma=0.001, kernel=linear; total time=   0.1s\n",
      "[CV 1/5] END ..............C=20, gamma=0.0001, kernel=linear; total time=   0.1s\n",
      "[CV 2/5] END ..............C=20, gamma=0.0001, kernel=linear; total time=   0.1s\n",
      "[CV 3/5] END ..............C=20, gamma=0.0001, kernel=linear; total time=   0.1s\n",
      "[CV 4/5] END ..............C=20, gamma=0.0001, kernel=linear; total time=   0.1s\n",
      "[CV 5/5] END ..............C=20, gamma=0.0001, kernel=linear; total time=   0.1s\n",
      "[CV 1/5] END ...................C=50, gamma=1, kernel=linear; total time=   0.2s\n",
      "[CV 2/5] END ...................C=50, gamma=1, kernel=linear; total time=   0.2s\n",
      "[CV 3/5] END ...................C=50, gamma=1, kernel=linear; total time=   0.2s\n",
      "[CV 4/5] END ...................C=50, gamma=1, kernel=linear; total time=   0.2s\n",
      "[CV 5/5] END ...................C=50, gamma=1, kernel=linear; total time=   0.2s\n",
      "[CV 1/5] END .................C=50, gamma=0.1, kernel=linear; total time=   0.2s\n",
      "[CV 2/5] END .................C=50, gamma=0.1, kernel=linear; total time=   0.2s\n",
      "[CV 3/5] END .................C=50, gamma=0.1, kernel=linear; total time=   0.2s\n",
      "[CV 4/5] END .................C=50, gamma=0.1, kernel=linear; total time=   0.2s\n",
      "[CV 5/5] END .................C=50, gamma=0.1, kernel=linear; total time=   0.2s\n",
      "[CV 1/5] END ................C=50, gamma=0.01, kernel=linear; total time=   0.2s\n",
      "[CV 2/5] END ................C=50, gamma=0.01, kernel=linear; total time=   0.2s\n",
      "[CV 3/5] END ................C=50, gamma=0.01, kernel=linear; total time=   0.2s\n",
      "[CV 4/5] END ................C=50, gamma=0.01, kernel=linear; total time=   0.2s\n",
      "[CV 5/5] END ................C=50, gamma=0.01, kernel=linear; total time=   0.2s\n",
      "[CV 1/5] END ...............C=50, gamma=0.001, kernel=linear; total time=   0.2s\n",
      "[CV 2/5] END ...............C=50, gamma=0.001, kernel=linear; total time=   0.2s\n",
      "[CV 3/5] END ...............C=50, gamma=0.001, kernel=linear; total time=   0.2s\n",
      "[CV 4/5] END ...............C=50, gamma=0.001, kernel=linear; total time=   0.2s\n",
      "[CV 5/5] END ...............C=50, gamma=0.001, kernel=linear; total time=   0.2s\n",
      "[CV 1/5] END ..............C=50, gamma=0.0001, kernel=linear; total time=   0.2s\n",
      "[CV 2/5] END ..............C=50, gamma=0.0001, kernel=linear; total time=   0.2s\n",
      "[CV 3/5] END ..............C=50, gamma=0.0001, kernel=linear; total time=   0.2s\n",
      "[CV 4/5] END ..............C=50, gamma=0.0001, kernel=linear; total time=   0.2s\n",
      "[CV 5/5] END ..............C=50, gamma=0.0001, kernel=linear; total time=   0.2s\n",
      "[CV 1/5] END ...................C=60, gamma=1, kernel=linear; total time=   0.2s\n",
      "[CV 2/5] END ...................C=60, gamma=1, kernel=linear; total time=   0.2s\n",
      "[CV 3/5] END ...................C=60, gamma=1, kernel=linear; total time=   0.2s\n",
      "[CV 4/5] END ...................C=60, gamma=1, kernel=linear; total time=   0.2s\n",
      "[CV 5/5] END ...................C=60, gamma=1, kernel=linear; total time=   0.2s\n",
      "[CV 1/5] END .................C=60, gamma=0.1, kernel=linear; total time=   0.2s\n",
      "[CV 2/5] END .................C=60, gamma=0.1, kernel=linear; total time=   0.2s\n",
      "[CV 3/5] END .................C=60, gamma=0.1, kernel=linear; total time=   0.2s\n",
      "[CV 4/5] END .................C=60, gamma=0.1, kernel=linear; total time=   0.2s\n",
      "[CV 5/5] END .................C=60, gamma=0.1, kernel=linear; total time=   0.2s\n",
      "[CV 1/5] END ................C=60, gamma=0.01, kernel=linear; total time=   0.2s\n",
      "[CV 2/5] END ................C=60, gamma=0.01, kernel=linear; total time=   0.2s\n",
      "[CV 3/5] END ................C=60, gamma=0.01, kernel=linear; total time=   0.2s\n",
      "[CV 4/5] END ................C=60, gamma=0.01, kernel=linear; total time=   0.2s\n",
      "[CV 5/5] END ................C=60, gamma=0.01, kernel=linear; total time=   0.2s\n",
      "[CV 1/5] END ...............C=60, gamma=0.001, kernel=linear; total time=   0.2s\n",
      "[CV 2/5] END ...............C=60, gamma=0.001, kernel=linear; total time=   0.2s\n",
      "[CV 3/5] END ...............C=60, gamma=0.001, kernel=linear; total time=   0.2s\n",
      "[CV 4/5] END ...............C=60, gamma=0.001, kernel=linear; total time=   0.2s\n",
      "[CV 5/5] END ...............C=60, gamma=0.001, kernel=linear; total time=   0.2s\n",
      "[CV 1/5] END ..............C=60, gamma=0.0001, kernel=linear; total time=   0.2s\n",
      "[CV 2/5] END ..............C=60, gamma=0.0001, kernel=linear; total time=   0.2s\n",
      "[CV 3/5] END ..............C=60, gamma=0.0001, kernel=linear; total time=   0.2s\n",
      "[CV 4/5] END ..............C=60, gamma=0.0001, kernel=linear; total time=   0.2s\n",
      "[CV 5/5] END ..............C=60, gamma=0.0001, kernel=linear; total time=   0.2s\n",
      "[CV 1/5] END ...................C=70, gamma=1, kernel=linear; total time=   0.2s\n"
     ]
    },
    {
     "output_type": "stream",
     "name": "stdout",
     "text": [
      "[CV 2/5] END ...................C=70, gamma=1, kernel=linear; total time=   0.2s\n",
      "[CV 3/5] END ...................C=70, gamma=1, kernel=linear; total time=   0.2s\n",
      "[CV 4/5] END ...................C=70, gamma=1, kernel=linear; total time=   0.2s\n",
      "[CV 5/5] END ...................C=70, gamma=1, kernel=linear; total time=   0.2s\n",
      "[CV 1/5] END .................C=70, gamma=0.1, kernel=linear; total time=   0.2s\n",
      "[CV 2/5] END .................C=70, gamma=0.1, kernel=linear; total time=   0.2s\n",
      "[CV 3/5] END .................C=70, gamma=0.1, kernel=linear; total time=   0.2s\n",
      "[CV 4/5] END .................C=70, gamma=0.1, kernel=linear; total time=   0.2s\n",
      "[CV 5/5] END .................C=70, gamma=0.1, kernel=linear; total time=   0.2s\n",
      "[CV 1/5] END ................C=70, gamma=0.01, kernel=linear; total time=   0.2s\n",
      "[CV 2/5] END ................C=70, gamma=0.01, kernel=linear; total time=   0.2s\n",
      "[CV 3/5] END ................C=70, gamma=0.01, kernel=linear; total time=   0.2s\n",
      "[CV 4/5] END ................C=70, gamma=0.01, kernel=linear; total time=   0.2s\n",
      "[CV 5/5] END ................C=70, gamma=0.01, kernel=linear; total time=   0.2s\n",
      "[CV 1/5] END ...............C=70, gamma=0.001, kernel=linear; total time=   0.2s\n",
      "[CV 2/5] END ...............C=70, gamma=0.001, kernel=linear; total time=   0.2s\n",
      "[CV 3/5] END ...............C=70, gamma=0.001, kernel=linear; total time=   0.2s\n",
      "[CV 4/5] END ...............C=70, gamma=0.001, kernel=linear; total time=   0.2s\n",
      "[CV 5/5] END ...............C=70, gamma=0.001, kernel=linear; total time=   0.3s\n",
      "[CV 1/5] END ..............C=70, gamma=0.0001, kernel=linear; total time=   0.2s\n",
      "[CV 2/5] END ..............C=70, gamma=0.0001, kernel=linear; total time=   0.2s\n",
      "[CV 3/5] END ..............C=70, gamma=0.0001, kernel=linear; total time=   0.2s\n",
      "[CV 4/5] END ..............C=70, gamma=0.0001, kernel=linear; total time=   0.2s\n",
      "[CV 5/5] END ..............C=70, gamma=0.0001, kernel=linear; total time=   0.2s\n",
      "[CV 1/5] END ..................C=100, gamma=1, kernel=linear; total time=   0.3s\n",
      "[CV 2/5] END ..................C=100, gamma=1, kernel=linear; total time=   0.3s\n",
      "[CV 3/5] END ..................C=100, gamma=1, kernel=linear; total time=   0.3s\n",
      "[CV 4/5] END ..................C=100, gamma=1, kernel=linear; total time=   0.3s\n",
      "[CV 5/5] END ..................C=100, gamma=1, kernel=linear; total time=   0.3s\n",
      "[CV 1/5] END ................C=100, gamma=0.1, kernel=linear; total time=   0.3s\n",
      "[CV 2/5] END ................C=100, gamma=0.1, kernel=linear; total time=   0.3s\n",
      "[CV 3/5] END ................C=100, gamma=0.1, kernel=linear; total time=   0.3s\n",
      "[CV 4/5] END ................C=100, gamma=0.1, kernel=linear; total time=   0.3s\n",
      "[CV 5/5] END ................C=100, gamma=0.1, kernel=linear; total time=   0.3s\n",
      "[CV 1/5] END ...............C=100, gamma=0.01, kernel=linear; total time=   0.3s\n",
      "[CV 2/5] END ...............C=100, gamma=0.01, kernel=linear; total time=   0.3s\n",
      "[CV 3/5] END ...............C=100, gamma=0.01, kernel=linear; total time=   0.3s\n",
      "[CV 4/5] END ...............C=100, gamma=0.01, kernel=linear; total time=   0.3s\n",
      "[CV 5/5] END ...............C=100, gamma=0.01, kernel=linear; total time=   0.3s\n",
      "[CV 1/5] END ..............C=100, gamma=0.001, kernel=linear; total time=   0.3s\n",
      "[CV 2/5] END ..............C=100, gamma=0.001, kernel=linear; total time=   0.3s\n",
      "[CV 3/5] END ..............C=100, gamma=0.001, kernel=linear; total time=   0.3s\n",
      "[CV 4/5] END ..............C=100, gamma=0.001, kernel=linear; total time=   0.3s\n",
      "[CV 5/5] END ..............C=100, gamma=0.001, kernel=linear; total time=   0.3s\n",
      "[CV 1/5] END .............C=100, gamma=0.0001, kernel=linear; total time=   0.3s\n",
      "[CV 2/5] END .............C=100, gamma=0.0001, kernel=linear; total time=   0.3s\n",
      "[CV 3/5] END .............C=100, gamma=0.0001, kernel=linear; total time=   0.3s\n",
      "[CV 4/5] END .............C=100, gamma=0.0001, kernel=linear; total time=   0.3s\n",
      "[CV 5/5] END .............C=100, gamma=0.0001, kernel=linear; total time=   0.3s\n"
     ]
    },
    {
     "output_type": "execute_result",
     "data": {
      "text/plain": [
       "GridSearchCV(estimator=SVC(),\n",
       "             param_grid={'C': [10, 20, 50, 60, 70, 100],\n",
       "                         'gamma': [1, 0.1, 0.01, 0.001, 0.0001],\n",
       "                         'kernel': ['linear']},\n",
       "             verbose=3)"
      ]
     },
     "metadata": {},
     "execution_count": 131
    }
   ],
   "metadata": {
    "scrolled": true
   }
  },
  {
   "cell_type": "code",
   "execution_count": 132,
   "source": [
    "# print best parameter after tuning \n",
    "print(grid.best_params_) \n",
    "  \n",
    "# print how our model looks after hyper-parameter tuning \n",
    "print(grid.best_estimator_) "
   ],
   "outputs": [
    {
     "output_type": "stream",
     "name": "stdout",
     "text": [
      "{'C': 10, 'gamma': 1, 'kernel': 'linear'}\n",
      "SVC(C=10, gamma=1, kernel='linear')\n"
     ]
    }
   ],
   "metadata": {}
  },
  {
   "cell_type": "code",
   "execution_count": 133,
   "source": [
    "model_svm_linear_gs = SVC(kernel='linear', C=10, gamma=1)\n",
    "model_svm_linear_gs.fit(X_train, y_train)\n",
    "y_pred_svm_linear_gs = model_svm_linear_gs.predict(X_test)\n",
    "\n",
    "results(\"Linear SVM GridSearch (C=10, gamma=1)\", y_pred_svm_linear_gs)"
   ],
   "outputs": [
    {
     "output_type": "stream",
     "name": "stdout",
     "text": [
      "Accuracy: 0.33140655105973027\n",
      "Precision: 0.33140655105973027\n",
      "Recall: 0.33140655105973027\n",
      "Confusion Matrix: [[72 16 18 21]\n",
      " [68 20 24 21]\n",
      " [43 12 32 37]\n",
      " [43  1 43 48]]\n"
     ]
    },
    {
     "output_type": "display_data",
     "data": {
      "image/png": "[encoded data removed]",
      "text/plain": [
       "<Figure size 432x288 with 2 Axes>"
      ]
     },
     "metadata": {
      "needs_background": "light"
     }
    }
   ],
   "metadata": {}
  },
  {
   "cell_type": "markdown",
   "source": [
    "### Summary of Results"
   ],
   "metadata": {}
  },
  {
   "cell_type": "code",
   "execution_count": 134,
   "source": [
    "results = pd.DataFrame({\"model\": log_model, \n",
    "              \"accuracy\": log_accuracy, \n",
    "              \"precision\": log_precision, \n",
    "              \"recall\": log_recall, \n",
    "              \"cnf_matrix\": log_cnf_matrix})"
   ],
   "outputs": [],
   "metadata": {}
  },
  {
   "cell_type": "code",
   "execution_count": 137,
   "source": [
    "results.sort_values(by='accuracy', ascending=False)"
   ],
   "outputs": [
    {
     "output_type": "execute_result",
     "data": {
      "text/html": [
       "<div>\n",
       "<style scoped>\n",
       "    .dataframe tbody tr th:only-of-type {\n",
       "        vertical-align: middle;\n",
       "    }\n",
       "\n",
       "    .dataframe tbody tr th {\n",
       "        vertical-align: top;\n",
       "    }\n",
       "\n",
       "    .dataframe thead th {\n",
       "        text-align: right;\n",
       "    }\n",
       "</style>\n",
       "<table border=\"1\" class=\"dataframe\">\n",
       "  <thead>\n",
       "    <tr style=\"text-align: right;\">\n",
       "      <th></th>\n",
       "      <th>model</th>\n",
       "      <th>accuracy</th>\n",
       "      <th>precision</th>\n",
       "      <th>recall</th>\n",
       "      <th>cnf_matrix</th>\n",
       "    </tr>\n",
       "  </thead>\n",
       "  <tbody>\n",
       "    <tr>\n",
       "      <th>5</th>\n",
       "      <td>Linear SVM</td>\n",
       "      <td>0.333333</td>\n",
       "      <td>0.333333</td>\n",
       "      <td>0.333333</td>\n",
       "      <td>[[72, 16, 18, 21], [68, 20, 25, 20], [43, 12, ...</td>\n",
       "    </tr>\n",
       "    <tr>\n",
       "      <th>10</th>\n",
       "      <td>Linear SVM GridSearch (C=10, gamma=1)</td>\n",
       "      <td>0.331407</td>\n",
       "      <td>0.331407</td>\n",
       "      <td>0.331407</td>\n",
       "      <td>[[72, 16, 18, 21], [68, 20, 24, 21], [43, 12, ...</td>\n",
       "    </tr>\n",
       "    <tr>\n",
       "      <th>0</th>\n",
       "      <td>Logistic Regression</td>\n",
       "      <td>0.329480</td>\n",
       "      <td>0.329480</td>\n",
       "      <td>0.329480</td>\n",
       "      <td>[[63, 22, 22, 20], [57, 23, 31, 22], [35, 14, ...</td>\n",
       "    </tr>\n",
       "    <tr>\n",
       "      <th>9</th>\n",
       "      <td>Logistic Regression GridSearch (C=1, penalty='...</td>\n",
       "      <td>0.329480</td>\n",
       "      <td>0.329480</td>\n",
       "      <td>0.329480</td>\n",
       "      <td>[[63, 22, 22, 20], [57, 23, 31, 22], [35, 14, ...</td>\n",
       "    </tr>\n",
       "    <tr>\n",
       "      <th>4</th>\n",
       "      <td>Naive Bayes</td>\n",
       "      <td>0.304432</td>\n",
       "      <td>0.304432</td>\n",
       "      <td>0.304432</td>\n",
       "      <td>[[102, 3, 13, 9], [101, 1, 25, 6], [70, 2, 22,...</td>\n",
       "    </tr>\n",
       "    <tr>\n",
       "      <th>6</th>\n",
       "      <td>Polynomial SVM</td>\n",
       "      <td>0.260116</td>\n",
       "      <td>0.260116</td>\n",
       "      <td>0.260116</td>\n",
       "      <td>[[47, 23, 26, 31], [44, 15, 45, 29], [27, 14, ...</td>\n",
       "    </tr>\n",
       "    <tr>\n",
       "      <th>8</th>\n",
       "      <td>RBF SVM</td>\n",
       "      <td>0.260116</td>\n",
       "      <td>0.260116</td>\n",
       "      <td>0.260116</td>\n",
       "      <td>[[55, 25, 20, 27], [64, 17, 32, 20], [40, 15, ...</td>\n",
       "    </tr>\n",
       "    <tr>\n",
       "      <th>7</th>\n",
       "      <td>Sigmoid SVM</td>\n",
       "      <td>0.238921</td>\n",
       "      <td>0.238921</td>\n",
       "      <td>0.238921</td>\n",
       "      <td>[[0, 0, 127, 0], [0, 0, 133, 0], [0, 0, 124, 0...</td>\n",
       "    </tr>\n",
       "    <tr>\n",
       "      <th>1</th>\n",
       "      <td>K Nearest Neighbours</td>\n",
       "      <td>0.173410</td>\n",
       "      <td>0.173410</td>\n",
       "      <td>0.173410</td>\n",
       "      <td>[[35, 60, 17, 15], [64, 20, 31, 18], [37, 34, ...</td>\n",
       "    </tr>\n",
       "    <tr>\n",
       "      <th>2</th>\n",
       "      <td>Gradient Boosting</td>\n",
       "      <td>0.115607</td>\n",
       "      <td>0.115607</td>\n",
       "      <td>0.115607</td>\n",
       "      <td>[[16, 57, 26, 28], [50, 8, 44, 31], [28, 32, 1...</td>\n",
       "    </tr>\n",
       "    <tr>\n",
       "      <th>3</th>\n",
       "      <td>Random Forest</td>\n",
       "      <td>0.073218</td>\n",
       "      <td>0.073218</td>\n",
       "      <td>0.073218</td>\n",
       "      <td>[[11, 59, 34, 23], [48, 2, 49, 34], [27, 32, 8...</td>\n",
       "    </tr>\n",
       "  </tbody>\n",
       "</table>\n",
       "</div>"
      ],
      "text/plain": [
       "                                                model  accuracy  precision  \\\n",
       "5                                          Linear SVM  0.333333   0.333333   \n",
       "10              Linear SVM GridSearch (C=10, gamma=1)  0.331407   0.331407   \n",
       "0                                 Logistic Regression  0.329480   0.329480   \n",
       "9   Logistic Regression GridSearch (C=1, penalty='...  0.329480   0.329480   \n",
       "4                                         Naive Bayes  0.304432   0.304432   \n",
       "6                                      Polynomial SVM  0.260116   0.260116   \n",
       "8                                             RBF SVM  0.260116   0.260116   \n",
       "7                                         Sigmoid SVM  0.238921   0.238921   \n",
       "1                                K Nearest Neighbours  0.173410   0.173410   \n",
       "2                                   Gradient Boosting  0.115607   0.115607   \n",
       "3                                       Random Forest  0.073218   0.073218   \n",
       "\n",
       "      recall                                         cnf_matrix  \n",
       "5   0.333333  [[72, 16, 18, 21], [68, 20, 25, 20], [43, 12, ...  \n",
       "10  0.331407  [[72, 16, 18, 21], [68, 20, 24, 21], [43, 12, ...  \n",
       "0   0.329480  [[63, 22, 22, 20], [57, 23, 31, 22], [35, 14, ...  \n",
       "9   0.329480  [[63, 22, 22, 20], [57, 23, 31, 22], [35, 14, ...  \n",
       "4   0.304432  [[102, 3, 13, 9], [101, 1, 25, 6], [70, 2, 22,...  \n",
       "6   0.260116  [[47, 23, 26, 31], [44, 15, 45, 29], [27, 14, ...  \n",
       "8   0.260116  [[55, 25, 20, 27], [64, 17, 32, 20], [40, 15, ...  \n",
       "7   0.238921  [[0, 0, 127, 0], [0, 0, 133, 0], [0, 0, 124, 0...  \n",
       "1   0.173410  [[35, 60, 17, 15], [64, 20, 31, 18], [37, 34, ...  \n",
       "2   0.115607  [[16, 57, 26, 28], [50, 8, 44, 31], [28, 32, 1...  \n",
       "3   0.073218  [[11, 59, 34, 23], [48, 2, 49, 34], [27, 32, 8...  "
      ]
     },
     "metadata": {},
     "execution_count": 137
    }
   ],
   "metadata": {}
  },
  {
   "cell_type": "markdown",
   "source": [
    "### Predict\n"
   ],
   "metadata": {}
  },
  {
   "cell_type": "markdown",
   "source": [
    "#### Linear SVM"
   ],
   "metadata": {}
  },
  {
   "cell_type": "code",
   "execution_count": 163,
   "source": [
    "input_data = pd.DataFrame({\"maint\":[2], \"doors\":[4], \"persons\": [5], \"lug_boot\": [1], \"safety\": [1], \"class\": [2]})"
   ],
   "outputs": [],
   "metadata": {}
  },
  {
   "cell_type": "code",
   "execution_count": 164,
   "source": [
    "model_svm_linear.predict(input_data)"
   ],
   "outputs": [
    {
     "output_type": "execute_result",
     "data": {
      "text/plain": [
       "array([3])"
      ]
     },
     "metadata": {},
     "execution_count": 164
    }
   ],
   "metadata": {}
  },
  {
   "cell_type": "markdown",
   "source": [
    "#### Linear SVM GridSearch"
   ],
   "metadata": {}
  },
  {
   "cell_type": "code",
   "execution_count": 165,
   "source": [
    "model_svm_linear_gs.predict(input_data)"
   ],
   "outputs": [
    {
     "output_type": "execute_result",
     "data": {
      "text/plain": [
       "array([3])"
      ]
     },
     "metadata": {},
     "execution_count": 165
    }
   ],
   "metadata": {}
  },
  {
   "cell_type": "markdown",
   "source": [
    "#### Logistic Regression"
   ],
   "metadata": {}
  },
  {
   "cell_type": "code",
   "execution_count": 166,
   "source": [
    "model_logreg.predict(input_data)"
   ],
   "outputs": [
    {
     "output_type": "execute_result",
     "data": {
      "text/plain": [
       "array([3])"
      ]
     },
     "metadata": {},
     "execution_count": 166
    }
   ],
   "metadata": {}
  },
  {
   "cell_type": "markdown",
   "source": [
    "persons is 2 and 4, buyprice is 4. if persons >5, buyprice is 3.\n",
    "\n",
    "Modify buying\n",
    "1 - vhigh\n",
    "2 - high\n",
    "3 - med\n",
    "4 - low"
   ],
   "metadata": {}
  }
 ],
 "metadata": {
  "kernelspec": {
   "display_name": "Python 3",
   "language": "python",
   "name": "python3"
  }
 },
 "nbformat": 4,
 "nbformat_minor": 5
}