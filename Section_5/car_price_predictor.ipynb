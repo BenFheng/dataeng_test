{
 "cells": [
  {
   "cell_type": "markdown",
   "source": [
    "## Import Packages"
   ],
   "metadata": {}
  },
  {
   "cell_type": "code",
   "execution_count": 1,
   "source": [
    "import pandas as pd\n",
    "import numpy as np\n",
    "import math\n",
    "import matplotlib.pyplot as plt\n",
    "import seaborn as sns\n",
    "from sklearn import metrics\n",
    "from sklearn.model_selection import train_test_split\n",
    "from sklearn.model_selection import GridSearchCV\n",
    "from sklearn.linear_model import LogisticRegression\n",
    "from sklearn.ensemble import GradientBoostingClassifier\n",
    "from sklearn.ensemble import RandomForestClassifier\n",
    "from sklearn.svm import SVC"
   ],
   "outputs": [],
   "metadata": {}
  },
  {
   "cell_type": "markdown",
   "source": [
    "## Import Dataset"
   ],
   "metadata": {}
  },
  {
   "cell_type": "code",
   "execution_count": 2,
   "source": [
    "car_data = pd.read_csv(\"car.data\", header=None)\n",
    "car_data.columns = [\"buying\", \"maint\", \"doors\", \"persons\", \"lug_boot\", \"safety\", \"class\"]"
   ],
   "outputs": [],
   "metadata": {}
  },
  {
   "cell_type": "code",
   "execution_count": 3,
   "source": [
    "car_data.head()"
   ],
   "outputs": [
    {
     "output_type": "execute_result",
     "data": {
      "text/html": [
       "<div>\n",
       "<style scoped>\n",
       "    .dataframe tbody tr th:only-of-type {\n",
       "        vertical-align: middle;\n",
       "    }\n",
       "\n",
       "    .dataframe tbody tr th {\n",
       "        vertical-align: top;\n",
       "    }\n",
       "\n",
       "    .dataframe thead th {\n",
       "        text-align: right;\n",
       "    }\n",
       "</style>\n",
       "<table border=\"1\" class=\"dataframe\">\n",
       "  <thead>\n",
       "    <tr style=\"text-align: right;\">\n",
       "      <th></th>\n",
       "      <th>buying</th>\n",
       "      <th>maint</th>\n",
       "      <th>doors</th>\n",
       "      <th>persons</th>\n",
       "      <th>lug_boot</th>\n",
       "      <th>safety</th>\n",
       "      <th>class</th>\n",
       "    </tr>\n",
       "  </thead>\n",
       "  <tbody>\n",
       "    <tr>\n",
       "      <th>0</th>\n",
       "      <td>vhigh</td>\n",
       "      <td>vhigh</td>\n",
       "      <td>2</td>\n",
       "      <td>2</td>\n",
       "      <td>small</td>\n",
       "      <td>low</td>\n",
       "      <td>unacc</td>\n",
       "    </tr>\n",
       "    <tr>\n",
       "      <th>1</th>\n",
       "      <td>vhigh</td>\n",
       "      <td>vhigh</td>\n",
       "      <td>2</td>\n",
       "      <td>2</td>\n",
       "      <td>small</td>\n",
       "      <td>med</td>\n",
       "      <td>unacc</td>\n",
       "    </tr>\n",
       "    <tr>\n",
       "      <th>2</th>\n",
       "      <td>vhigh</td>\n",
       "      <td>vhigh</td>\n",
       "      <td>2</td>\n",
       "      <td>2</td>\n",
       "      <td>small</td>\n",
       "      <td>high</td>\n",
       "      <td>unacc</td>\n",
       "    </tr>\n",
       "    <tr>\n",
       "      <th>3</th>\n",
       "      <td>vhigh</td>\n",
       "      <td>vhigh</td>\n",
       "      <td>2</td>\n",
       "      <td>2</td>\n",
       "      <td>med</td>\n",
       "      <td>low</td>\n",
       "      <td>unacc</td>\n",
       "    </tr>\n",
       "    <tr>\n",
       "      <th>4</th>\n",
       "      <td>vhigh</td>\n",
       "      <td>vhigh</td>\n",
       "      <td>2</td>\n",
       "      <td>2</td>\n",
       "      <td>med</td>\n",
       "      <td>med</td>\n",
       "      <td>unacc</td>\n",
       "    </tr>\n",
       "  </tbody>\n",
       "</table>\n",
       "</div>"
      ],
      "text/plain": [
       "  buying  maint doors persons lug_boot safety  class\n",
       "0  vhigh  vhigh     2       2    small    low  unacc\n",
       "1  vhigh  vhigh     2       2    small    med  unacc\n",
       "2  vhigh  vhigh     2       2    small   high  unacc\n",
       "3  vhigh  vhigh     2       2      med    low  unacc\n",
       "4  vhigh  vhigh     2       2      med    med  unacc"
      ]
     },
     "metadata": {},
     "execution_count": 3
    }
   ],
   "metadata": {}
  },
  {
   "cell_type": "code",
   "execution_count": 4,
   "source": [
    "len(car_data)"
   ],
   "outputs": [
    {
     "output_type": "execute_result",
     "data": {
      "text/plain": [
       "1728"
      ]
     },
     "metadata": {},
     "execution_count": 4
    }
   ],
   "metadata": {}
  },
  {
   "cell_type": "markdown",
   "source": [
    "### Modify buying as:\n",
    "\n",
    "1 - vhigh <br>\n",
    "2 - high <br>\n",
    "3 - med <br>\n",
    "4 - low <br>"
   ],
   "metadata": {}
  },
  {
   "cell_type": "code",
   "execution_count": 5,
   "source": [
    "car_data['buying'].unique()"
   ],
   "outputs": [
    {
     "output_type": "execute_result",
     "data": {
      "text/plain": [
       "array(['vhigh', 'high', 'med', 'low'], dtype=object)"
      ]
     },
     "metadata": {},
     "execution_count": 5
    }
   ],
   "metadata": {}
  },
  {
   "cell_type": "code",
   "execution_count": 6,
   "source": [
    "new_buying = []\n",
    "for i in range(0, len(car_data)) :\n",
    "    if car_data['buying'][i] == 'vhigh' :\n",
    "        new_buying.append(1)\n",
    "    elif car_data['buying'][i] == 'high' :\n",
    "        new_buying.append(2)\n",
    "    elif car_data['buying'][i] == 'med' :\n",
    "        new_buying.append(3)\n",
    "    elif car_data['buying'][i] == 'low' :\n",
    "        new_buying.append(4)\n",
    "car_data['buying'] = new_buying"
   ],
   "outputs": [],
   "metadata": {}
  },
  {
   "cell_type": "markdown",
   "source": [
    "### Modify maint as:\n",
    "\n",
    "1 - vhigh <br>\n",
    "2 - high <br>\n",
    "3 - med <br>\n",
    "4 - low <br>"
   ],
   "metadata": {}
  },
  {
   "cell_type": "code",
   "execution_count": 7,
   "source": [
    "car_data['maint'].unique()"
   ],
   "outputs": [
    {
     "output_type": "execute_result",
     "data": {
      "text/plain": [
       "array(['vhigh', 'high', 'med', 'low'], dtype=object)"
      ]
     },
     "metadata": {},
     "execution_count": 7
    }
   ],
   "metadata": {}
  },
  {
   "cell_type": "code",
   "execution_count": 8,
   "source": [
    "new_maint = []\n",
    "for i in range(0, len(car_data)) :\n",
    "    if car_data['maint'][i] == 'vhigh' :\n",
    "        new_maint.append(1)\n",
    "    elif car_data['maint'][i] == 'high' :\n",
    "        new_maint.append(2)\n",
    "    elif car_data['maint'][i] == 'med' :\n",
    "        new_maint.append(3)\n",
    "    elif car_data['maint'][i] == 'low' :\n",
    "        new_maint.append(4)\n",
    "car_data['maint'] = new_maint"
   ],
   "outputs": [],
   "metadata": {}
  },
  {
   "cell_type": "markdown",
   "source": [
    "### Modify doors as:\n",
    "\n",
    "2 - 2 <br>\n",
    "3 - 3 <br>\n",
    "4 - 4 <br>\n",
    "5 - 5more <br>"
   ],
   "metadata": {}
  },
  {
   "cell_type": "code",
   "execution_count": 9,
   "source": [
    "car_data['doors'].unique()"
   ],
   "outputs": [
    {
     "output_type": "execute_result",
     "data": {
      "text/plain": [
       "array(['2', '3', '4', '5more'], dtype=object)"
      ]
     },
     "metadata": {},
     "execution_count": 9
    }
   ],
   "metadata": {}
  },
  {
   "cell_type": "code",
   "execution_count": 10,
   "source": [
    "new_doors = []\n",
    "for i in range(0, len(car_data)) :\n",
    "    if car_data['doors'][i] == '5more' :\n",
    "        new_doors.append(5)\n",
    "    else :\n",
    "        new_doors.append(int(car_data['doors'][i]))\n",
    "car_data['doors'] = new_doors"
   ],
   "outputs": [],
   "metadata": {}
  },
  {
   "cell_type": "markdown",
   "source": [
    "### Modify persons as:\n",
    "2 - 2<br>\n",
    "4 - 4<br>\n",
    "5 - more<br>"
   ],
   "metadata": {}
  },
  {
   "cell_type": "code",
   "execution_count": 11,
   "source": [
    "car_data['persons'].unique()"
   ],
   "outputs": [
    {
     "output_type": "execute_result",
     "data": {
      "text/plain": [
       "array(['2', '4', 'more'], dtype=object)"
      ]
     },
     "metadata": {},
     "execution_count": 11
    }
   ],
   "metadata": {}
  },
  {
   "cell_type": "code",
   "execution_count": 12,
   "source": [
    "new_persons = []\n",
    "for i in range(0, len(car_data)) :\n",
    "    if car_data['persons'][i] == 'more' :\n",
    "        new_persons.append(5)\n",
    "    else :\n",
    "        new_persons.append(int(car_data['persons'][i]))\n",
    "car_data['persons'] = new_persons"
   ],
   "outputs": [],
   "metadata": {}
  },
  {
   "cell_type": "markdown",
   "source": [
    "###  Modify lug_boot as:\n",
    "\n",
    "1 - big <br>\n",
    "2 - med <br>\n",
    "3 - small <br>"
   ],
   "metadata": {}
  },
  {
   "cell_type": "code",
   "execution_count": 13,
   "source": [
    "car_data['lug_boot'].unique()"
   ],
   "outputs": [
    {
     "output_type": "execute_result",
     "data": {
      "text/plain": [
       "array(['small', 'med', 'big'], dtype=object)"
      ]
     },
     "metadata": {},
     "execution_count": 13
    }
   ],
   "metadata": {}
  },
  {
   "cell_type": "code",
   "execution_count": 14,
   "source": [
    "new_lug_boot = []\n",
    "for i in range(0, len(car_data)) :\n",
    "    if car_data['lug_boot'][i] == 'big' :\n",
    "        new_lug_boot.append(1)\n",
    "    elif car_data['lug_boot'][i] == 'med' :\n",
    "        new_lug_boot.append(2)\n",
    "    elif car_data['lug_boot'][i] == 'small' :\n",
    "        new_lug_boot.append(3)\n",
    "car_data['lug_boot'] = new_lug_boot"
   ],
   "outputs": [],
   "metadata": {}
  },
  {
   "cell_type": "markdown",
   "source": [
    "### Modify safety as:\n",
    "\n",
    "1- high <br>\n",
    "2 - med <br>\n",
    "3 - low <br>"
   ],
   "metadata": {}
  },
  {
   "cell_type": "code",
   "execution_count": 15,
   "source": [
    "car_data['safety'].unique()"
   ],
   "outputs": [
    {
     "output_type": "execute_result",
     "data": {
      "text/plain": [
       "array(['low', 'med', 'high'], dtype=object)"
      ]
     },
     "metadata": {},
     "execution_count": 15
    }
   ],
   "metadata": {}
  },
  {
   "cell_type": "code",
   "execution_count": 16,
   "source": [
    "new_safety = []\n",
    "for i in range(0, len(car_data)) :\n",
    "    if car_data['safety'][i] == 'high' :\n",
    "        new_safety.append(1)\n",
    "    elif car_data['safety'][i] == 'med' :\n",
    "        new_safety.append(2)\n",
    "    elif car_data['safety'][i] == 'low' :\n",
    "        new_safety.append(3)\n",
    "car_data['safety'] = new_safety"
   ],
   "outputs": [],
   "metadata": {}
  },
  {
   "cell_type": "markdown",
   "source": [
    "### Modify class as:\n",
    "\n",
    "1 - vgood <br>\n",
    "2 - good <br>\n",
    "3 - acc <br>\n",
    "4 - unacc <br>"
   ],
   "metadata": {}
  },
  {
   "cell_type": "code",
   "execution_count": 17,
   "source": [
    "car_data['class'].unique()"
   ],
   "outputs": [
    {
     "output_type": "execute_result",
     "data": {
      "text/plain": [
       "array(['unacc', 'acc', 'vgood', 'good'], dtype=object)"
      ]
     },
     "metadata": {},
     "execution_count": 17
    }
   ],
   "metadata": {}
  },
  {
   "cell_type": "code",
   "execution_count": 18,
   "source": [
    "new_class = []\n",
    "for i in range(0, len(car_data)) :\n",
    "    if car_data['class'][i] == 'vgood' :\n",
    "        new_class.append(1)\n",
    "    elif car_data['class'][i] == 'good' :\n",
    "        new_class.append(2)\n",
    "    elif car_data['class'][i] == 'acc' :\n",
    "        new_class.append(3)\n",
    "    elif car_data['class'][i] == 'unacc' :\n",
    "        new_class.append(4)\n",
    "car_data['class'] = new_class"
   ],
   "outputs": [],
   "metadata": {}
  },
  {
   "cell_type": "markdown",
   "source": [
    "#### Summary of new dataframe"
   ],
   "metadata": {}
  },
  {
   "cell_type": "code",
   "execution_count": 19,
   "source": [
    "car_data.head()"
   ],
   "outputs": [
    {
     "output_type": "execute_result",
     "data": {
      "text/html": [
       "<div>\n",
       "<style scoped>\n",
       "    .dataframe tbody tr th:only-of-type {\n",
       "        vertical-align: middle;\n",
       "    }\n",
       "\n",
       "    .dataframe tbody tr th {\n",
       "        vertical-align: top;\n",
       "    }\n",
       "\n",
       "    .dataframe thead th {\n",
       "        text-align: right;\n",
       "    }\n",
       "</style>\n",
       "<table border=\"1\" class=\"dataframe\">\n",
       "  <thead>\n",
       "    <tr style=\"text-align: right;\">\n",
       "      <th></th>\n",
       "      <th>buying</th>\n",
       "      <th>maint</th>\n",
       "      <th>doors</th>\n",
       "      <th>persons</th>\n",
       "      <th>lug_boot</th>\n",
       "      <th>safety</th>\n",
       "      <th>class</th>\n",
       "    </tr>\n",
       "  </thead>\n",
       "  <tbody>\n",
       "    <tr>\n",
       "      <th>0</th>\n",
       "      <td>1</td>\n",
       "      <td>1</td>\n",
       "      <td>2</td>\n",
       "      <td>2</td>\n",
       "      <td>3</td>\n",
       "      <td>3</td>\n",
       "      <td>4</td>\n",
       "    </tr>\n",
       "    <tr>\n",
       "      <th>1</th>\n",
       "      <td>1</td>\n",
       "      <td>1</td>\n",
       "      <td>2</td>\n",
       "      <td>2</td>\n",
       "      <td>3</td>\n",
       "      <td>2</td>\n",
       "      <td>4</td>\n",
       "    </tr>\n",
       "    <tr>\n",
       "      <th>2</th>\n",
       "      <td>1</td>\n",
       "      <td>1</td>\n",
       "      <td>2</td>\n",
       "      <td>2</td>\n",
       "      <td>3</td>\n",
       "      <td>1</td>\n",
       "      <td>4</td>\n",
       "    </tr>\n",
       "    <tr>\n",
       "      <th>3</th>\n",
       "      <td>1</td>\n",
       "      <td>1</td>\n",
       "      <td>2</td>\n",
       "      <td>2</td>\n",
       "      <td>2</td>\n",
       "      <td>3</td>\n",
       "      <td>4</td>\n",
       "    </tr>\n",
       "    <tr>\n",
       "      <th>4</th>\n",
       "      <td>1</td>\n",
       "      <td>1</td>\n",
       "      <td>2</td>\n",
       "      <td>2</td>\n",
       "      <td>2</td>\n",
       "      <td>2</td>\n",
       "      <td>4</td>\n",
       "    </tr>\n",
       "  </tbody>\n",
       "</table>\n",
       "</div>"
      ],
      "text/plain": [
       "   buying  maint  doors  persons  lug_boot  safety  class\n",
       "0       1      1      2        2         3       3      4\n",
       "1       1      1      2        2         3       2      4\n",
       "2       1      1      2        2         3       1      4\n",
       "3       1      1      2        2         2       3      4\n",
       "4       1      1      2        2         2       2      4"
      ]
     },
     "metadata": {},
     "execution_count": 19
    }
   ],
   "metadata": {
    "scrolled": true
   }
  },
  {
   "cell_type": "markdown",
   "source": [
    "### Prepare logging dataframe"
   ],
   "metadata": {}
  },
  {
   "cell_type": "code",
   "execution_count": 20,
   "source": [
    "log_model = []\n",
    "log_accuracy = []\n",
    "log_precision = []\n",
    "log_recall = []\n",
    "log_cnf_matrix = []\n",
    "\n",
    "def update_log(model, accuracy, precision, recall, cnf_matrix) :\n",
    "    log_model.append(model)\n",
    "    log_accuracy.append(accuracy)\n",
    "    log_precision.append(precision)\n",
    "    log_recall.append(recall)\n",
    "    log_cnf_matrix.append(cnf_matrix)"
   ],
   "outputs": [],
   "metadata": {}
  },
  {
   "cell_type": "markdown",
   "source": [
    "### Results Preparation"
   ],
   "metadata": {}
  },
  {
   "cell_type": "code",
   "execution_count": 21,
   "source": [
    "def print_cnf_matrix(cnf_matrix) :\n",
    "    class_names=[1, 2, 3, 4] # name  of classes\n",
    "    fig, ax = plt.subplots()\n",
    "    tick_marks = np.arange(len(class_names))\n",
    "    plt.xticks(tick_marks, class_names)\n",
    "    plt.yticks(tick_marks, class_names)\n",
    "    # create heatmap\n",
    "    sns.heatmap(pd.DataFrame(cnf_matrix), annot=True, cmap=\"YlGnBu\" ,fmt='g')\n",
    "    ax.xaxis.set_label_position(\"top\")\n",
    "    plt.tight_layout()\n",
    "    plt.title('Confusion matrix', y=1.1)\n",
    "    plt.ylabel('Actual label')\n",
    "    plt.xlabel('Predicted label')"
   ],
   "outputs": [],
   "metadata": {}
  },
  {
   "cell_type": "code",
   "execution_count": 22,
   "source": [
    "def results(model_name, y_pred) :\n",
    "    accuracy = metrics.accuracy_score(y_test, y_pred)\n",
    "    precision = metrics.precision_score(y_test, y_pred, average='micro')\n",
    "    recall = metrics.recall_score(y_test, y_pred, average='micro')\n",
    "    cnf_matrix = metrics.confusion_matrix(y_test, y_pred)\n",
    "\n",
    "    update_log(model_name, accuracy, precision, recall, cnf_matrix)\n",
    "\n",
    "    print(\"Accuracy:\", accuracy)\n",
    "    print(\"Precision:\", precision)\n",
    "    print(\"Recall:\", recall)\n",
    "    print(\"Confusion Matrix:\", cnf_matrix)\n",
    "    \n",
    "    print_cnf_matrix(cnf_matrix)"
   ],
   "outputs": [],
   "metadata": {}
  },
  {
   "cell_type": "markdown",
   "source": [
    "### Split data into Train and Test"
   ],
   "metadata": {}
  },
  {
   "cell_type": "code",
   "execution_count": 23,
   "source": [
    "X_train, X_test, y_train, y_test = train_test_split(car_data[['maint', 'doors', 'persons', 'lug_boot', 'safety', 'class']], car_data['buying'], test_size=0.3, random_state=42)"
   ],
   "outputs": [],
   "metadata": {}
  },
  {
   "cell_type": "markdown",
   "source": [
    "## Model 1: Logistic Regression"
   ],
   "metadata": {}
  },
  {
   "cell_type": "code",
   "execution_count": 24,
   "source": [
    "model_logreg = LogisticRegression()\n",
    "model_logreg.fit(X_train, y_train)\n",
    "y_pred_logreg = model_logreg.predict(X_test)\n",
    "\n",
    "results(\"Logistic Regression\", y_pred_logreg)"
   ],
   "outputs": [
    {
     "output_type": "stream",
     "name": "stderr",
     "text": [
      "/Users/benjaminfheng/opt/anaconda3/lib/python3.8/site-packages/sklearn/linear_model/_logistic.py:762: ConvergenceWarning: lbfgs failed to converge (status=1):\n",
      "STOP: TOTAL NO. of ITERATIONS REACHED LIMIT.\n",
      "\n",
      "Increase the number of iterations (max_iter) or scale the data as shown in:\n",
      "    https://scikit-learn.org/stable/modules/preprocessing.html\n",
      "Please also refer to the documentation for alternative solver options:\n",
      "    https://scikit-learn.org/stable/modules/linear_model.html#logistic-regression\n",
      "  n_iter_i = _check_optimize_result(\n"
     ]
    },
    {
     "output_type": "stream",
     "name": "stdout",
     "text": [
      "Accuracy: 0.32947976878612717\n",
      "Precision: 0.32947976878612717\n",
      "Recall: 0.32947976878612717\n",
      "Confusion Matrix: [[63 22 22 20]\n",
      " [57 23 31 22]\n",
      " [35 14 32 43]\n",
      " [38 11 33 53]]\n"
     ]
    },
    {
     "output_type": "display_data",
     "data": {
      "image/png": "[encoded data removed]",
      "text/plain": [
       "<Figure size 432x288 with 2 Axes>"
      ]
     },
     "metadata": {
      "needs_background": "light"
     }
    }
   ],
   "metadata": {}
  },
  {
   "cell_type": "markdown",
   "source": [
    "### Model 1: Logistic Regression (GridSearch)"
   ],
   "metadata": {}
  },
  {
   "cell_type": "code",
   "execution_count": 25,
   "source": [
    "grid_lr={\"C\":np.logspace(-3,3,7), \"penalty\":[\"l1\",\"l2\"]}# l1 lasso l2 ridge\n",
    "model_logreg_gs = GridSearchCV(model_logreg, grid_lr, cv=10)\n",
    "model_logreg_gs.fit(X_train, y_train)"
   ],
   "outputs": [
    {
     "output_type": "stream",
     "name": "stderr",
     "text": [
      "/Users/benjaminfheng/opt/anaconda3/lib/python3.8/site-packages/sklearn/model_selection/_validation.py:548: FitFailedWarning: Estimator fit failed. The score on this train-test partition for these parameters will be set to nan. Details: \n",
      "Traceback (most recent call last):\n",
      "  File \"/Users/benjaminfheng/opt/anaconda3/lib/python3.8/site-packages/sklearn/model_selection/_validation.py\", line 531, in _fit_and_score\n",
      "    estimator.fit(X_train, y_train, **fit_params)\n",
      "  File \"/Users/benjaminfheng/opt/anaconda3/lib/python3.8/site-packages/sklearn/linear_model/_logistic.py\", line 1304, in fit\n",
      "    solver = _check_solver(self.solver, self.penalty, self.dual)\n",
      "  File \"/Users/benjaminfheng/opt/anaconda3/lib/python3.8/site-packages/sklearn/linear_model/_logistic.py\", line 442, in _check_solver\n",
      "    raise ValueError(\"Solver %s supports only 'l2' or 'none' penalties, \"\n",
      "ValueError: Solver lbfgs supports only 'l2' or 'none' penalties, got l1 penalty.\n",
      "\n",
      "  warnings.warn(\"Estimator fit failed. The score on this train-test\"\n",
      "/Users/benjaminfheng/opt/anaconda3/lib/python3.8/site-packages/sklearn/model_selection/_validation.py:548: FitFailedWarning: Estimator fit failed. The score on this train-test partition for these parameters will be set to nan. Details: \n",
      "Traceback (most recent call last):\n",
      "  File \"/Users/benjaminfheng/opt/anaconda3/lib/python3.8/site-packages/sklearn/model_selection/_validation.py\", line 531, in _fit_and_score\n",
      "    estimator.fit(X_train, y_train, **fit_params)\n",
      "  File \"/Users/benjaminfheng/opt/anaconda3/lib/python3.8/site-packages/sklearn/linear_model/_logistic.py\", line 1304, in fit\n",
      "    solver = _check_solver(self.solver, self.penalty, self.dual)\n",
      "  File \"/Users/benjaminfheng/opt/anaconda3/lib/python3.8/site-packages/sklearn/linear_model/_logistic.py\", line 442, in _check_solver\n",
      "    raise ValueError(\"Solver %s supports only 'l2' or 'none' penalties, \"\n",
      "ValueError: Solver lbfgs supports only 'l2' or 'none' penalties, got l1 penalty.\n",
      "\n",
      "  warnings.warn(\"Estimator fit failed. The score on this train-test\"\n",
      "/Users/benjaminfheng/opt/anaconda3/lib/python3.8/site-packages/sklearn/model_selection/_validation.py:548: FitFailedWarning: Estimator fit failed. The score on this train-test partition for these parameters will be set to nan. Details: \n",
      "Traceback (most recent call last):\n",
      "  File \"/Users/benjaminfheng/opt/anaconda3/lib/python3.8/site-packages/sklearn/model_selection/_validation.py\", line 531, in _fit_and_score\n",
      "    estimator.fit(X_train, y_train, **fit_params)\n",
      "  File \"/Users/benjaminfheng/opt/anaconda3/lib/python3.8/site-packages/sklearn/linear_model/_logistic.py\", line 1304, in fit\n",
      "    solver = _check_solver(self.solver, self.penalty, self.dual)\n",
      "  File \"/Users/benjaminfheng/opt/anaconda3/lib/python3.8/site-packages/sklearn/linear_model/_logistic.py\", line 442, in _check_solver\n",
      "    raise ValueError(\"Solver %s supports only 'l2' or 'none' penalties, \"\n",
      "ValueError: Solver lbfgs supports only 'l2' or 'none' penalties, got l1 penalty.\n",
      "\n",
      "  warnings.warn(\"Estimator fit failed. The score on this train-test\"\n",
      "/Users/benjaminfheng/opt/anaconda3/lib/python3.8/site-packages/sklearn/linear_model/_logistic.py:762: ConvergenceWarning: lbfgs failed to converge (status=1):\n",
      "STOP: TOTAL NO. of ITERATIONS REACHED LIMIT.\n",
      "\n",
      "Increase the number of iterations (max_iter) or scale the data as shown in:\n",
      "    https://scikit-learn.org/stable/modules/preprocessing.html\n",
      "Please also refer to the documentation for alternative solver options:\n",
      "    https://scikit-learn.org/stable/modules/linear_model.html#logistic-regression\n",
      "  n_iter_i = _check_optimize_result(\n",
      "/Users/benjaminfheng/opt/anaconda3/lib/python3.8/site-packages/sklearn/linear_model/_logistic.py:762: ConvergenceWarning: lbfgs failed to converge (status=1):\n",
      "STOP: TOTAL NO. of ITERATIONS REACHED LIMIT.\n",
      "\n",
      "Increase the number of iterations (max_iter) or scale the data as shown in:\n",
      "    https://scikit-learn.org/stable/modules/preprocessing.html\n",
      "Please also refer to the documentation for alternative solver options:\n",
      "    https://scikit-learn.org/stable/modules/linear_model.html#logistic-regression\n",
      "  n_iter_i = _check_optimize_result(\n",
      "/Users/benjaminfheng/opt/anaconda3/lib/python3.8/site-packages/sklearn/linear_model/_logistic.py:762: ConvergenceWarning: lbfgs failed to converge (status=1):\n",
      "STOP: TOTAL NO. of ITERATIONS REACHED LIMIT.\n",
      "\n",
      "Increase the number of iterations (max_iter) or scale the data as shown in:\n",
      "    https://scikit-learn.org/stable/modules/preprocessing.html\n",
      "Please also refer to the documentation for alternative solver options:\n",
      "    https://scikit-learn.org/stable/modules/linear_model.html#logistic-regression\n",
      "  n_iter_i = _check_optimize_result(\n",
      "/Users/benjaminfheng/opt/anaconda3/lib/python3.8/site-packages/sklearn/linear_model/_logistic.py:762: ConvergenceWarning: lbfgs failed to converge (status=1):\n",
      "STOP: TOTAL NO. of ITERATIONS REACHED LIMIT.\n",
      "\n",
      "Increase the number of iterations (max_iter) or scale the data as shown in:\n",
      "    https://scikit-learn.org/stable/modules/preprocessing.html\n",
      "Please also refer to the documentation for alternative solver options:\n",
      "    https://scikit-learn.org/stable/modules/linear_model.html#logistic-regression\n",
      "  n_iter_i = _check_optimize_result(\n",
      "/Users/benjaminfheng/opt/anaconda3/lib/python3.8/site-packages/sklearn/linear_model/_logistic.py:762: ConvergenceWarning: lbfgs failed to converge (status=1):\n",
      "STOP: TOTAL NO. of ITERATIONS REACHED LIMIT.\n",
      "\n",
      "Increase the number of iterations (max_iter) or scale the data as shown in:\n",
      "    https://scikit-learn.org/stable/modules/preprocessing.html\n",
      "Please also refer to the documentation for alternative solver options:\n",
      "    https://scikit-learn.org/stable/modules/linear_model.html#logistic-regression\n",
      "  n_iter_i = _check_optimize_result(\n",
      "/Users/benjaminfheng/opt/anaconda3/lib/python3.8/site-packages/sklearn/linear_model/_logistic.py:762: ConvergenceWarning: lbfgs failed to converge (status=1):\n",
      "STOP: TOTAL NO. of ITERATIONS REACHED LIMIT.\n",
      "\n",
      "Increase the number of iterations (max_iter) or scale the data as shown in:\n",
      "    https://scikit-learn.org/stable/modules/preprocessing.html\n",
      "Please also refer to the documentation for alternative solver options:\n",
      "    https://scikit-learn.org/stable/modules/linear_model.html#logistic-regression\n",
      "  n_iter_i = _check_optimize_result(\n",
      "/Users/benjaminfheng/opt/anaconda3/lib/python3.8/site-packages/sklearn/linear_model/_logistic.py:762: ConvergenceWarning: lbfgs failed to converge (status=1):\n",
      "STOP: TOTAL NO. of ITERATIONS REACHED LIMIT.\n",
      "\n",
      "Increase the number of iterations (max_iter) or scale the data as shown in:\n",
      "    https://scikit-learn.org/stable/modules/preprocessing.html\n",
      "Please also refer to the documentation for alternative solver options:\n",
      "    https://scikit-learn.org/stable/modules/linear_model.html#logistic-regression\n",
      "  n_iter_i = _check_optimize_result(\n",
      "/Users/benjaminfheng/opt/anaconda3/lib/python3.8/site-packages/sklearn/linear_model/_logistic.py:762: ConvergenceWarning: lbfgs failed to converge (status=1):\n",
      "STOP: TOTAL NO. of ITERATIONS REACHED LIMIT.\n",
      "\n",
      "Increase the number of iterations (max_iter) or scale the data as shown in:\n",
      "    https://scikit-learn.org/stable/modules/preprocessing.html\n",
      "Please also refer to the documentation for alternative solver options:\n",
      "    https://scikit-learn.org/stable/modules/linear_model.html#logistic-regression\n",
      "  n_iter_i = _check_optimize_result(\n",
      "/Users/benjaminfheng/opt/anaconda3/lib/python3.8/site-packages/sklearn/linear_model/_logistic.py:762: ConvergenceWarning: lbfgs failed to converge (status=1):\n",
      "STOP: TOTAL NO. of ITERATIONS REACHED LIMIT.\n",
      "\n",
      "Increase the number of iterations (max_iter) or scale the data as shown in:\n",
      "    https://scikit-learn.org/stable/modules/preprocessing.html\n",
      "Please also refer to the documentation for alternative solver options:\n",
      "    https://scikit-learn.org/stable/modules/linear_model.html#logistic-regression\n",
      "  n_iter_i = _check_optimize_result(\n",
      "/Users/benjaminfheng/opt/anaconda3/lib/python3.8/site-packages/sklearn/linear_model/_logistic.py:762: ConvergenceWarning: lbfgs failed to converge (status=1):\n",
      "STOP: TOTAL NO. of ITERATIONS REACHED LIMIT.\n",
      "\n",
      "Increase the number of iterations (max_iter) or scale the data as shown in:\n",
      "    https://scikit-learn.org/stable/modules/preprocessing.html\n",
      "Please also refer to the documentation for alternative solver options:\n",
      "    https://scikit-learn.org/stable/modules/linear_model.html#logistic-regression\n",
      "  n_iter_i = _check_optimize_result(\n",
      "/Users/benjaminfheng/opt/anaconda3/lib/python3.8/site-packages/sklearn/model_selection/_validation.py:548: FitFailedWarning: Estimator fit failed. The score on this train-test partition for these parameters will be set to nan. Details: \n",
      "Traceback (most recent call last):\n",
      "  File \"/Users/benjaminfheng/opt/anaconda3/lib/python3.8/site-packages/sklearn/model_selection/_validation.py\", line 531, in _fit_and_score\n",
      "    estimator.fit(X_train, y_train, **fit_params)\n",
      "  File \"/Users/benjaminfheng/opt/anaconda3/lib/python3.8/site-packages/sklearn/linear_model/_logistic.py\", line 1304, in fit\n",
      "    solver = _check_solver(self.solver, self.penalty, self.dual)\n",
      "  File \"/Users/benjaminfheng/opt/anaconda3/lib/python3.8/site-packages/sklearn/linear_model/_logistic.py\", line 442, in _check_solver\n",
      "    raise ValueError(\"Solver %s supports only 'l2' or 'none' penalties, \"\n",
      "ValueError: Solver lbfgs supports only 'l2' or 'none' penalties, got l1 penalty.\n",
      "\n",
      "  warnings.warn(\"Estimator fit failed. The score on this train-test\"\n",
      "/Users/benjaminfheng/opt/anaconda3/lib/python3.8/site-packages/sklearn/linear_model/_logistic.py:762: ConvergenceWarning: lbfgs failed to converge (status=1):\n",
      "STOP: TOTAL NO. of ITERATIONS REACHED LIMIT.\n",
      "\n",
      "Increase the number of iterations (max_iter) or scale the data as shown in:\n",
      "    https://scikit-learn.org/stable/modules/preprocessing.html\n",
      "Please also refer to the documentation for alternative solver options:\n",
      "    https://scikit-learn.org/stable/modules/linear_model.html#logistic-regression\n",
      "  n_iter_i = _check_optimize_result(\n",
      "/Users/benjaminfheng/opt/anaconda3/lib/python3.8/site-packages/sklearn/linear_model/_logistic.py:762: ConvergenceWarning: lbfgs failed to converge (status=1):\n",
      "STOP: TOTAL NO. of ITERATIONS REACHED LIMIT.\n",
      "\n",
      "Increase the number of iterations (max_iter) or scale the data as shown in:\n",
      "    https://scikit-learn.org/stable/modules/preprocessing.html\n",
      "Please also refer to the documentation for alternative solver options:\n",
      "    https://scikit-learn.org/stable/modules/linear_model.html#logistic-regression\n",
      "  n_iter_i = _check_optimize_result(\n",
      "/Users/benjaminfheng/opt/anaconda3/lib/python3.8/site-packages/sklearn/linear_model/_logistic.py:762: ConvergenceWarning: lbfgs failed to converge (status=1):\n",
      "STOP: TOTAL NO. of ITERATIONS REACHED LIMIT.\n",
      "\n",
      "Increase the number of iterations (max_iter) or scale the data as shown in:\n",
      "    https://scikit-learn.org/stable/modules/preprocessing.html\n",
      "Please also refer to the documentation for alternative solver options:\n",
      "    https://scikit-learn.org/stable/modules/linear_model.html#logistic-regression\n",
      "  n_iter_i = _check_optimize_result(\n",
      "/Users/benjaminfheng/opt/anaconda3/lib/python3.8/site-packages/sklearn/linear_model/_logistic.py:762: ConvergenceWarning: lbfgs failed to converge (status=1):\n",
      "STOP: TOTAL NO. of ITERATIONS REACHED LIMIT.\n",
      "\n",
      "Increase the number of iterations (max_iter) or scale the data as shown in:\n",
      "    https://scikit-learn.org/stable/modules/preprocessing.html\n",
      "Please also refer to the documentation for alternative solver options:\n",
      "    https://scikit-learn.org/stable/modules/linear_model.html#logistic-regression\n",
      "  n_iter_i = _check_optimize_result(\n",
      "/Users/benjaminfheng/opt/anaconda3/lib/python3.8/site-packages/sklearn/linear_model/_logistic.py:762: ConvergenceWarning: lbfgs failed to converge (status=1):\n",
      "STOP: TOTAL NO. of ITERATIONS REACHED LIMIT.\n",
      "\n",
      "Increase the number of iterations (max_iter) or scale the data as shown in:\n",
      "    https://scikit-learn.org/stable/modules/preprocessing.html\n",
      "Please also refer to the documentation for alternative solver options:\n",
      "    https://scikit-learn.org/stable/modules/linear_model.html#logistic-regression\n",
      "  n_iter_i = _check_optimize_result(\n",
      "/Users/benjaminfheng/opt/anaconda3/lib/python3.8/site-packages/sklearn/linear_model/_logistic.py:762: ConvergenceWarning: lbfgs failed to converge (status=1):\n",
      "STOP: TOTAL NO. of ITERATIONS REACHED LIMIT.\n",
      "\n",
      "Increase the number of iterations (max_iter) or scale the data as shown in:\n",
      "    https://scikit-learn.org/stable/modules/preprocessing.html\n",
      "Please also refer to the documentation for alternative solver options:\n",
      "    https://scikit-learn.org/stable/modules/linear_model.html#logistic-regression\n",
      "  n_iter_i = _check_optimize_result(\n",
      "/Users/benjaminfheng/opt/anaconda3/lib/python3.8/site-packages/sklearn/linear_model/_logistic.py:762: ConvergenceWarning: lbfgs failed to converge (status=1):\n",
      "STOP: TOTAL NO. of ITERATIONS REACHED LIMIT.\n",
      "\n",
      "Increase the number of iterations (max_iter) or scale the data as shown in:\n",
      "    https://scikit-learn.org/stable/modules/preprocessing.html\n",
      "Please also refer to the documentation for alternative solver options:\n",
      "    https://scikit-learn.org/stable/modules/linear_model.html#logistic-regression\n",
      "  n_iter_i = _check_optimize_result(\n",
      "/Users/benjaminfheng/opt/anaconda3/lib/python3.8/site-packages/sklearn/linear_model/_logistic.py:762: ConvergenceWarning: lbfgs failed to converge (status=1):\n",
      "STOP: TOTAL NO. of ITERATIONS REACHED LIMIT.\n",
      "\n",
      "Increase the number of iterations (max_iter) or scale the data as shown in:\n",
      "    https://scikit-learn.org/stable/modules/preprocessing.html\n",
      "Please also refer to the documentation for alternative solver options:\n",
      "    https://scikit-learn.org/stable/modules/linear_model.html#logistic-regression\n",
      "  n_iter_i = _check_optimize_result(\n",
      "/Users/benjaminfheng/opt/anaconda3/lib/python3.8/site-packages/sklearn/linear_model/_logistic.py:762: ConvergenceWarning: lbfgs failed to converge (status=1):\n",
      "STOP: TOTAL NO. of ITERATIONS REACHED LIMIT.\n",
      "\n",
      "Increase the number of iterations (max_iter) or scale the data as shown in:\n",
      "    https://scikit-learn.org/stable/modules/preprocessing.html\n",
      "Please also refer to the documentation for alternative solver options:\n",
      "    https://scikit-learn.org/stable/modules/linear_model.html#logistic-regression\n",
      "  n_iter_i = _check_optimize_result(\n",
      "/Users/benjaminfheng/opt/anaconda3/lib/python3.8/site-packages/sklearn/linear_model/_logistic.py:762: ConvergenceWarning: lbfgs failed to converge (status=1):\n",
      "STOP: TOTAL NO. of ITERATIONS REACHED LIMIT.\n",
      "\n",
      "Increase the number of iterations (max_iter) or scale the data as shown in:\n",
      "    https://scikit-learn.org/stable/modules/preprocessing.html\n",
      "Please also refer to the documentation for alternative solver options:\n",
      "    https://scikit-learn.org/stable/modules/linear_model.html#logistic-regression\n",
      "  n_iter_i = _check_optimize_result(\n",
      "/Users/benjaminfheng/opt/anaconda3/lib/python3.8/site-packages/sklearn/model_selection/_validation.py:548: FitFailedWarning: Estimator fit failed. The score on this train-test partition for these parameters will be set to nan. Details: \n",
      "Traceback (most recent call last):\n",
      "  File \"/Users/benjaminfheng/opt/anaconda3/lib/python3.8/site-packages/sklearn/model_selection/_validation.py\", line 531, in _fit_and_score\n",
      "    estimator.fit(X_train, y_train, **fit_params)\n",
      "  File \"/Users/benjaminfheng/opt/anaconda3/lib/python3.8/site-packages/sklearn/linear_model/_logistic.py\", line 1304, in fit\n",
      "    solver = _check_solver(self.solver, self.penalty, self.dual)\n",
      "  File \"/Users/benjaminfheng/opt/anaconda3/lib/python3.8/site-packages/sklearn/linear_model/_logistic.py\", line 442, in _check_solver\n",
      "    raise ValueError(\"Solver %s supports only 'l2' or 'none' penalties, \"\n",
      "ValueError: Solver lbfgs supports only 'l2' or 'none' penalties, got l1 penalty.\n",
      "\n",
      "  warnings.warn(\"Estimator fit failed. The score on this train-test\"\n",
      "/Users/benjaminfheng/opt/anaconda3/lib/python3.8/site-packages/sklearn/linear_model/_logistic.py:762: ConvergenceWarning: lbfgs failed to converge (status=1):\n",
      "STOP: TOTAL NO. of ITERATIONS REACHED LIMIT.\n",
      "\n",
      "Increase the number of iterations (max_iter) or scale the data as shown in:\n",
      "    https://scikit-learn.org/stable/modules/preprocessing.html\n",
      "Please also refer to the documentation for alternative solver options:\n",
      "    https://scikit-learn.org/stable/modules/linear_model.html#logistic-regression\n",
      "  n_iter_i = _check_optimize_result(\n",
      "/Users/benjaminfheng/opt/anaconda3/lib/python3.8/site-packages/sklearn/linear_model/_logistic.py:762: ConvergenceWarning: lbfgs failed to converge (status=1):\n",
      "STOP: TOTAL NO. of ITERATIONS REACHED LIMIT.\n",
      "\n",
      "Increase the number of iterations (max_iter) or scale the data as shown in:\n",
      "    https://scikit-learn.org/stable/modules/preprocessing.html\n",
      "Please also refer to the documentation for alternative solver options:\n",
      "    https://scikit-learn.org/stable/modules/linear_model.html#logistic-regression\n",
      "  n_iter_i = _check_optimize_result(\n",
      "/Users/benjaminfheng/opt/anaconda3/lib/python3.8/site-packages/sklearn/linear_model/_logistic.py:762: ConvergenceWarning: lbfgs failed to converge (status=1):\n",
      "STOP: TOTAL NO. of ITERATIONS REACHED LIMIT.\n",
      "\n",
      "Increase the number of iterations (max_iter) or scale the data as shown in:\n",
      "    https://scikit-learn.org/stable/modules/preprocessing.html\n",
      "Please also refer to the documentation for alternative solver options:\n",
      "    https://scikit-learn.org/stable/modules/linear_model.html#logistic-regression\n",
      "  n_iter_i = _check_optimize_result(\n",
      "/Users/benjaminfheng/opt/anaconda3/lib/python3.8/site-packages/sklearn/linear_model/_logistic.py:762: ConvergenceWarning: lbfgs failed to converge (status=1):\n",
      "STOP: TOTAL NO. of ITERATIONS REACHED LIMIT.\n",
      "\n",
      "Increase the number of iterations (max_iter) or scale the data as shown in:\n",
      "    https://scikit-learn.org/stable/modules/preprocessing.html\n",
      "Please also refer to the documentation for alternative solver options:\n",
      "    https://scikit-learn.org/stable/modules/linear_model.html#logistic-regression\n",
      "  n_iter_i = _check_optimize_result(\n",
      "/Users/benjaminfheng/opt/anaconda3/lib/python3.8/site-packages/sklearn/linear_model/_logistic.py:762: ConvergenceWarning: lbfgs failed to converge (status=1):\n",
      "STOP: TOTAL NO. of ITERATIONS REACHED LIMIT.\n",
      "\n",
      "Increase the number of iterations (max_iter) or scale the data as shown in:\n",
      "    https://scikit-learn.org/stable/modules/preprocessing.html\n",
      "Please also refer to the documentation for alternative solver options:\n",
      "    https://scikit-learn.org/stable/modules/linear_model.html#logistic-regression\n",
      "  n_iter_i = _check_optimize_result(\n",
      "/Users/benjaminfheng/opt/anaconda3/lib/python3.8/site-packages/sklearn/linear_model/_logistic.py:762: ConvergenceWarning: lbfgs failed to converge (status=1):\n",
      "STOP: TOTAL NO. of ITERATIONS REACHED LIMIT.\n",
      "\n",
      "Increase the number of iterations (max_iter) or scale the data as shown in:\n",
      "    https://scikit-learn.org/stable/modules/preprocessing.html\n",
      "Please also refer to the documentation for alternative solver options:\n",
      "    https://scikit-learn.org/stable/modules/linear_model.html#logistic-regression\n",
      "  n_iter_i = _check_optimize_result(\n",
      "/Users/benjaminfheng/opt/anaconda3/lib/python3.8/site-packages/sklearn/linear_model/_logistic.py:762: ConvergenceWarning: lbfgs failed to converge (status=1):\n",
      "STOP: TOTAL NO. of ITERATIONS REACHED LIMIT.\n",
      "\n",
      "Increase the number of iterations (max_iter) or scale the data as shown in:\n",
      "    https://scikit-learn.org/stable/modules/preprocessing.html\n",
      "Please also refer to the documentation for alternative solver options:\n",
      "    https://scikit-learn.org/stable/modules/linear_model.html#logistic-regression\n",
      "  n_iter_i = _check_optimize_result(\n",
      "/Users/benjaminfheng/opt/anaconda3/lib/python3.8/site-packages/sklearn/linear_model/_logistic.py:762: ConvergenceWarning: lbfgs failed to converge (status=1):\n",
      "STOP: TOTAL NO. of ITERATIONS REACHED LIMIT.\n",
      "\n",
      "Increase the number of iterations (max_iter) or scale the data as shown in:\n",
      "    https://scikit-learn.org/stable/modules/preprocessing.html\n",
      "Please also refer to the documentation for alternative solver options:\n",
      "    https://scikit-learn.org/stable/modules/linear_model.html#logistic-regression\n",
      "  n_iter_i = _check_optimize_result(\n",
      "/Users/benjaminfheng/opt/anaconda3/lib/python3.8/site-packages/sklearn/linear_model/_logistic.py:762: ConvergenceWarning: lbfgs failed to converge (status=1):\n",
      "STOP: TOTAL NO. of ITERATIONS REACHED LIMIT.\n",
      "\n",
      "Increase the number of iterations (max_iter) or scale the data as shown in:\n",
      "    https://scikit-learn.org/stable/modules/preprocessing.html\n",
      "Please also refer to the documentation for alternative solver options:\n",
      "    https://scikit-learn.org/stable/modules/linear_model.html#logistic-regression\n",
      "  n_iter_i = _check_optimize_result(\n",
      "/Users/benjaminfheng/opt/anaconda3/lib/python3.8/site-packages/sklearn/linear_model/_logistic.py:762: ConvergenceWarning: lbfgs failed to converge (status=1):\n",
      "STOP: TOTAL NO. of ITERATIONS REACHED LIMIT.\n",
      "\n",
      "Increase the number of iterations (max_iter) or scale the data as shown in:\n",
      "    https://scikit-learn.org/stable/modules/preprocessing.html\n",
      "Please also refer to the documentation for alternative solver options:\n",
      "    https://scikit-learn.org/stable/modules/linear_model.html#logistic-regression\n",
      "  n_iter_i = _check_optimize_result(\n",
      "/Users/benjaminfheng/opt/anaconda3/lib/python3.8/site-packages/sklearn/model_selection/_validation.py:548: FitFailedWarning: Estimator fit failed. The score on this train-test partition for these parameters will be set to nan. Details: \n",
      "Traceback (most recent call last):\n",
      "  File \"/Users/benjaminfheng/opt/anaconda3/lib/python3.8/site-packages/sklearn/model_selection/_validation.py\", line 531, in _fit_and_score\n",
      "    estimator.fit(X_train, y_train, **fit_params)\n",
      "  File \"/Users/benjaminfheng/opt/anaconda3/lib/python3.8/site-packages/sklearn/linear_model/_logistic.py\", line 1304, in fit\n",
      "    solver = _check_solver(self.solver, self.penalty, self.dual)\n",
      "  File \"/Users/benjaminfheng/opt/anaconda3/lib/python3.8/site-packages/sklearn/linear_model/_logistic.py\", line 442, in _check_solver\n",
      "    raise ValueError(\"Solver %s supports only 'l2' or 'none' penalties, \"\n",
      "ValueError: Solver lbfgs supports only 'l2' or 'none' penalties, got l1 penalty.\n",
      "\n",
      "  warnings.warn(\"Estimator fit failed. The score on this train-test\"\n",
      "/Users/benjaminfheng/opt/anaconda3/lib/python3.8/site-packages/sklearn/linear_model/_logistic.py:762: ConvergenceWarning: lbfgs failed to converge (status=1):\n",
      "STOP: TOTAL NO. of ITERATIONS REACHED LIMIT.\n",
      "\n",
      "Increase the number of iterations (max_iter) or scale the data as shown in:\n",
      "    https://scikit-learn.org/stable/modules/preprocessing.html\n",
      "Please also refer to the documentation for alternative solver options:\n",
      "    https://scikit-learn.org/stable/modules/linear_model.html#logistic-regression\n",
      "  n_iter_i = _check_optimize_result(\n",
      "/Users/benjaminfheng/opt/anaconda3/lib/python3.8/site-packages/sklearn/linear_model/_logistic.py:762: ConvergenceWarning: lbfgs failed to converge (status=1):\n",
      "STOP: TOTAL NO. of ITERATIONS REACHED LIMIT.\n",
      "\n",
      "Increase the number of iterations (max_iter) or scale the data as shown in:\n",
      "    https://scikit-learn.org/stable/modules/preprocessing.html\n",
      "Please also refer to the documentation for alternative solver options:\n",
      "    https://scikit-learn.org/stable/modules/linear_model.html#logistic-regression\n",
      "  n_iter_i = _check_optimize_result(\n",
      "/Users/benjaminfheng/opt/anaconda3/lib/python3.8/site-packages/sklearn/linear_model/_logistic.py:762: ConvergenceWarning: lbfgs failed to converge (status=1):\n",
      "STOP: TOTAL NO. of ITERATIONS REACHED LIMIT.\n",
      "\n",
      "Increase the number of iterations (max_iter) or scale the data as shown in:\n",
      "    https://scikit-learn.org/stable/modules/preprocessing.html\n",
      "Please also refer to the documentation for alternative solver options:\n",
      "    https://scikit-learn.org/stable/modules/linear_model.html#logistic-regression\n",
      "  n_iter_i = _check_optimize_result(\n",
      "/Users/benjaminfheng/opt/anaconda3/lib/python3.8/site-packages/sklearn/linear_model/_logistic.py:762: ConvergenceWarning: lbfgs failed to converge (status=1):\n",
      "STOP: TOTAL NO. of ITERATIONS REACHED LIMIT.\n",
      "\n",
      "Increase the number of iterations (max_iter) or scale the data as shown in:\n",
      "    https://scikit-learn.org/stable/modules/preprocessing.html\n",
      "Please also refer to the documentation for alternative solver options:\n",
      "    https://scikit-learn.org/stable/modules/linear_model.html#logistic-regression\n",
      "  n_iter_i = _check_optimize_result(\n",
      "/Users/benjaminfheng/opt/anaconda3/lib/python3.8/site-packages/sklearn/linear_model/_logistic.py:762: ConvergenceWarning: lbfgs failed to converge (status=1):\n",
      "STOP: TOTAL NO. of ITERATIONS REACHED LIMIT.\n",
      "\n",
      "Increase the number of iterations (max_iter) or scale the data as shown in:\n",
      "    https://scikit-learn.org/stable/modules/preprocessing.html\n",
      "Please also refer to the documentation for alternative solver options:\n",
      "    https://scikit-learn.org/stable/modules/linear_model.html#logistic-regression\n",
      "  n_iter_i = _check_optimize_result(\n",
      "/Users/benjaminfheng/opt/anaconda3/lib/python3.8/site-packages/sklearn/linear_model/_logistic.py:762: ConvergenceWarning: lbfgs failed to converge (status=1):\n",
      "STOP: TOTAL NO. of ITERATIONS REACHED LIMIT.\n",
      "\n",
      "Increase the number of iterations (max_iter) or scale the data as shown in:\n",
      "    https://scikit-learn.org/stable/modules/preprocessing.html\n",
      "Please also refer to the documentation for alternative solver options:\n",
      "    https://scikit-learn.org/stable/modules/linear_model.html#logistic-regression\n",
      "  n_iter_i = _check_optimize_result(\n",
      "/Users/benjaminfheng/opt/anaconda3/lib/python3.8/site-packages/sklearn/linear_model/_logistic.py:762: ConvergenceWarning: lbfgs failed to converge (status=1):\n",
      "STOP: TOTAL NO. of ITERATIONS REACHED LIMIT.\n",
      "\n",
      "Increase the number of iterations (max_iter) or scale the data as shown in:\n",
      "    https://scikit-learn.org/stable/modules/preprocessing.html\n",
      "Please also refer to the documentation for alternative solver options:\n",
      "    https://scikit-learn.org/stable/modules/linear_model.html#logistic-regression\n",
      "  n_iter_i = _check_optimize_result(\n",
      "/Users/benjaminfheng/opt/anaconda3/lib/python3.8/site-packages/sklearn/linear_model/_logistic.py:762: ConvergenceWarning: lbfgs failed to converge (status=1):\n",
      "STOP: TOTAL NO. of ITERATIONS REACHED LIMIT.\n",
      "\n",
      "Increase the number of iterations (max_iter) or scale the data as shown in:\n",
      "    https://scikit-learn.org/stable/modules/preprocessing.html\n",
      "Please also refer to the documentation for alternative solver options:\n",
      "    https://scikit-learn.org/stable/modules/linear_model.html#logistic-regression\n",
      "  n_iter_i = _check_optimize_result(\n",
      "/Users/benjaminfheng/opt/anaconda3/lib/python3.8/site-packages/sklearn/linear_model/_logistic.py:762: ConvergenceWarning: lbfgs failed to converge (status=1):\n",
      "STOP: TOTAL NO. of ITERATIONS REACHED LIMIT.\n",
      "\n",
      "Increase the number of iterations (max_iter) or scale the data as shown in:\n",
      "    https://scikit-learn.org/stable/modules/preprocessing.html\n",
      "Please also refer to the documentation for alternative solver options:\n",
      "    https://scikit-learn.org/stable/modules/linear_model.html#logistic-regression\n",
      "  n_iter_i = _check_optimize_result(\n",
      "/Users/benjaminfheng/opt/anaconda3/lib/python3.8/site-packages/sklearn/linear_model/_logistic.py:762: ConvergenceWarning: lbfgs failed to converge (status=1):\n",
      "STOP: TOTAL NO. of ITERATIONS REACHED LIMIT.\n",
      "\n",
      "Increase the number of iterations (max_iter) or scale the data as shown in:\n",
      "    https://scikit-learn.org/stable/modules/preprocessing.html\n",
      "Please also refer to the documentation for alternative solver options:\n",
      "    https://scikit-learn.org/stable/modules/linear_model.html#logistic-regression\n",
      "  n_iter_i = _check_optimize_result(\n",
      "/Users/benjaminfheng/opt/anaconda3/lib/python3.8/site-packages/sklearn/model_selection/_validation.py:548: FitFailedWarning: Estimator fit failed. The score on this train-test partition for these parameters will be set to nan. Details: \n",
      "Traceback (most recent call last):\n",
      "  File \"/Users/benjaminfheng/opt/anaconda3/lib/python3.8/site-packages/sklearn/model_selection/_validation.py\", line 531, in _fit_and_score\n",
      "    estimator.fit(X_train, y_train, **fit_params)\n",
      "  File \"/Users/benjaminfheng/opt/anaconda3/lib/python3.8/site-packages/sklearn/linear_model/_logistic.py\", line 1304, in fit\n",
      "    solver = _check_solver(self.solver, self.penalty, self.dual)\n",
      "  File \"/Users/benjaminfheng/opt/anaconda3/lib/python3.8/site-packages/sklearn/linear_model/_logistic.py\", line 442, in _check_solver\n",
      "    raise ValueError(\"Solver %s supports only 'l2' or 'none' penalties, \"\n",
      "ValueError: Solver lbfgs supports only 'l2' or 'none' penalties, got l1 penalty.\n",
      "\n",
      "  warnings.warn(\"Estimator fit failed. The score on this train-test\"\n",
      "/Users/benjaminfheng/opt/anaconda3/lib/python3.8/site-packages/sklearn/linear_model/_logistic.py:762: ConvergenceWarning: lbfgs failed to converge (status=1):\n",
      "STOP: TOTAL NO. of ITERATIONS REACHED LIMIT.\n",
      "\n",
      "Increase the number of iterations (max_iter) or scale the data as shown in:\n",
      "    https://scikit-learn.org/stable/modules/preprocessing.html\n",
      "Please also refer to the documentation for alternative solver options:\n",
      "    https://scikit-learn.org/stable/modules/linear_model.html#logistic-regression\n",
      "  n_iter_i = _check_optimize_result(\n",
      "/Users/benjaminfheng/opt/anaconda3/lib/python3.8/site-packages/sklearn/linear_model/_logistic.py:762: ConvergenceWarning: lbfgs failed to converge (status=1):\n",
      "STOP: TOTAL NO. of ITERATIONS REACHED LIMIT.\n",
      "\n",
      "Increase the number of iterations (max_iter) or scale the data as shown in:\n",
      "    https://scikit-learn.org/stable/modules/preprocessing.html\n",
      "Please also refer to the documentation for alternative solver options:\n",
      "    https://scikit-learn.org/stable/modules/linear_model.html#logistic-regression\n",
      "  n_iter_i = _check_optimize_result(\n",
      "/Users/benjaminfheng/opt/anaconda3/lib/python3.8/site-packages/sklearn/linear_model/_logistic.py:762: ConvergenceWarning: lbfgs failed to converge (status=1):\n",
      "STOP: TOTAL NO. of ITERATIONS REACHED LIMIT.\n",
      "\n",
      "Increase the number of iterations (max_iter) or scale the data as shown in:\n",
      "    https://scikit-learn.org/stable/modules/preprocessing.html\n",
      "Please also refer to the documentation for alternative solver options:\n",
      "    https://scikit-learn.org/stable/modules/linear_model.html#logistic-regression\n",
      "  n_iter_i = _check_optimize_result(\n",
      "/Users/benjaminfheng/opt/anaconda3/lib/python3.8/site-packages/sklearn/linear_model/_logistic.py:762: ConvergenceWarning: lbfgs failed to converge (status=1):\n",
      "STOP: TOTAL NO. of ITERATIONS REACHED LIMIT.\n",
      "\n",
      "Increase the number of iterations (max_iter) or scale the data as shown in:\n",
      "    https://scikit-learn.org/stable/modules/preprocessing.html\n",
      "Please also refer to the documentation for alternative solver options:\n",
      "    https://scikit-learn.org/stable/modules/linear_model.html#logistic-regression\n",
      "  n_iter_i = _check_optimize_result(\n",
      "/Users/benjaminfheng/opt/anaconda3/lib/python3.8/site-packages/sklearn/linear_model/_logistic.py:762: ConvergenceWarning: lbfgs failed to converge (status=1):\n",
      "STOP: TOTAL NO. of ITERATIONS REACHED LIMIT.\n",
      "\n",
      "Increase the number of iterations (max_iter) or scale the data as shown in:\n",
      "    https://scikit-learn.org/stable/modules/preprocessing.html\n",
      "Please also refer to the documentation for alternative solver options:\n",
      "    https://scikit-learn.org/stable/modules/linear_model.html#logistic-regression\n",
      "  n_iter_i = _check_optimize_result(\n",
      "/Users/benjaminfheng/opt/anaconda3/lib/python3.8/site-packages/sklearn/linear_model/_logistic.py:762: ConvergenceWarning: lbfgs failed to converge (status=1):\n",
      "STOP: TOTAL NO. of ITERATIONS REACHED LIMIT.\n",
      "\n",
      "Increase the number of iterations (max_iter) or scale the data as shown in:\n",
      "    https://scikit-learn.org/stable/modules/preprocessing.html\n",
      "Please also refer to the documentation for alternative solver options:\n",
      "    https://scikit-learn.org/stable/modules/linear_model.html#logistic-regression\n",
      "  n_iter_i = _check_optimize_result(\n",
      "/Users/benjaminfheng/opt/anaconda3/lib/python3.8/site-packages/sklearn/linear_model/_logistic.py:762: ConvergenceWarning: lbfgs failed to converge (status=1):\n",
      "STOP: TOTAL NO. of ITERATIONS REACHED LIMIT.\n",
      "\n",
      "Increase the number of iterations (max_iter) or scale the data as shown in:\n",
      "    https://scikit-learn.org/stable/modules/preprocessing.html\n",
      "Please also refer to the documentation for alternative solver options:\n",
      "    https://scikit-learn.org/stable/modules/linear_model.html#logistic-regression\n",
      "  n_iter_i = _check_optimize_result(\n",
      "/Users/benjaminfheng/opt/anaconda3/lib/python3.8/site-packages/sklearn/linear_model/_logistic.py:762: ConvergenceWarning: lbfgs failed to converge (status=1):\n",
      "STOP: TOTAL NO. of ITERATIONS REACHED LIMIT.\n",
      "\n",
      "Increase the number of iterations (max_iter) or scale the data as shown in:\n",
      "    https://scikit-learn.org/stable/modules/preprocessing.html\n",
      "Please also refer to the documentation for alternative solver options:\n",
      "    https://scikit-learn.org/stable/modules/linear_model.html#logistic-regression\n",
      "  n_iter_i = _check_optimize_result(\n",
      "/Users/benjaminfheng/opt/anaconda3/lib/python3.8/site-packages/sklearn/linear_model/_logistic.py:762: ConvergenceWarning: lbfgs failed to converge (status=1):\n",
      "STOP: TOTAL NO. of ITERATIONS REACHED LIMIT.\n",
      "\n",
      "Increase the number of iterations (max_iter) or scale the data as shown in:\n",
      "    https://scikit-learn.org/stable/modules/preprocessing.html\n",
      "Please also refer to the documentation for alternative solver options:\n",
      "    https://scikit-learn.org/stable/modules/linear_model.html#logistic-regression\n",
      "  n_iter_i = _check_optimize_result(\n",
      "/Users/benjaminfheng/opt/anaconda3/lib/python3.8/site-packages/sklearn/linear_model/_logistic.py:762: ConvergenceWarning: lbfgs failed to converge (status=1):\n",
      "STOP: TOTAL NO. of ITERATIONS REACHED LIMIT.\n",
      "\n",
      "Increase the number of iterations (max_iter) or scale the data as shown in:\n",
      "    https://scikit-learn.org/stable/modules/preprocessing.html\n",
      "Please also refer to the documentation for alternative solver options:\n",
      "    https://scikit-learn.org/stable/modules/linear_model.html#logistic-regression\n",
      "  n_iter_i = _check_optimize_result(\n",
      "/Users/benjaminfheng/opt/anaconda3/lib/python3.8/site-packages/sklearn/linear_model/_logistic.py:762: ConvergenceWarning: lbfgs failed to converge (status=1):\n",
      "STOP: TOTAL NO. of ITERATIONS REACHED LIMIT.\n",
      "\n",
      "Increase the number of iterations (max_iter) or scale the data as shown in:\n",
      "    https://scikit-learn.org/stable/modules/preprocessing.html\n",
      "Please also refer to the documentation for alternative solver options:\n",
      "    https://scikit-learn.org/stable/modules/linear_model.html#logistic-regression\n",
      "  n_iter_i = _check_optimize_result(\n"
     ]
    },
    {
     "output_type": "execute_result",
     "data": {
      "text/plain": [
       "GridSearchCV(cv=10, estimator=LogisticRegression(),\n",
       "             param_grid={'C': array([1.e-03, 1.e-02, 1.e-01, 1.e+00, 1.e+01, 1.e+02, 1.e+03]),\n",
       "                         'penalty': ['l1', 'l2']})"
      ]
     },
     "metadata": {},
     "execution_count": 25
    }
   ],
   "metadata": {
    "collapsed": true
   }
  },
  {
   "cell_type": "code",
   "execution_count": 26,
   "source": [
    "print(\"tuned hyperparameters: (best parameters) \", model_logreg_gs.best_params_)\n",
    "print(\"accuracy :\",model_logreg_gs.best_score_)"
   ],
   "outputs": [
    {
     "output_type": "stream",
     "name": "stdout",
     "text": [
      "tuned hyperparameters: (best parameters)  {'C': 1.0, 'penalty': 'l2'}\n",
      "accuracy : 0.3374724517906336\n"
     ]
    }
   ],
   "metadata": {}
  },
  {
   "cell_type": "code",
   "execution_count": 27,
   "source": [
    "model_logreg_gs = LogisticRegression(C=1, penalty=\"l2\")\n",
    "model_logreg_gs.fit(X_train, y_train)\n",
    "y_pred_logreg_gs = model_logreg_gs.predict(X_test)\n",
    "\n",
    "results(\"Logistic Regression GridSearch (C=1, penalty='l2')\", y_pred_logreg_gs)"
   ],
   "outputs": [
    {
     "output_type": "stream",
     "name": "stderr",
     "text": [
      "/Users/benjaminfheng/opt/anaconda3/lib/python3.8/site-packages/sklearn/linear_model/_logistic.py:762: ConvergenceWarning: lbfgs failed to converge (status=1):\n",
      "STOP: TOTAL NO. of ITERATIONS REACHED LIMIT.\n",
      "\n",
      "Increase the number of iterations (max_iter) or scale the data as shown in:\n",
      "    https://scikit-learn.org/stable/modules/preprocessing.html\n",
      "Please also refer to the documentation for alternative solver options:\n",
      "    https://scikit-learn.org/stable/modules/linear_model.html#logistic-regression\n",
      "  n_iter_i = _check_optimize_result(\n"
     ]
    },
    {
     "output_type": "stream",
     "name": "stdout",
     "text": [
      "Accuracy: 0.32947976878612717\n",
      "Precision: 0.32947976878612717\n",
      "Recall: 0.32947976878612717\n",
      "Confusion Matrix: [[63 22 22 20]\n",
      " [57 23 31 22]\n",
      " [35 14 32 43]\n",
      " [38 11 33 53]]\n"
     ]
    },
    {
     "output_type": "display_data",
     "data": {
      "image/png": "[encoded data removed]",
      "text/plain": [
       "<Figure size 432x288 with 2 Axes>"
      ]
     },
     "metadata": {
      "needs_background": "light"
     }
    }
   ],
   "metadata": {}
  },
  {
   "cell_type": "markdown",
   "source": [
    "## Model 2: Gradient Boosting"
   ],
   "metadata": {}
  },
  {
   "cell_type": "code",
   "execution_count": 28,
   "source": [
    "model_gb = GradientBoostingClassifier(n_estimators=100, learning_rate=1.0, random_state=42)\n",
    "model_gb.fit(X_train, y_train)\n",
    "y_pred_gb = model_gb.predict(X_test)\n",
    "\n",
    "results(\"Gradient Boosting\", y_pred_gb)"
   ],
   "outputs": [
    {
     "output_type": "stream",
     "name": "stdout",
     "text": [
      "Accuracy: 0.11560693641618497\n",
      "Precision: 0.11560693641618497\n",
      "Recall: 0.11560693641618497\n",
      "Confusion Matrix: [[16 57 26 28]\n",
      " [50  8 44 31]\n",
      " [28 32 12 52]\n",
      " [27 27 57 24]]\n"
     ]
    },
    {
     "output_type": "display_data",
     "data": {
      "image/png": "[encoded data removed]",
      "text/plain": [
       "<Figure size 432x288 with 2 Axes>"
      ]
     },
     "metadata": {
      "needs_background": "light"
     }
    }
   ],
   "metadata": {}
  },
  {
   "cell_type": "code",
   "execution_count": 29,
   "source": [
    "# defining parameter range \n",
    "param_grid = {'n_estimators': [50, 100, 200, 300, 400, 500, 600],  \n",
    "              'learning_rate': [1, 0.1, 0.01, 0.001, 0.0001]}  \n",
    "\n",
    "grid = GridSearchCV(GradientBoostingClassifier(), param_grid, refit = True, verbose = 3) \n",
    "  \n",
    "# fitting the model for grid search \n",
    "grid.fit(X_train, y_train)"
   ],
   "outputs": [
    {
     "output_type": "stream",
     "name": "stdout",
     "text": [
      "Fitting 5 folds for each of 35 candidates, totalling 175 fits\n",
      "[CV] learning_rate=1, n_estimators=50 ................................\n",
      "[CV] .... learning_rate=1, n_estimators=50, score=0.161, total=   0.2s\n",
      "[CV] learning_rate=1, n_estimators=50 ................................\n"
     ]
    },
    {
     "output_type": "stream",
     "name": "stderr",
     "text": [
      "[Parallel(n_jobs=1)]: Using backend SequentialBackend with 1 concurrent workers.\n",
      "[Parallel(n_jobs=1)]: Done   1 out of   1 | elapsed:    0.2s remaining:    0.0s\n"
     ]
    },
    {
     "output_type": "stream",
     "name": "stdout",
     "text": [
      "[CV] .... learning_rate=1, n_estimators=50, score=0.174, total=   0.2s\n",
      "[CV] learning_rate=1, n_estimators=50 ................................\n",
      "[CV] .... learning_rate=1, n_estimators=50, score=0.169, total=   0.2s\n",
      "[CV] learning_rate=1, n_estimators=50 ................................\n"
     ]
    },
    {
     "output_type": "stream",
     "name": "stderr",
     "text": [
      "[Parallel(n_jobs=1)]: Done   2 out of   2 | elapsed:    0.3s remaining:    0.0s\n"
     ]
    },
    {
     "output_type": "stream",
     "name": "stdout",
     "text": [
      "[CV] .... learning_rate=1, n_estimators=50, score=0.256, total=   0.2s\n",
      "[CV] learning_rate=1, n_estimators=50 ................................\n",
      "[CV] .... learning_rate=1, n_estimators=50, score=0.220, total=   0.2s\n",
      "[CV] learning_rate=1, n_estimators=100 ...............................\n",
      "[CV] ... learning_rate=1, n_estimators=100, score=0.145, total=   0.4s\n",
      "[CV] learning_rate=1, n_estimators=100 ...............................\n",
      "[CV] ... learning_rate=1, n_estimators=100, score=0.157, total=   0.3s\n",
      "[CV] learning_rate=1, n_estimators=100 ...............................\n",
      "[CV] ... learning_rate=1, n_estimators=100, score=0.174, total=   0.3s\n",
      "[CV] learning_rate=1, n_estimators=100 ...............................\n",
      "[CV] ... learning_rate=1, n_estimators=100, score=0.219, total=   0.3s\n",
      "[CV] learning_rate=1, n_estimators=100 ...............................\n",
      "[CV] ... learning_rate=1, n_estimators=100, score=0.203, total=   0.3s\n",
      "[CV] learning_rate=1, n_estimators=200 ...............................\n",
      "[CV] ... learning_rate=1, n_estimators=200, score=0.136, total=   0.7s\n",
      "[CV] learning_rate=1, n_estimators=200 ...............................\n",
      "[CV] ... learning_rate=1, n_estimators=200, score=0.140, total=   0.7s\n",
      "[CV] learning_rate=1, n_estimators=200 ...............................\n",
      "[CV] ... learning_rate=1, n_estimators=200, score=0.161, total=   0.7s\n",
      "[CV] learning_rate=1, n_estimators=200 ...............................\n",
      "[CV] ... learning_rate=1, n_estimators=200, score=0.202, total=   0.7s\n",
      "[CV] learning_rate=1, n_estimators=200 ...............................\n",
      "[CV] ... learning_rate=1, n_estimators=200, score=0.195, total=   0.7s\n",
      "[CV] learning_rate=1, n_estimators=300 ...............................\n",
      "[CV] ... learning_rate=1, n_estimators=300, score=0.128, total=   1.0s\n",
      "[CV] learning_rate=1, n_estimators=300 ...............................\n",
      "[CV] ... learning_rate=1, n_estimators=300, score=0.136, total=   1.0s\n",
      "[CV] learning_rate=1, n_estimators=300 ...............................\n",
      "[CV] ... learning_rate=1, n_estimators=300, score=0.157, total=   1.0s\n",
      "[CV] learning_rate=1, n_estimators=300 ...............................\n",
      "[CV] ... learning_rate=1, n_estimators=300, score=0.198, total=   1.0s\n",
      "[CV] learning_rate=1, n_estimators=300 ...............................\n",
      "[CV] ... learning_rate=1, n_estimators=300, score=0.191, total=   1.0s\n",
      "[CV] learning_rate=1, n_estimators=400 ...............................\n",
      "[CV] ... learning_rate=1, n_estimators=400, score=0.128, total=   1.2s\n",
      "[CV] learning_rate=1, n_estimators=400 ...............................\n",
      "[CV] ... learning_rate=1, n_estimators=400, score=0.136, total=   1.2s\n",
      "[CV] learning_rate=1, n_estimators=400 ...............................\n",
      "[CV] ... learning_rate=1, n_estimators=400, score=0.136, total=   1.2s\n",
      "[CV] learning_rate=1, n_estimators=400 ...............................\n",
      "[CV] ... learning_rate=1, n_estimators=400, score=0.190, total=   1.2s\n",
      "[CV] learning_rate=1, n_estimators=400 ...............................\n",
      "[CV] ... learning_rate=1, n_estimators=400, score=0.187, total=   1.3s\n",
      "[CV] learning_rate=1, n_estimators=500 ...............................\n",
      "[CV] ... learning_rate=1, n_estimators=500, score=0.128, total=   1.6s\n",
      "[CV] learning_rate=1, n_estimators=500 ...............................\n",
      "[CV] ... learning_rate=1, n_estimators=500, score=0.132, total=   1.7s\n",
      "[CV] learning_rate=1, n_estimators=500 ...............................\n",
      "[CV] ... learning_rate=1, n_estimators=500, score=0.132, total=   1.6s\n",
      "[CV] learning_rate=1, n_estimators=500 ...............................\n",
      "[CV] ... learning_rate=1, n_estimators=500, score=0.194, total=   1.6s\n",
      "[CV] learning_rate=1, n_estimators=500 ...............................\n",
      "[CV] ... learning_rate=1, n_estimators=500, score=0.191, total=   1.7s\n",
      "[CV] learning_rate=1, n_estimators=600 ...............................\n",
      "[CV] ... learning_rate=1, n_estimators=600, score=0.124, total=   1.9s\n",
      "[CV] learning_rate=1, n_estimators=600 ...............................\n",
      "[CV] ... learning_rate=1, n_estimators=600, score=0.132, total=   1.9s\n",
      "[CV] learning_rate=1, n_estimators=600 ...............................\n",
      "[CV] ... learning_rate=1, n_estimators=600, score=0.128, total=   1.9s\n",
      "[CV] learning_rate=1, n_estimators=600 ...............................\n",
      "[CV] ... learning_rate=1, n_estimators=600, score=0.186, total=   1.9s\n",
      "[CV] learning_rate=1, n_estimators=600 ...............................\n",
      "[CV] ... learning_rate=1, n_estimators=600, score=0.191, total=   1.9s\n",
      "[CV] learning_rate=0.1, n_estimators=50 ..............................\n",
      "[CV] .. learning_rate=0.1, n_estimators=50, score=0.256, total=   0.2s\n",
      "[CV] learning_rate=0.1, n_estimators=50 ..............................\n",
      "[CV] .. learning_rate=0.1, n_estimators=50, score=0.264, total=   0.2s\n",
      "[CV] learning_rate=0.1, n_estimators=50 ..............................\n",
      "[CV] .. learning_rate=0.1, n_estimators=50, score=0.285, total=   0.2s\n",
      "[CV] learning_rate=0.1, n_estimators=50 ..............................\n",
      "[CV] .. learning_rate=0.1, n_estimators=50, score=0.306, total=   0.2s\n",
      "[CV] learning_rate=0.1, n_estimators=50 ..............................\n",
      "[CV] .. learning_rate=0.1, n_estimators=50, score=0.303, total=   0.2s\n",
      "[CV] learning_rate=0.1, n_estimators=100 .............................\n",
      "[CV] . learning_rate=0.1, n_estimators=100, score=0.223, total=   0.3s\n",
      "[CV] learning_rate=0.1, n_estimators=100 .............................\n",
      "[CV] . learning_rate=0.1, n_estimators=100, score=0.252, total=   0.3s\n",
      "[CV] learning_rate=0.1, n_estimators=100 .............................\n",
      "[CV] . learning_rate=0.1, n_estimators=100, score=0.260, total=   0.3s\n",
      "[CV] learning_rate=0.1, n_estimators=100 .............................\n",
      "[CV] . learning_rate=0.1, n_estimators=100, score=0.256, total=   0.3s\n",
      "[CV] learning_rate=0.1, n_estimators=100 .............................\n",
      "[CV] . learning_rate=0.1, n_estimators=100, score=0.295, total=   0.3s\n",
      "[CV] learning_rate=0.1, n_estimators=200 .............................\n",
      "[CV] . learning_rate=0.1, n_estimators=200, score=0.227, total=   0.6s\n",
      "[CV] learning_rate=0.1, n_estimators=200 .............................\n",
      "[CV] . learning_rate=0.1, n_estimators=200, score=0.231, total=   0.6s\n",
      "[CV] learning_rate=0.1, n_estimators=200 .............................\n",
      "[CV] . learning_rate=0.1, n_estimators=200, score=0.244, total=   0.6s\n",
      "[CV] learning_rate=0.1, n_estimators=200 .............................\n",
      "[CV] . learning_rate=0.1, n_estimators=200, score=0.240, total=   0.6s\n",
      "[CV] learning_rate=0.1, n_estimators=200 .............................\n",
      "[CV] . learning_rate=0.1, n_estimators=200, score=0.270, total=   0.6s\n",
      "[CV] learning_rate=0.1, n_estimators=300 .............................\n",
      "[CV] . learning_rate=0.1, n_estimators=300, score=0.198, total=   0.9s\n",
      "[CV] learning_rate=0.1, n_estimators=300 .............................\n",
      "[CV] . learning_rate=0.1, n_estimators=300, score=0.207, total=   0.9s\n",
      "[CV] learning_rate=0.1, n_estimators=300 .............................\n",
      "[CV] . learning_rate=0.1, n_estimators=300, score=0.223, total=   0.9s\n",
      "[CV] learning_rate=0.1, n_estimators=300 .............................\n",
      "[CV] . learning_rate=0.1, n_estimators=300, score=0.256, total=   0.9s\n",
      "[CV] learning_rate=0.1, n_estimators=300 .............................\n",
      "[CV] . learning_rate=0.1, n_estimators=300, score=0.228, total=   0.9s\n",
      "[CV] learning_rate=0.1, n_estimators=400 .............................\n",
      "[CV] . learning_rate=0.1, n_estimators=400, score=0.198, total=   1.2s\n",
      "[CV] learning_rate=0.1, n_estimators=400 .............................\n",
      "[CV] . learning_rate=0.1, n_estimators=400, score=0.198, total=   1.3s\n",
      "[CV] learning_rate=0.1, n_estimators=400 .............................\n",
      "[CV] . learning_rate=0.1, n_estimators=400, score=0.223, total=   1.3s\n",
      "[CV] learning_rate=0.1, n_estimators=400 .............................\n",
      "[CV] . learning_rate=0.1, n_estimators=400, score=0.244, total=   1.3s\n",
      "[CV] learning_rate=0.1, n_estimators=400 .............................\n",
      "[CV] . learning_rate=0.1, n_estimators=400, score=0.224, total=   1.3s\n",
      "[CV] learning_rate=0.1, n_estimators=500 .............................\n",
      "[CV] . learning_rate=0.1, n_estimators=500, score=0.198, total=   1.6s\n",
      "[CV] learning_rate=0.1, n_estimators=500 .............................\n",
      "[CV] . learning_rate=0.1, n_estimators=500, score=0.190, total=   1.6s\n",
      "[CV] learning_rate=0.1, n_estimators=500 .............................\n",
      "[CV] . learning_rate=0.1, n_estimators=500, score=0.186, total=   1.6s\n",
      "[CV] learning_rate=0.1, n_estimators=500 .............................\n",
      "[CV] . learning_rate=0.1, n_estimators=500, score=0.231, total=   1.6s\n",
      "[CV] learning_rate=0.1, n_estimators=500 .............................\n",
      "[CV] . learning_rate=0.1, n_estimators=500, score=0.220, total=   1.6s\n",
      "[CV] learning_rate=0.1, n_estimators=600 .............................\n",
      "[CV] . learning_rate=0.1, n_estimators=600, score=0.194, total=   1.9s\n",
      "[CV] learning_rate=0.1, n_estimators=600 .............................\n",
      "[CV] . learning_rate=0.1, n_estimators=600, score=0.182, total=   1.9s\n",
      "[CV] learning_rate=0.1, n_estimators=600 .............................\n",
      "[CV] . learning_rate=0.1, n_estimators=600, score=0.178, total=   1.9s\n",
      "[CV] learning_rate=0.1, n_estimators=600 .............................\n",
      "[CV] . learning_rate=0.1, n_estimators=600, score=0.236, total=   1.9s\n",
      "[CV] learning_rate=0.1, n_estimators=600 .............................\n",
      "[CV] . learning_rate=0.1, n_estimators=600, score=0.216, total=   1.9s\n",
      "[CV] learning_rate=0.01, n_estimators=50 .............................\n",
      "[CV] . learning_rate=0.01, n_estimators=50, score=0.269, total=   0.2s\n",
      "[CV] learning_rate=0.01, n_estimators=50 .............................\n",
      "[CV] . learning_rate=0.01, n_estimators=50, score=0.289, total=   0.2s\n",
      "[CV] learning_rate=0.01, n_estimators=50 .............................\n",
      "[CV] . learning_rate=0.01, n_estimators=50, score=0.351, total=   0.2s\n",
      "[CV] learning_rate=0.01, n_estimators=50 .............................\n",
      "[CV] . learning_rate=0.01, n_estimators=50, score=0.318, total=   0.2s\n",
      "[CV] learning_rate=0.01, n_estimators=50 .............................\n",
      "[CV] . learning_rate=0.01, n_estimators=50, score=0.357, total=   0.2s\n",
      "[CV] learning_rate=0.01, n_estimators=100 ............................\n",
      "[CV]  learning_rate=0.01, n_estimators=100, score=0.260, total=   0.3s\n",
      "[CV] learning_rate=0.01, n_estimators=100 ............................\n",
      "[CV]  learning_rate=0.01, n_estimators=100, score=0.273, total=   0.3s\n",
      "[CV] learning_rate=0.01, n_estimators=100 ............................\n",
      "[CV]  learning_rate=0.01, n_estimators=100, score=0.331, total=   0.3s\n",
      "[CV] learning_rate=0.01, n_estimators=100 ............................\n",
      "[CV]  learning_rate=0.01, n_estimators=100, score=0.326, total=   0.3s\n",
      "[CV] learning_rate=0.01, n_estimators=100 ............................\n",
      "[CV]  learning_rate=0.01, n_estimators=100, score=0.340, total=   0.3s\n",
      "[CV] learning_rate=0.01, n_estimators=200 ............................\n",
      "[CV]  learning_rate=0.01, n_estimators=200, score=0.244, total=   0.6s\n",
      "[CV] learning_rate=0.01, n_estimators=200 ............................\n",
      "[CV]  learning_rate=0.01, n_estimators=200, score=0.273, total=   0.6s\n",
      "[CV] learning_rate=0.01, n_estimators=200 ............................\n",
      "[CV]  learning_rate=0.01, n_estimators=200, score=0.326, total=   0.6s\n",
      "[CV] learning_rate=0.01, n_estimators=200 ............................\n",
      "[CV]  learning_rate=0.01, n_estimators=200, score=0.322, total=   0.6s\n",
      "[CV] learning_rate=0.01, n_estimators=200 ............................\n",
      "[CV]  learning_rate=0.01, n_estimators=200, score=0.315, total=   0.6s\n",
      "[CV] learning_rate=0.01, n_estimators=300 ............................\n",
      "[CV]  learning_rate=0.01, n_estimators=300, score=0.252, total=   0.9s\n",
      "[CV] learning_rate=0.01, n_estimators=300 ............................\n",
      "[CV]  learning_rate=0.01, n_estimators=300, score=0.264, total=   0.9s\n",
      "[CV] learning_rate=0.01, n_estimators=300 ............................\n",
      "[CV]  learning_rate=0.01, n_estimators=300, score=0.302, total=   0.9s\n",
      "[CV] learning_rate=0.01, n_estimators=300 ............................\n",
      "[CV]  learning_rate=0.01, n_estimators=300, score=0.310, total=   0.9s\n",
      "[CV] learning_rate=0.01, n_estimators=300 ............................\n",
      "[CV]  learning_rate=0.01, n_estimators=300, score=0.328, total=   0.9s\n",
      "[CV] learning_rate=0.01, n_estimators=400 ............................\n",
      "[CV]  learning_rate=0.01, n_estimators=400, score=0.264, total=   1.2s\n",
      "[CV] learning_rate=0.01, n_estimators=400 ............................\n",
      "[CV]  learning_rate=0.01, n_estimators=400, score=0.260, total=   1.3s\n",
      "[CV] learning_rate=0.01, n_estimators=400 ............................\n",
      "[CV]  learning_rate=0.01, n_estimators=400, score=0.277, total=   1.2s\n",
      "[CV] learning_rate=0.01, n_estimators=400 ............................\n",
      "[CV]  learning_rate=0.01, n_estimators=400, score=0.310, total=   1.3s\n",
      "[CV] learning_rate=0.01, n_estimators=400 ............................\n",
      "[CV]  learning_rate=0.01, n_estimators=400, score=0.311, total=   1.2s\n",
      "[CV] learning_rate=0.01, n_estimators=500 ............................\n",
      "[CV]  learning_rate=0.01, n_estimators=500, score=0.260, total=   1.5s\n",
      "[CV] learning_rate=0.01, n_estimators=500 ............................\n",
      "[CV]  learning_rate=0.01, n_estimators=500, score=0.269, total=   1.6s\n",
      "[CV] learning_rate=0.01, n_estimators=500 ............................\n",
      "[CV]  learning_rate=0.01, n_estimators=500, score=0.273, total=   1.6s\n",
      "[CV] learning_rate=0.01, n_estimators=500 ............................\n",
      "[CV]  learning_rate=0.01, n_estimators=500, score=0.302, total=   1.6s\n",
      "[CV] learning_rate=0.01, n_estimators=500 ............................\n",
      "[CV]  learning_rate=0.01, n_estimators=500, score=0.290, total=   1.6s\n",
      "[CV] learning_rate=0.01, n_estimators=600 ............................\n",
      "[CV]  learning_rate=0.01, n_estimators=600, score=0.260, total=   1.9s\n",
      "[CV] learning_rate=0.01, n_estimators=600 ............................\n",
      "[CV]  learning_rate=0.01, n_estimators=600, score=0.256, total=   1.9s\n",
      "[CV] learning_rate=0.01, n_estimators=600 ............................\n",
      "[CV]  learning_rate=0.01, n_estimators=600, score=0.289, total=   1.9s\n",
      "[CV] learning_rate=0.01, n_estimators=600 ............................\n",
      "[CV]  learning_rate=0.01, n_estimators=600, score=0.289, total=   1.9s\n",
      "[CV] learning_rate=0.01, n_estimators=600 ............................\n",
      "[CV]  learning_rate=0.01, n_estimators=600, score=0.299, total=   1.9s\n",
      "[CV] learning_rate=0.001, n_estimators=50 ............................\n",
      "[CV]  learning_rate=0.001, n_estimators=50, score=0.302, total=   0.2s\n",
      "[CV] learning_rate=0.001, n_estimators=50 ............................\n",
      "[CV]  learning_rate=0.001, n_estimators=50, score=0.281, total=   0.2s\n",
      "[CV] learning_rate=0.001, n_estimators=50 ............................\n",
      "[CV]  learning_rate=0.001, n_estimators=50, score=0.351, total=   0.2s\n",
      "[CV] learning_rate=0.001, n_estimators=50 ............................\n",
      "[CV]  learning_rate=0.001, n_estimators=50, score=0.347, total=   0.2s\n",
      "[CV] learning_rate=0.001, n_estimators=50 ............................\n",
      "[CV]  learning_rate=0.001, n_estimators=50, score=0.365, total=   0.2s\n",
      "[CV] learning_rate=0.001, n_estimators=100 ...........................\n",
      "[CV]  learning_rate=0.001, n_estimators=100, score=0.298, total=   0.3s\n",
      "[CV] learning_rate=0.001, n_estimators=100 ...........................\n",
      "[CV]  learning_rate=0.001, n_estimators=100, score=0.269, total=   0.3s\n",
      "[CV] learning_rate=0.001, n_estimators=100 ...........................\n",
      "[CV]  learning_rate=0.001, n_estimators=100, score=0.364, total=   0.3s\n",
      "[CV] learning_rate=0.001, n_estimators=100 ...........................\n",
      "[CV]  learning_rate=0.001, n_estimators=100, score=0.314, total=   0.3s\n",
      "[CV] learning_rate=0.001, n_estimators=100 ...........................\n",
      "[CV]  learning_rate=0.001, n_estimators=100, score=0.361, total=   0.3s\n",
      "[CV] learning_rate=0.001, n_estimators=200 ...........................\n",
      "[CV]  learning_rate=0.001, n_estimators=200, score=0.298, total=   0.6s\n",
      "[CV] learning_rate=0.001, n_estimators=200 ...........................\n",
      "[CV]  learning_rate=0.001, n_estimators=200, score=0.289, total=   0.6s\n",
      "[CV] learning_rate=0.001, n_estimators=200 ...........................\n",
      "[CV]  learning_rate=0.001, n_estimators=200, score=0.351, total=   0.6s\n",
      "[CV] learning_rate=0.001, n_estimators=200 ...........................\n",
      "[CV]  learning_rate=0.001, n_estimators=200, score=0.314, total=   0.6s\n",
      "[CV] learning_rate=0.001, n_estimators=200 ...........................\n",
      "[CV]  learning_rate=0.001, n_estimators=200, score=0.353, total=   0.6s\n",
      "[CV] learning_rate=0.001, n_estimators=300 ...........................\n",
      "[CV]  learning_rate=0.001, n_estimators=300, score=0.289, total=   0.9s\n",
      "[CV] learning_rate=0.001, n_estimators=300 ...........................\n",
      "[CV]  learning_rate=0.001, n_estimators=300, score=0.293, total=   0.9s\n",
      "[CV] learning_rate=0.001, n_estimators=300 ...........................\n",
      "[CV]  learning_rate=0.001, n_estimators=300, score=0.351, total=   1.0s\n",
      "[CV] learning_rate=0.001, n_estimators=300 ...........................\n",
      "[CV]  learning_rate=0.001, n_estimators=300, score=0.306, total=   0.9s\n",
      "[CV] learning_rate=0.001, n_estimators=300 ...........................\n",
      "[CV]  learning_rate=0.001, n_estimators=300, score=0.349, total=   0.9s\n",
      "[CV] learning_rate=0.001, n_estimators=400 ...........................\n",
      "[CV]  learning_rate=0.001, n_estimators=400, score=0.281, total=   1.3s\n",
      "[CV] learning_rate=0.001, n_estimators=400 ...........................\n",
      "[CV]  learning_rate=0.001, n_estimators=400, score=0.293, total=   1.2s\n",
      "[CV] learning_rate=0.001, n_estimators=400 ...........................\n",
      "[CV]  learning_rate=0.001, n_estimators=400, score=0.351, total=   1.2s\n",
      "[CV] learning_rate=0.001, n_estimators=400 ...........................\n",
      "[CV]  learning_rate=0.001, n_estimators=400, score=0.326, total=   1.2s\n",
      "[CV] learning_rate=0.001, n_estimators=400 ...........................\n",
      "[CV]  learning_rate=0.001, n_estimators=400, score=0.353, total=   1.3s\n",
      "[CV] learning_rate=0.001, n_estimators=500 ...........................\n",
      "[CV]  learning_rate=0.001, n_estimators=500, score=0.269, total=   1.5s\n",
      "[CV] learning_rate=0.001, n_estimators=500 ...........................\n",
      "[CV]  learning_rate=0.001, n_estimators=500, score=0.289, total=   1.6s\n",
      "[CV] learning_rate=0.001, n_estimators=500 ...........................\n",
      "[CV]  learning_rate=0.001, n_estimators=500, score=0.347, total=   1.5s\n",
      "[CV] learning_rate=0.001, n_estimators=500 ...........................\n",
      "[CV]  learning_rate=0.001, n_estimators=500, score=0.318, total=   1.5s\n",
      "[CV] learning_rate=0.001, n_estimators=500 ...........................\n",
      "[CV]  learning_rate=0.001, n_estimators=500, score=0.357, total=   1.6s\n",
      "[CV] learning_rate=0.001, n_estimators=600 ...........................\n",
      "[CV]  learning_rate=0.001, n_estimators=600, score=0.260, total=   1.8s\n",
      "[CV] learning_rate=0.001, n_estimators=600 ...........................\n",
      "[CV]  learning_rate=0.001, n_estimators=600, score=0.289, total=   1.9s\n",
      "[CV] learning_rate=0.001, n_estimators=600 ...........................\n",
      "[CV]  learning_rate=0.001, n_estimators=600, score=0.343, total=   1.8s\n",
      "[CV] learning_rate=0.001, n_estimators=600 ...........................\n",
      "[CV]  learning_rate=0.001, n_estimators=600, score=0.318, total=   1.9s\n",
      "[CV] learning_rate=0.001, n_estimators=600 ...........................\n",
      "[CV]  learning_rate=0.001, n_estimators=600, score=0.353, total=   1.9s\n",
      "[CV] learning_rate=0.0001, n_estimators=50 ...........................\n",
      "[CV]  learning_rate=0.0001, n_estimators=50, score=0.256, total=   0.2s\n",
      "[CV] learning_rate=0.0001, n_estimators=50 ...........................\n",
      "[CV]  learning_rate=0.0001, n_estimators=50, score=0.256, total=   0.2s\n",
      "[CV] learning_rate=0.0001, n_estimators=50 ...........................\n",
      "[CV]  learning_rate=0.0001, n_estimators=50, score=0.256, total=   0.2s\n",
      "[CV] learning_rate=0.0001, n_estimators=50 ...........................\n",
      "[CV]  learning_rate=0.0001, n_estimators=50, score=0.252, total=   0.2s\n",
      "[CV] learning_rate=0.0001, n_estimators=50 ...........................\n",
      "[CV]  learning_rate=0.0001, n_estimators=50, score=0.253, total=   0.2s\n",
      "[CV] learning_rate=0.0001, n_estimators=100 ..........................\n",
      "[CV]  learning_rate=0.0001, n_estimators=100, score=0.285, total=   0.3s\n",
      "[CV] learning_rate=0.0001, n_estimators=100 ..........................\n",
      "[CV]  learning_rate=0.0001, n_estimators=100, score=0.293, total=   0.3s\n",
      "[CV] learning_rate=0.0001, n_estimators=100 ..........................\n",
      "[CV]  learning_rate=0.0001, n_estimators=100, score=0.293, total=   0.3s\n",
      "[CV] learning_rate=0.0001, n_estimators=100 ..........................\n",
      "[CV]  learning_rate=0.0001, n_estimators=100, score=0.252, total=   0.3s\n",
      "[CV] learning_rate=0.0001, n_estimators=100 ..........................\n",
      "[CV]  learning_rate=0.0001, n_estimators=100, score=0.349, total=   0.3s\n",
      "[CV] learning_rate=0.0001, n_estimators=200 ..........................\n",
      "[CV]  learning_rate=0.0001, n_estimators=200, score=0.318, total=   0.6s\n",
      "[CV] learning_rate=0.0001, n_estimators=200 ..........................\n",
      "[CV]  learning_rate=0.0001, n_estimators=200, score=0.331, total=   0.6s\n",
      "[CV] learning_rate=0.0001, n_estimators=200 ..........................\n",
      "[CV]  learning_rate=0.0001, n_estimators=200, score=0.368, total=   0.6s\n",
      "[CV] learning_rate=0.0001, n_estimators=200 ..........................\n",
      "[CV]  learning_rate=0.0001, n_estimators=200, score=0.339, total=   0.6s\n",
      "[CV] learning_rate=0.0001, n_estimators=200 ..........................\n",
      "[CV]  learning_rate=0.0001, n_estimators=200, score=0.365, total=   0.6s\n",
      "[CV] learning_rate=0.0001, n_estimators=300 ..........................\n",
      "[CV]  learning_rate=0.0001, n_estimators=300, score=0.302, total=   0.9s\n",
      "[CV] learning_rate=0.0001, n_estimators=300 ..........................\n",
      "[CV]  learning_rate=0.0001, n_estimators=300, score=0.310, total=   0.9s\n",
      "[CV] learning_rate=0.0001, n_estimators=300 ..........................\n",
      "[CV]  learning_rate=0.0001, n_estimators=300, score=0.368, total=   0.9s\n",
      "[CV] learning_rate=0.0001, n_estimators=300 ..........................\n",
      "[CV]  learning_rate=0.0001, n_estimators=300, score=0.339, total=   0.9s\n",
      "[CV] learning_rate=0.0001, n_estimators=300 ..........................\n",
      "[CV]  learning_rate=0.0001, n_estimators=300, score=0.378, total=   0.9s\n",
      "[CV] learning_rate=0.0001, n_estimators=400 ..........................\n",
      "[CV]  learning_rate=0.0001, n_estimators=400, score=0.302, total=   1.2s\n",
      "[CV] learning_rate=0.0001, n_estimators=400 ..........................\n",
      "[CV]  learning_rate=0.0001, n_estimators=400, score=0.310, total=   1.3s\n",
      "[CV] learning_rate=0.0001, n_estimators=400 ..........................\n",
      "[CV]  learning_rate=0.0001, n_estimators=400, score=0.355, total=   1.2s\n",
      "[CV] learning_rate=0.0001, n_estimators=400 ..........................\n",
      "[CV]  learning_rate=0.0001, n_estimators=400, score=0.347, total=   1.2s\n",
      "[CV] learning_rate=0.0001, n_estimators=400 ..........................\n",
      "[CV]  learning_rate=0.0001, n_estimators=400, score=0.378, total=   1.2s\n",
      "[CV] learning_rate=0.0001, n_estimators=500 ..........................\n",
      "[CV]  learning_rate=0.0001, n_estimators=500, score=0.302, total=   1.5s\n",
      "[CV] learning_rate=0.0001, n_estimators=500 ..........................\n",
      "[CV]  learning_rate=0.0001, n_estimators=500, score=0.281, total=   1.6s\n",
      "[CV] learning_rate=0.0001, n_estimators=500 ..........................\n",
      "[CV]  learning_rate=0.0001, n_estimators=500, score=0.351, total=   1.6s\n",
      "[CV] learning_rate=0.0001, n_estimators=500 ..........................\n",
      "[CV]  learning_rate=0.0001, n_estimators=500, score=0.347, total=   1.5s\n",
      "[CV] learning_rate=0.0001, n_estimators=500 ..........................\n",
      "[CV]  learning_rate=0.0001, n_estimators=500, score=0.365, total=   1.5s\n",
      "[CV] learning_rate=0.0001, n_estimators=600 ..........................\n",
      "[CV]  learning_rate=0.0001, n_estimators=600, score=0.306, total=   1.8s\n",
      "[CV] learning_rate=0.0001, n_estimators=600 ..........................\n",
      "[CV]  learning_rate=0.0001, n_estimators=600, score=0.281, total=   1.8s\n",
      "[CV] learning_rate=0.0001, n_estimators=600 ..........................\n",
      "[CV]  learning_rate=0.0001, n_estimators=600, score=0.368, total=   1.8s\n",
      "[CV] learning_rate=0.0001, n_estimators=600 ..........................\n",
      "[CV]  learning_rate=0.0001, n_estimators=600, score=0.351, total=   1.8s\n",
      "[CV] learning_rate=0.0001, n_estimators=600 ..........................\n",
      "[CV]  learning_rate=0.0001, n_estimators=600, score=0.357, total=   1.8s\n"
     ]
    },
    {
     "output_type": "stream",
     "name": "stderr",
     "text": [
      "[Parallel(n_jobs=1)]: Done 175 out of 175 | elapsed:  2.8min finished\n"
     ]
    },
    {
     "output_type": "execute_result",
     "data": {
      "text/plain": [
       "GridSearchCV(estimator=GradientBoostingClassifier(),\n",
       "             param_grid={'learning_rate': [1, 0.1, 0.01, 0.001, 0.0001],\n",
       "                         'n_estimators': [50, 100, 200, 300, 400, 500, 600]},\n",
       "             verbose=3)"
      ]
     },
     "metadata": {},
     "execution_count": 29
    }
   ],
   "metadata": {}
  },
  {
   "cell_type": "code",
   "execution_count": 30,
   "source": [
    "# print best parameter after tuning \n",
    "print(grid.best_params_) \n",
    "  \n",
    "# print how our model looks after hyper-parameter tuning \n",
    "print(grid.best_estimator_) "
   ],
   "outputs": [
    {
     "output_type": "stream",
     "name": "stdout",
     "text": [
      "{'learning_rate': 0.0001, 'n_estimators': 200}\n",
      "GradientBoostingClassifier(learning_rate=0.0001, n_estimators=200)\n"
     ]
    }
   ],
   "metadata": {}
  },
  {
   "cell_type": "code",
   "execution_count": 31,
   "source": [
    "model_gb_cv = GradientBoostingClassifier(n_estimators=200, learning_rate=0.0001, random_state=42)\n",
    "model_gb_cv.fit(X_train, y_train)\n",
    "y_pred_gb_cv = model_gb_cv.predict(X_test)\n",
    "\n",
    "results(\"Gradient Boosting GridSearch (n=200, lr=0.0001)\", y_pred_gb_cv)"
   ],
   "outputs": [
    {
     "output_type": "stream",
     "name": "stdout",
     "text": [
      "Accuracy: 0.3198458574181118\n",
      "Precision: 0.3198458574181118\n",
      "Recall: 0.3198458574181118\n",
      "Confusion Matrix: [[ 54   0  73   0]\n",
      " [ 36   0  97   0]\n",
      " [ 23   0 101   0]\n",
      " [ 11   0 113  11]]\n"
     ]
    },
    {
     "output_type": "display_data",
     "data": {
      "image/png": "[encoded data removed]",
      "text/plain": [
       "<Figure size 432x288 with 2 Axes>"
      ]
     },
     "metadata": {
      "needs_background": "light"
     }
    }
   ],
   "metadata": {}
  },
  {
   "cell_type": "markdown",
   "source": [
    "## Model 3: Support Vector Machines (SVM)"
   ],
   "metadata": {}
  },
  {
   "cell_type": "code",
   "execution_count": 33,
   "source": [
    "model_svm_linear = SVC(kernel='linear')\n",
    "model_svm_linear.fit(X_train, y_train)\n",
    "y_pred_svm_linear = model_svm_linear.predict(X_test)\n",
    "\n",
    "results(\"Linear SVM\", y_pred_svm_linear)"
   ],
   "outputs": [
    {
     "output_type": "stream",
     "name": "stdout",
     "text": [
      "Accuracy: 0.3333333333333333\n",
      "Precision: 0.3333333333333333\n",
      "Recall: 0.3333333333333333\n",
      "Confusion Matrix: [[72 16 18 21]\n",
      " [68 20 25 20]\n",
      " [43 12 33 36]\n",
      " [43  1 43 48]]\n"
     ]
    },
    {
     "output_type": "display_data",
     "data": {
      "image/png": "[encoded data removed]",
      "text/plain": [
       "<Figure size 432x288 with 2 Axes>"
      ]
     },
     "metadata": {
      "needs_background": "light"
     }
    }
   ],
   "metadata": {}
  },
  {
   "cell_type": "markdown",
   "source": [
    "### Support Vector Machines (SVM) GridSearch"
   ],
   "metadata": {}
  },
  {
   "cell_type": "code",
   "execution_count": 34,
   "source": [
    "# defining parameter range \n",
    "param_grid = {'C': [10, 20, 50, 60, 70, 100],  \n",
    "              'gamma': [1, 0.1, 0.01, 0.001, 0.0001], \n",
    "              'kernel': ['linear']}  \n",
    "\n",
    "grid_svm = GridSearchCV(SVC(), param_grid, refit = True, verbose = 3) \n",
    "  \n",
    "# fitting the model for grid search \n",
    "grid_svm.fit(X_train, y_train)"
   ],
   "outputs": [
    {
     "output_type": "stream",
     "name": "stdout",
     "text": [
      "Fitting 5 folds for each of 30 candidates, totalling 150 fits\n",
      "[CV] C=10, gamma=1, kernel=linear ....................................\n",
      "[CV] ........ C=10, gamma=1, kernel=linear, score=0.355, total=   0.1s\n",
      "[CV] C=10, gamma=1, kernel=linear ....................................\n",
      "[CV] ........ C=10, gamma=1, kernel=linear, score=0.273, total=   0.1s\n",
      "[CV] C=10, gamma=1, kernel=linear ....................................\n",
      "[CV] ........ C=10, gamma=1, kernel=linear, score=0.372, total=   0.1s\n",
      "[CV] C=10, gamma=1, kernel=linear ....................................\n"
     ]
    },
    {
     "output_type": "stream",
     "name": "stderr",
     "text": [
      "[Parallel(n_jobs=1)]: Using backend SequentialBackend with 1 concurrent workers.\n",
      "[Parallel(n_jobs=1)]: Done   1 out of   1 | elapsed:    0.1s remaining:    0.0s\n",
      "[Parallel(n_jobs=1)]: Done   2 out of   2 | elapsed:    0.1s remaining:    0.0s\n"
     ]
    },
    {
     "output_type": "stream",
     "name": "stdout",
     "text": [
      "[CV] ........ C=10, gamma=1, kernel=linear, score=0.343, total=   0.1s\n",
      "[CV] C=10, gamma=1, kernel=linear ....................................\n",
      "[CV] ........ C=10, gamma=1, kernel=linear, score=0.369, total=   0.1s\n",
      "[CV] C=10, gamma=0.1, kernel=linear ..................................\n",
      "[CV] ...... C=10, gamma=0.1, kernel=linear, score=0.355, total=   0.1s\n",
      "[CV] C=10, gamma=0.1, kernel=linear ..................................\n",
      "[CV] ...... C=10, gamma=0.1, kernel=linear, score=0.273, total=   0.1s\n",
      "[CV] C=10, gamma=0.1, kernel=linear ..................................\n",
      "[CV] ...... C=10, gamma=0.1, kernel=linear, score=0.372, total=   0.1s\n",
      "[CV] C=10, gamma=0.1, kernel=linear ..................................\n",
      "[CV] ...... C=10, gamma=0.1, kernel=linear, score=0.343, total=   0.1s\n",
      "[CV] C=10, gamma=0.1, kernel=linear ..................................\n",
      "[CV] ...... C=10, gamma=0.1, kernel=linear, score=0.369, total=   0.1s\n",
      "[CV] C=10, gamma=0.01, kernel=linear .................................\n",
      "[CV] ..... C=10, gamma=0.01, kernel=linear, score=0.355, total=   0.1s\n",
      "[CV] C=10, gamma=0.01, kernel=linear .................................\n",
      "[CV] ..... C=10, gamma=0.01, kernel=linear, score=0.273, total=   0.1s\n",
      "[CV] C=10, gamma=0.01, kernel=linear .................................\n",
      "[CV] ..... C=10, gamma=0.01, kernel=linear, score=0.372, total=   0.1s\n",
      "[CV] C=10, gamma=0.01, kernel=linear .................................\n",
      "[CV] ..... C=10, gamma=0.01, kernel=linear, score=0.343, total=   0.1s\n",
      "[CV] C=10, gamma=0.01, kernel=linear .................................\n",
      "[CV] ..... C=10, gamma=0.01, kernel=linear, score=0.369, total=   0.1s\n",
      "[CV] C=10, gamma=0.001, kernel=linear ................................\n",
      "[CV] .... C=10, gamma=0.001, kernel=linear, score=0.355, total=   0.1s\n",
      "[CV] C=10, gamma=0.001, kernel=linear ................................\n",
      "[CV] .... C=10, gamma=0.001, kernel=linear, score=0.273, total=   0.1s\n",
      "[CV] C=10, gamma=0.001, kernel=linear ................................\n",
      "[CV] .... C=10, gamma=0.001, kernel=linear, score=0.372, total=   0.1s\n",
      "[CV] C=10, gamma=0.001, kernel=linear ................................\n",
      "[CV] .... C=10, gamma=0.001, kernel=linear, score=0.343, total=   0.1s\n",
      "[CV] C=10, gamma=0.001, kernel=linear ................................\n",
      "[CV] .... C=10, gamma=0.001, kernel=linear, score=0.369, total=   0.1s\n",
      "[CV] C=10, gamma=0.0001, kernel=linear ...............................\n",
      "[CV] ... C=10, gamma=0.0001, kernel=linear, score=0.355, total=   0.1s\n",
      "[CV] C=10, gamma=0.0001, kernel=linear ...............................\n",
      "[CV] ... C=10, gamma=0.0001, kernel=linear, score=0.273, total=   0.1s\n",
      "[CV] C=10, gamma=0.0001, kernel=linear ...............................\n",
      "[CV] ... C=10, gamma=0.0001, kernel=linear, score=0.372, total=   0.1s\n",
      "[CV] C=10, gamma=0.0001, kernel=linear ...............................\n",
      "[CV] ... C=10, gamma=0.0001, kernel=linear, score=0.343, total=   0.1s\n",
      "[CV] C=10, gamma=0.0001, kernel=linear ...............................\n",
      "[CV] ... C=10, gamma=0.0001, kernel=linear, score=0.369, total=   0.1s\n",
      "[CV] C=20, gamma=1, kernel=linear ....................................\n",
      "[CV] ........ C=20, gamma=1, kernel=linear, score=0.355, total=   0.1s\n",
      "[CV] C=20, gamma=1, kernel=linear ....................................\n",
      "[CV] ........ C=20, gamma=1, kernel=linear, score=0.273, total=   0.1s\n",
      "[CV] C=20, gamma=1, kernel=linear ....................................\n",
      "[CV] ........ C=20, gamma=1, kernel=linear, score=0.372, total=   0.1s\n",
      "[CV] C=20, gamma=1, kernel=linear ....................................\n",
      "[CV] ........ C=20, gamma=1, kernel=linear, score=0.339, total=   0.1s\n",
      "[CV] C=20, gamma=1, kernel=linear ....................................\n",
      "[CV] ........ C=20, gamma=1, kernel=linear, score=0.369, total=   0.1s\n",
      "[CV] C=20, gamma=0.1, kernel=linear ..................................\n",
      "[CV] ...... C=20, gamma=0.1, kernel=linear, score=0.355, total=   0.1s\n",
      "[CV] C=20, gamma=0.1, kernel=linear ..................................\n",
      "[CV] ...... C=20, gamma=0.1, kernel=linear, score=0.273, total=   0.1s\n",
      "[CV] C=20, gamma=0.1, kernel=linear ..................................\n",
      "[CV] ...... C=20, gamma=0.1, kernel=linear, score=0.372, total=   0.1s\n",
      "[CV] C=20, gamma=0.1, kernel=linear ..................................\n",
      "[CV] ...... C=20, gamma=0.1, kernel=linear, score=0.339, total=   0.1s\n",
      "[CV] C=20, gamma=0.1, kernel=linear ..................................\n",
      "[CV] ...... C=20, gamma=0.1, kernel=linear, score=0.369, total=   0.1s\n",
      "[CV] C=20, gamma=0.01, kernel=linear .................................\n",
      "[CV] ..... C=20, gamma=0.01, kernel=linear, score=0.355, total=   0.1s\n",
      "[CV] C=20, gamma=0.01, kernel=linear .................................\n",
      "[CV] ..... C=20, gamma=0.01, kernel=linear, score=0.273, total=   0.1s\n",
      "[CV] C=20, gamma=0.01, kernel=linear .................................\n",
      "[CV] ..... C=20, gamma=0.01, kernel=linear, score=0.372, total=   0.1s\n",
      "[CV] C=20, gamma=0.01, kernel=linear .................................\n",
      "[CV] ..... C=20, gamma=0.01, kernel=linear, score=0.339, total=   0.1s\n",
      "[CV] C=20, gamma=0.01, kernel=linear .................................\n",
      "[CV] ..... C=20, gamma=0.01, kernel=linear, score=0.369, total=   0.1s\n",
      "[CV] C=20, gamma=0.001, kernel=linear ................................\n",
      "[CV] .... C=20, gamma=0.001, kernel=linear, score=0.355, total=   0.1s\n",
      "[CV] C=20, gamma=0.001, kernel=linear ................................\n",
      "[CV] .... C=20, gamma=0.001, kernel=linear, score=0.273, total=   0.1s\n",
      "[CV] C=20, gamma=0.001, kernel=linear ................................\n",
      "[CV] .... C=20, gamma=0.001, kernel=linear, score=0.372, total=   0.1s\n",
      "[CV] C=20, gamma=0.001, kernel=linear ................................\n",
      "[CV] .... C=20, gamma=0.001, kernel=linear, score=0.339, total=   0.1s\n",
      "[CV] C=20, gamma=0.001, kernel=linear ................................\n",
      "[CV] .... C=20, gamma=0.001, kernel=linear, score=0.369, total=   0.1s\n",
      "[CV] C=20, gamma=0.0001, kernel=linear ...............................\n",
      "[CV] ... C=20, gamma=0.0001, kernel=linear, score=0.355, total=   0.1s\n",
      "[CV] C=20, gamma=0.0001, kernel=linear ...............................\n",
      "[CV] ... C=20, gamma=0.0001, kernel=linear, score=0.273, total=   0.1s\n",
      "[CV] C=20, gamma=0.0001, kernel=linear ...............................\n",
      "[CV] ... C=20, gamma=0.0001, kernel=linear, score=0.372, total=   0.1s\n",
      "[CV] C=20, gamma=0.0001, kernel=linear ...............................\n",
      "[CV] ... C=20, gamma=0.0001, kernel=linear, score=0.339, total=   0.1s\n",
      "[CV] C=20, gamma=0.0001, kernel=linear ...............................\n",
      "[CV] ... C=20, gamma=0.0001, kernel=linear, score=0.369, total=   0.1s\n",
      "[CV] C=50, gamma=1, kernel=linear ....................................\n",
      "[CV] ........ C=50, gamma=1, kernel=linear, score=0.355, total=   0.2s\n",
      "[CV] C=50, gamma=1, kernel=linear ....................................\n",
      "[CV] ........ C=50, gamma=1, kernel=linear, score=0.273, total=   0.2s\n",
      "[CV] C=50, gamma=1, kernel=linear ....................................\n",
      "[CV] ........ C=50, gamma=1, kernel=linear, score=0.372, total=   0.2s\n",
      "[CV] C=50, gamma=1, kernel=linear ....................................\n",
      "[CV] ........ C=50, gamma=1, kernel=linear, score=0.335, total=   0.2s\n",
      "[CV] C=50, gamma=1, kernel=linear ....................................\n",
      "[CV] ........ C=50, gamma=1, kernel=linear, score=0.369, total=   0.2s\n",
      "[CV] C=50, gamma=0.1, kernel=linear ..................................\n",
      "[CV] ...... C=50, gamma=0.1, kernel=linear, score=0.355, total=   0.2s\n",
      "[CV] C=50, gamma=0.1, kernel=linear ..................................\n",
      "[CV] ...... C=50, gamma=0.1, kernel=linear, score=0.273, total=   0.2s\n",
      "[CV] C=50, gamma=0.1, kernel=linear ..................................\n",
      "[CV] ...... C=50, gamma=0.1, kernel=linear, score=0.372, total=   0.2s\n",
      "[CV] C=50, gamma=0.1, kernel=linear ..................................\n",
      "[CV] ...... C=50, gamma=0.1, kernel=linear, score=0.335, total=   0.1s\n",
      "[CV] C=50, gamma=0.1, kernel=linear ..................................\n",
      "[CV] ...... C=50, gamma=0.1, kernel=linear, score=0.369, total=   0.2s\n",
      "[CV] C=50, gamma=0.01, kernel=linear .................................\n",
      "[CV] ..... C=50, gamma=0.01, kernel=linear, score=0.355, total=   0.2s\n",
      "[CV] C=50, gamma=0.01, kernel=linear .................................\n",
      "[CV] ..... C=50, gamma=0.01, kernel=linear, score=0.273, total=   0.2s\n",
      "[CV] C=50, gamma=0.01, kernel=linear .................................\n",
      "[CV] ..... C=50, gamma=0.01, kernel=linear, score=0.372, total=   0.2s\n",
      "[CV] C=50, gamma=0.01, kernel=linear .................................\n",
      "[CV] ..... C=50, gamma=0.01, kernel=linear, score=0.335, total=   0.2s\n",
      "[CV] C=50, gamma=0.01, kernel=linear .................................\n",
      "[CV] ..... C=50, gamma=0.01, kernel=linear, score=0.369, total=   0.2s\n",
      "[CV] C=50, gamma=0.001, kernel=linear ................................\n",
      "[CV] .... C=50, gamma=0.001, kernel=linear, score=0.355, total=   0.2s\n",
      "[CV] C=50, gamma=0.001, kernel=linear ................................\n",
      "[CV] .... C=50, gamma=0.001, kernel=linear, score=0.273, total=   0.2s\n",
      "[CV] C=50, gamma=0.001, kernel=linear ................................\n",
      "[CV] .... C=50, gamma=0.001, kernel=linear, score=0.372, total=   0.2s\n",
      "[CV] C=50, gamma=0.001, kernel=linear ................................\n",
      "[CV] .... C=50, gamma=0.001, kernel=linear, score=0.335, total=   0.2s\n",
      "[CV] C=50, gamma=0.001, kernel=linear ................................\n",
      "[CV] .... C=50, gamma=0.001, kernel=linear, score=0.369, total=   0.2s\n",
      "[CV] C=50, gamma=0.0001, kernel=linear ...............................\n",
      "[CV] ... C=50, gamma=0.0001, kernel=linear, score=0.355, total=   0.2s\n",
      "[CV] C=50, gamma=0.0001, kernel=linear ...............................\n",
      "[CV] ... C=50, gamma=0.0001, kernel=linear, score=0.273, total=   0.2s\n",
      "[CV] C=50, gamma=0.0001, kernel=linear ...............................\n",
      "[CV] ... C=50, gamma=0.0001, kernel=linear, score=0.372, total=   0.2s\n",
      "[CV] C=50, gamma=0.0001, kernel=linear ...............................\n",
      "[CV] ... C=50, gamma=0.0001, kernel=linear, score=0.335, total=   0.2s\n",
      "[CV] C=50, gamma=0.0001, kernel=linear ...............................\n",
      "[CV] ... C=50, gamma=0.0001, kernel=linear, score=0.369, total=   0.2s\n",
      "[CV] C=60, gamma=1, kernel=linear ....................................\n",
      "[CV] ........ C=60, gamma=1, kernel=linear, score=0.351, total=   0.2s\n",
      "[CV] C=60, gamma=1, kernel=linear ....................................\n",
      "[CV] ........ C=60, gamma=1, kernel=linear, score=0.273, total=   0.2s\n",
      "[CV] C=60, gamma=1, kernel=linear ....................................\n",
      "[CV] ........ C=60, gamma=1, kernel=linear, score=0.372, total=   0.2s\n",
      "[CV] C=60, gamma=1, kernel=linear ....................................\n",
      "[CV] ........ C=60, gamma=1, kernel=linear, score=0.331, total=   0.2s\n",
      "[CV] C=60, gamma=1, kernel=linear ....................................\n",
      "[CV] ........ C=60, gamma=1, kernel=linear, score=0.369, total=   0.2s\n",
      "[CV] C=60, gamma=0.1, kernel=linear ..................................\n",
      "[CV] ...... C=60, gamma=0.1, kernel=linear, score=0.351, total=   0.2s\n",
      "[CV] C=60, gamma=0.1, kernel=linear ..................................\n",
      "[CV] ...... C=60, gamma=0.1, kernel=linear, score=0.273, total=   0.2s\n",
      "[CV] C=60, gamma=0.1, kernel=linear ..................................\n",
      "[CV] ...... C=60, gamma=0.1, kernel=linear, score=0.372, total=   0.2s\n",
      "[CV] C=60, gamma=0.1, kernel=linear ..................................\n",
      "[CV] ...... C=60, gamma=0.1, kernel=linear, score=0.331, total=   0.2s\n",
      "[CV] C=60, gamma=0.1, kernel=linear ..................................\n",
      "[CV] ...... C=60, gamma=0.1, kernel=linear, score=0.369, total=   0.2s\n",
      "[CV] C=60, gamma=0.01, kernel=linear .................................\n",
      "[CV] ..... C=60, gamma=0.01, kernel=linear, score=0.351, total=   0.2s\n",
      "[CV] C=60, gamma=0.01, kernel=linear .................................\n",
      "[CV] ..... C=60, gamma=0.01, kernel=linear, score=0.273, total=   0.2s\n",
      "[CV] C=60, gamma=0.01, kernel=linear .................................\n",
      "[CV] ..... C=60, gamma=0.01, kernel=linear, score=0.372, total=   0.2s\n",
      "[CV] C=60, gamma=0.01, kernel=linear .................................\n",
      "[CV] ..... C=60, gamma=0.01, kernel=linear, score=0.331, total=   0.2s\n",
      "[CV] C=60, gamma=0.01, kernel=linear .................................\n",
      "[CV] ..... C=60, gamma=0.01, kernel=linear, score=0.369, total=   0.2s\n",
      "[CV] C=60, gamma=0.001, kernel=linear ................................\n",
      "[CV] .... C=60, gamma=0.001, kernel=linear, score=0.351, total=   0.2s\n",
      "[CV] C=60, gamma=0.001, kernel=linear ................................\n",
      "[CV] .... C=60, gamma=0.001, kernel=linear, score=0.273, total=   0.2s\n",
      "[CV] C=60, gamma=0.001, kernel=linear ................................\n",
      "[CV] .... C=60, gamma=0.001, kernel=linear, score=0.372, total=   0.2s\n",
      "[CV] C=60, gamma=0.001, kernel=linear ................................\n",
      "[CV] .... C=60, gamma=0.001, kernel=linear, score=0.331, total=   0.2s\n",
      "[CV] C=60, gamma=0.001, kernel=linear ................................\n",
      "[CV] .... C=60, gamma=0.001, kernel=linear, score=0.369, total=   0.2s\n",
      "[CV] C=60, gamma=0.0001, kernel=linear ...............................\n",
      "[CV] ... C=60, gamma=0.0001, kernel=linear, score=0.351, total=   0.2s\n",
      "[CV] C=60, gamma=0.0001, kernel=linear ...............................\n",
      "[CV] ... C=60, gamma=0.0001, kernel=linear, score=0.273, total=   0.2s\n",
      "[CV] C=60, gamma=0.0001, kernel=linear ...............................\n",
      "[CV] ... C=60, gamma=0.0001, kernel=linear, score=0.372, total=   0.2s\n",
      "[CV] C=60, gamma=0.0001, kernel=linear ...............................\n",
      "[CV] ... C=60, gamma=0.0001, kernel=linear, score=0.331, total=   0.2s\n",
      "[CV] C=60, gamma=0.0001, kernel=linear ...............................\n",
      "[CV] ... C=60, gamma=0.0001, kernel=linear, score=0.369, total=   0.2s\n",
      "[CV] C=70, gamma=1, kernel=linear ....................................\n",
      "[CV] ........ C=70, gamma=1, kernel=linear, score=0.351, total=   0.2s\n",
      "[CV] C=70, gamma=1, kernel=linear ....................................\n",
      "[CV] ........ C=70, gamma=1, kernel=linear, score=0.273, total=   0.2s\n",
      "[CV] C=70, gamma=1, kernel=linear ....................................\n",
      "[CV] ........ C=70, gamma=1, kernel=linear, score=0.372, total=   0.2s\n",
      "[CV] C=70, gamma=1, kernel=linear ....................................\n",
      "[CV] ........ C=70, gamma=1, kernel=linear, score=0.343, total=   0.2s\n",
      "[CV] C=70, gamma=1, kernel=linear ....................................\n",
      "[CV] ........ C=70, gamma=1, kernel=linear, score=0.369, total=   0.3s\n",
      "[CV] C=70, gamma=0.1, kernel=linear ..................................\n",
      "[CV] ...... C=70, gamma=0.1, kernel=linear, score=0.351, total=   0.2s\n",
      "[CV] C=70, gamma=0.1, kernel=linear ..................................\n",
      "[CV] ...... C=70, gamma=0.1, kernel=linear, score=0.273, total=   0.2s\n",
      "[CV] C=70, gamma=0.1, kernel=linear ..................................\n",
      "[CV] ...... C=70, gamma=0.1, kernel=linear, score=0.372, total=   0.2s\n",
      "[CV] C=70, gamma=0.1, kernel=linear ..................................\n",
      "[CV] ...... C=70, gamma=0.1, kernel=linear, score=0.343, total=   0.2s\n",
      "[CV] C=70, gamma=0.1, kernel=linear ..................................\n",
      "[CV] ...... C=70, gamma=0.1, kernel=linear, score=0.369, total=   0.3s\n",
      "[CV] C=70, gamma=0.01, kernel=linear .................................\n",
      "[CV] ..... C=70, gamma=0.01, kernel=linear, score=0.351, total=   0.2s\n",
      "[CV] C=70, gamma=0.01, kernel=linear .................................\n",
      "[CV] ..... C=70, gamma=0.01, kernel=linear, score=0.273, total=   0.2s\n",
      "[CV] C=70, gamma=0.01, kernel=linear .................................\n",
      "[CV] ..... C=70, gamma=0.01, kernel=linear, score=0.372, total=   0.2s\n",
      "[CV] C=70, gamma=0.01, kernel=linear .................................\n",
      "[CV] ..... C=70, gamma=0.01, kernel=linear, score=0.343, total=   0.2s\n",
      "[CV] C=70, gamma=0.01, kernel=linear .................................\n",
      "[CV] ..... C=70, gamma=0.01, kernel=linear, score=0.369, total=   0.2s\n",
      "[CV] C=70, gamma=0.001, kernel=linear ................................\n",
      "[CV] .... C=70, gamma=0.001, kernel=linear, score=0.351, total=   0.3s\n",
      "[CV] C=70, gamma=0.001, kernel=linear ................................\n",
      "[CV] .... C=70, gamma=0.001, kernel=linear, score=0.273, total=   0.2s\n",
      "[CV] C=70, gamma=0.001, kernel=linear ................................\n",
      "[CV] .... C=70, gamma=0.001, kernel=linear, score=0.372, total=   0.2s\n",
      "[CV] C=70, gamma=0.001, kernel=linear ................................\n",
      "[CV] .... C=70, gamma=0.001, kernel=linear, score=0.343, total=   0.2s\n",
      "[CV] C=70, gamma=0.001, kernel=linear ................................\n",
      "[CV] .... C=70, gamma=0.001, kernel=linear, score=0.369, total=   0.2s\n",
      "[CV] C=70, gamma=0.0001, kernel=linear ...............................\n",
      "[CV] ... C=70, gamma=0.0001, kernel=linear, score=0.351, total=   0.2s\n",
      "[CV] C=70, gamma=0.0001, kernel=linear ...............................\n",
      "[CV] ... C=70, gamma=0.0001, kernel=linear, score=0.273, total=   0.2s\n",
      "[CV] C=70, gamma=0.0001, kernel=linear ...............................\n",
      "[CV] ... C=70, gamma=0.0001, kernel=linear, score=0.372, total=   0.2s\n",
      "[CV] C=70, gamma=0.0001, kernel=linear ...............................\n",
      "[CV] ... C=70, gamma=0.0001, kernel=linear, score=0.343, total=   0.2s\n",
      "[CV] C=70, gamma=0.0001, kernel=linear ...............................\n",
      "[CV] ... C=70, gamma=0.0001, kernel=linear, score=0.369, total=   0.2s\n",
      "[CV] C=100, gamma=1, kernel=linear ...................................\n",
      "[CV] ....... C=100, gamma=1, kernel=linear, score=0.351, total=   0.3s\n",
      "[CV] C=100, gamma=1, kernel=linear ...................................\n",
      "[CV] ....... C=100, gamma=1, kernel=linear, score=0.273, total=   0.3s\n",
      "[CV] C=100, gamma=1, kernel=linear ...................................\n",
      "[CV] ....... C=100, gamma=1, kernel=linear, score=0.372, total=   0.3s\n",
      "[CV] C=100, gamma=1, kernel=linear ...................................\n",
      "[CV] ....... C=100, gamma=1, kernel=linear, score=0.343, total=   0.3s\n",
      "[CV] C=100, gamma=1, kernel=linear ...................................\n",
      "[CV] ....... C=100, gamma=1, kernel=linear, score=0.369, total=   0.3s\n",
      "[CV] C=100, gamma=0.1, kernel=linear .................................\n",
      "[CV] ..... C=100, gamma=0.1, kernel=linear, score=0.351, total=   0.3s\n",
      "[CV] C=100, gamma=0.1, kernel=linear .................................\n",
      "[CV] ..... C=100, gamma=0.1, kernel=linear, score=0.273, total=   0.3s\n",
      "[CV] C=100, gamma=0.1, kernel=linear .................................\n",
      "[CV] ..... C=100, gamma=0.1, kernel=linear, score=0.372, total=   0.3s\n",
      "[CV] C=100, gamma=0.1, kernel=linear .................................\n",
      "[CV] ..... C=100, gamma=0.1, kernel=linear, score=0.343, total=   0.3s\n",
      "[CV] C=100, gamma=0.1, kernel=linear .................................\n",
      "[CV] ..... C=100, gamma=0.1, kernel=linear, score=0.369, total=   0.3s\n",
      "[CV] C=100, gamma=0.01, kernel=linear ................................\n",
      "[CV] .... C=100, gamma=0.01, kernel=linear, score=0.351, total=   0.3s\n",
      "[CV] C=100, gamma=0.01, kernel=linear ................................\n",
      "[CV] .... C=100, gamma=0.01, kernel=linear, score=0.273, total=   0.3s\n",
      "[CV] C=100, gamma=0.01, kernel=linear ................................\n",
      "[CV] .... C=100, gamma=0.01, kernel=linear, score=0.372, total=   0.3s\n",
      "[CV] C=100, gamma=0.01, kernel=linear ................................\n",
      "[CV] .... C=100, gamma=0.01, kernel=linear, score=0.343, total=   0.3s\n",
      "[CV] C=100, gamma=0.01, kernel=linear ................................\n",
      "[CV] .... C=100, gamma=0.01, kernel=linear, score=0.369, total=   0.3s\n",
      "[CV] C=100, gamma=0.001, kernel=linear ...............................\n",
      "[CV] ... C=100, gamma=0.001, kernel=linear, score=0.351, total=   0.3s\n",
      "[CV] C=100, gamma=0.001, kernel=linear ...............................\n",
      "[CV] ... C=100, gamma=0.001, kernel=linear, score=0.273, total=   0.3s\n",
      "[CV] C=100, gamma=0.001, kernel=linear ...............................\n",
      "[CV] ... C=100, gamma=0.001, kernel=linear, score=0.372, total=   0.3s\n",
      "[CV] C=100, gamma=0.001, kernel=linear ...............................\n",
      "[CV] ... C=100, gamma=0.001, kernel=linear, score=0.343, total=   0.3s\n",
      "[CV] C=100, gamma=0.001, kernel=linear ...............................\n",
      "[CV] ... C=100, gamma=0.001, kernel=linear, score=0.369, total=   0.3s\n",
      "[CV] C=100, gamma=0.0001, kernel=linear ..............................\n",
      "[CV] .. C=100, gamma=0.0001, kernel=linear, score=0.351, total=   0.3s\n",
      "[CV] C=100, gamma=0.0001, kernel=linear ..............................\n",
      "[CV] .. C=100, gamma=0.0001, kernel=linear, score=0.273, total=   0.3s\n",
      "[CV] C=100, gamma=0.0001, kernel=linear ..............................\n",
      "[CV] .. C=100, gamma=0.0001, kernel=linear, score=0.372, total=   0.3s\n",
      "[CV] C=100, gamma=0.0001, kernel=linear ..............................\n",
      "[CV] .. C=100, gamma=0.0001, kernel=linear, score=0.343, total=   0.3s\n",
      "[CV] C=100, gamma=0.0001, kernel=linear ..............................\n",
      "[CV] .. C=100, gamma=0.0001, kernel=linear, score=0.369, total=   0.3s\n"
     ]
    },
    {
     "output_type": "stream",
     "name": "stderr",
     "text": [
      "[Parallel(n_jobs=1)]: Done 150 out of 150 | elapsed:   26.3s finished\n"
     ]
    },
    {
     "output_type": "execute_result",
     "data": {
      "text/plain": [
       "GridSearchCV(estimator=SVC(),\n",
       "             param_grid={'C': [10, 20, 50, 60, 70, 100],\n",
       "                         'gamma': [1, 0.1, 0.01, 0.001, 0.0001],\n",
       "                         'kernel': ['linear']},\n",
       "             verbose=3)"
      ]
     },
     "metadata": {},
     "execution_count": 34
    }
   ],
   "metadata": {
    "scrolled": true
   }
  },
  {
   "cell_type": "code",
   "execution_count": 35,
   "source": [
    "# print best parameter after tuning \n",
    "print(grid_svm.best_params_) \n",
    "  \n",
    "# print how our model looks after hyper-parameter tuning \n",
    "print(grid_svm.best_estimator_) "
   ],
   "outputs": [
    {
     "output_type": "stream",
     "name": "stdout",
     "text": [
      "{'C': 10, 'gamma': 1, 'kernel': 'linear'}\n",
      "SVC(C=10, gamma=1, kernel='linear')\n"
     ]
    }
   ],
   "metadata": {}
  },
  {
   "cell_type": "code",
   "execution_count": 36,
   "source": [
    "model_svm_linear_gs = SVC(kernel='linear', C=10, gamma=1)\n",
    "model_svm_linear_gs.fit(X_train, y_train)\n",
    "y_pred_svm_linear_gs = model_svm_linear_gs.predict(X_test)\n",
    "\n",
    "results(\"Linear SVM GridSearch (C=10, gamma=1)\", y_pred_svm_linear_gs)"
   ],
   "outputs": [
    {
     "output_type": "stream",
     "name": "stdout",
     "text": [
      "Accuracy: 0.33140655105973027\n",
      "Precision: 0.33140655105973027\n",
      "Recall: 0.33140655105973027\n",
      "Confusion Matrix: [[72 16 18 21]\n",
      " [68 20 24 21]\n",
      " [43 12 32 37]\n",
      " [43  1 43 48]]\n"
     ]
    },
    {
     "output_type": "display_data",
     "data": {
      "image/png": "[encoded data removed]",
      "text/plain": [
       "<Figure size 432x288 with 2 Axes>"
      ]
     },
     "metadata": {
      "needs_background": "light"
     }
    }
   ],
   "metadata": {}
  },
  {
   "cell_type": "markdown",
   "source": [
    "### Summary of Results"
   ],
   "metadata": {}
  },
  {
   "cell_type": "code",
   "execution_count": 37,
   "source": [
    "results = pd.DataFrame({\"model\": log_model, \n",
    "              \"accuracy\": log_accuracy, \n",
    "              \"precision\": log_precision, \n",
    "              \"recall\": log_recall, \n",
    "              \"cnf_matrix\": log_cnf_matrix})"
   ],
   "outputs": [],
   "metadata": {}
  },
  {
   "cell_type": "code",
   "execution_count": 38,
   "source": [
    "results.sort_values(by='accuracy', ascending=False)"
   ],
   "outputs": [
    {
     "output_type": "execute_result",
     "data": {
      "text/html": [
       "<div>\n",
       "<style scoped>\n",
       "    .dataframe tbody tr th:only-of-type {\n",
       "        vertical-align: middle;\n",
       "    }\n",
       "\n",
       "    .dataframe tbody tr th {\n",
       "        vertical-align: top;\n",
       "    }\n",
       "\n",
       "    .dataframe thead th {\n",
       "        text-align: right;\n",
       "    }\n",
       "</style>\n",
       "<table border=\"1\" class=\"dataframe\">\n",
       "  <thead>\n",
       "    <tr style=\"text-align: right;\">\n",
       "      <th></th>\n",
       "      <th>model</th>\n",
       "      <th>accuracy</th>\n",
       "      <th>precision</th>\n",
       "      <th>recall</th>\n",
       "      <th>cnf_matrix</th>\n",
       "    </tr>\n",
       "  </thead>\n",
       "  <tbody>\n",
       "    <tr>\n",
       "      <th>5</th>\n",
       "      <td>Linear SVM</td>\n",
       "      <td>0.333333</td>\n",
       "      <td>0.333333</td>\n",
       "      <td>0.333333</td>\n",
       "      <td>[[72, 16, 18, 21], [68, 20, 25, 20], [43, 12, ...</td>\n",
       "    </tr>\n",
       "    <tr>\n",
       "      <th>6</th>\n",
       "      <td>Linear SVM GridSearch (C=10, gamma=1)</td>\n",
       "      <td>0.331407</td>\n",
       "      <td>0.331407</td>\n",
       "      <td>0.331407</td>\n",
       "      <td>[[72, 16, 18, 21], [68, 20, 24, 21], [43, 12, ...</td>\n",
       "    </tr>\n",
       "    <tr>\n",
       "      <th>0</th>\n",
       "      <td>Logistic Regression</td>\n",
       "      <td>0.329480</td>\n",
       "      <td>0.329480</td>\n",
       "      <td>0.329480</td>\n",
       "      <td>[[63, 22, 22, 20], [57, 23, 31, 22], [35, 14, ...</td>\n",
       "    </tr>\n",
       "    <tr>\n",
       "      <th>1</th>\n",
       "      <td>Logistic Regression GridSearch (C=1, penalty='...</td>\n",
       "      <td>0.329480</td>\n",
       "      <td>0.329480</td>\n",
       "      <td>0.329480</td>\n",
       "      <td>[[63, 22, 22, 20], [57, 23, 31, 22], [35, 14, ...</td>\n",
       "    </tr>\n",
       "    <tr>\n",
       "      <th>3</th>\n",
       "      <td>Gradient Boosting</td>\n",
       "      <td>0.319846</td>\n",
       "      <td>0.319846</td>\n",
       "      <td>0.319846</td>\n",
       "      <td>[[54, 0, 73, 0], [36, 0, 97, 0], [23, 0, 101, ...</td>\n",
       "    </tr>\n",
       "    <tr>\n",
       "      <th>2</th>\n",
       "      <td>Gradient Boosting</td>\n",
       "      <td>0.115607</td>\n",
       "      <td>0.115607</td>\n",
       "      <td>0.115607</td>\n",
       "      <td>[[16, 57, 26, 28], [50, 8, 44, 31], [28, 32, 1...</td>\n",
       "    </tr>\n",
       "    <tr>\n",
       "      <th>4</th>\n",
       "      <td>Random Forest</td>\n",
       "      <td>0.077071</td>\n",
       "      <td>0.077071</td>\n",
       "      <td>0.077071</td>\n",
       "      <td>[[12, 57, 37, 21], [55, 3, 52, 23], [21, 42, 6...</td>\n",
       "    </tr>\n",
       "  </tbody>\n",
       "</table>\n",
       "</div>"
      ],
      "text/plain": [
       "                                               model  accuracy  precision  \\\n",
       "5                                         Linear SVM  0.333333   0.333333   \n",
       "6              Linear SVM GridSearch (C=10, gamma=1)  0.331407   0.331407   \n",
       "0                                Logistic Regression  0.329480   0.329480   \n",
       "1  Logistic Regression GridSearch (C=1, penalty='...  0.329480   0.329480   \n",
       "3                                  Gradient Boosting  0.319846   0.319846   \n",
       "2                                  Gradient Boosting  0.115607   0.115607   \n",
       "4                                      Random Forest  0.077071   0.077071   \n",
       "\n",
       "     recall                                         cnf_matrix  \n",
       "5  0.333333  [[72, 16, 18, 21], [68, 20, 25, 20], [43, 12, ...  \n",
       "6  0.331407  [[72, 16, 18, 21], [68, 20, 24, 21], [43, 12, ...  \n",
       "0  0.329480  [[63, 22, 22, 20], [57, 23, 31, 22], [35, 14, ...  \n",
       "1  0.329480  [[63, 22, 22, 20], [57, 23, 31, 22], [35, 14, ...  \n",
       "3  0.319846  [[54, 0, 73, 0], [36, 0, 97, 0], [23, 0, 101, ...  \n",
       "2  0.115607  [[16, 57, 26, 28], [50, 8, 44, 31], [28, 32, 1...  \n",
       "4  0.077071  [[12, 57, 37, 21], [55, 3, 52, 23], [21, 42, 6...  "
      ]
     },
     "metadata": {},
     "execution_count": 38
    }
   ],
   "metadata": {}
  },
  {
   "cell_type": "markdown",
   "source": [
    "## Predict new data\n"
   ],
   "metadata": {}
  },
  {
   "cell_type": "markdown",
   "source": [
    "### Data given: Maintenance = High Number of doors = 4 Lug Boot Size = Big Safety = High Class Value = Good\n",
    "### Note: We can see that persons has been intentionally left missing, we will have to fill it up with the different values to estimate buying price"
   ],
   "metadata": {}
  },
  {
   "cell_type": "markdown",
   "source": [
    "#### Linear SVM"
   ],
   "metadata": {}
  },
  {
   "cell_type": "code",
   "execution_count": 74,
   "source": [
    "input_data = pd.DataFrame({\"maint\":[2], \"doors\":[4], \"persons\": [5], \"lug_boot\": [1], \"safety\": [1], \"class\": [2]})"
   ],
   "outputs": [],
   "metadata": {}
  },
  {
   "cell_type": "code",
   "execution_count": 75,
   "source": [
    "model_svm_linear.predict(input_data)"
   ],
   "outputs": [
    {
     "output_type": "execute_result",
     "data": {
      "text/plain": [
       "array([3])"
      ]
     },
     "metadata": {},
     "execution_count": 75
    }
   ],
   "metadata": {}
  },
  {
   "cell_type": "markdown",
   "source": [
    "#### Linear SVM GridSearch"
   ],
   "metadata": {}
  },
  {
   "cell_type": "code",
   "execution_count": 76,
   "source": [
    "model_svm_linear_gs.predict(input_data)"
   ],
   "outputs": [
    {
     "output_type": "execute_result",
     "data": {
      "text/plain": [
       "array([3])"
      ]
     },
     "metadata": {},
     "execution_count": 76
    }
   ],
   "metadata": {}
  },
  {
   "cell_type": "markdown",
   "source": [
    "#### Logistic Regression"
   ],
   "metadata": {}
  },
  {
   "cell_type": "code",
   "execution_count": 77,
   "source": [
    "model_logreg.predict(input_data)"
   ],
   "outputs": [
    {
     "output_type": "execute_result",
     "data": {
      "text/plain": [
       "array([3])"
      ]
     },
     "metadata": {},
     "execution_count": 77
    }
   ],
   "metadata": {}
  },
  {
   "cell_type": "code",
   "execution_count": 78,
   "source": [
    "model_gb_cv.predict(input_data)"
   ],
   "outputs": [
    {
     "output_type": "execute_result",
     "data": {
      "text/plain": [
       "array([4])"
      ]
     },
     "metadata": {},
     "execution_count": 78
    }
   ],
   "metadata": {}
  },
  {
   "cell_type": "markdown",
   "source": [
    "Conclusion: if persons is 2 and 4, buyprice is low. If persons >5, buyprice is medium.\n",
    "\n",
    "Buying classes <br>\n",
    "1 - vhigh <br>\n",
    "2 - high <br>\n",
    "3 - med <br>\n",
    "4 - low <br>"
   ],
   "metadata": {}
  }
 ],
 "metadata": {
  "interpreter": {
   "hash": "0fcdcc15c19eb8a1b50217d971eb563189d13a6dc3a2f5aeef960c66bb109ac9"
  },
  "kernelspec": {
   "display_name": "Python 3",
   "language": "python",
   "name": "python3"
  },
  "language_info": {
   "codemirror_mode": {
    "name": "ipython",
    "version": 3
   },
   "file_extension": ".py",
   "mimetype": "text/x-python",
   "name": "python",
   "nbconvert_exporter": "python",
   "pygments_lexer": "ipython3",
   "version": "3.8.3"
  }
 },
 "nbformat": 4,
 "nbformat_minor": 5
}